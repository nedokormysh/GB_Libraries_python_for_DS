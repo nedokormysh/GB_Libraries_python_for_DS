{
  "nbformat": 4,
  "nbformat_minor": 0,
  "metadata": {
    "colab": {
      "name": "Libraries_python_DS_CourseWork_dirty.ipynb",
      "provenance": [],
      "collapsed_sections": [
        "esTE8m3m7LCk",
        "s3hAes6i2yz9",
        "sNZn8qcxUkWL",
        "7vLgZxRarNfx",
        "jD7WqGzSOwon",
        "zcRNLyG6Q7bT",
        "FecRX75F7rHL",
        "aCpQJlLHCtRs",
        "Q-PYUmx4tLyY",
        "8N4TDxAXgb7w"
      ],
      "mount_file_id": "https://github.com/nedokormysh/GB_Libraries_python_for_DS/blob/CourseProject/Libraries_python_DS_CourseWork_dirty.ipynb",
      "authorship_tag": "ABX9TyOOwEgPUHYc1ppw6ikaqs4Z",
      "include_colab_link": true
    },
    "kernelspec": {
      "name": "python3",
      "display_name": "Python 3"
    },
    "language_info": {
      "name": "python"
    }
  },
  "cells": [
    {
      "cell_type": "markdown",
      "metadata": {
        "id": "view-in-github",
        "colab_type": "text"
      },
      "source": [
        "<a href=\"https://colab.research.google.com/github/nedokormysh/GB_Libraries_python_for_DS/blob/CourseProject/Libraries_python_DS_CourseWork_dirty.ipynb\" target=\"_parent\"><img src=\"https://colab.research.google.com/assets/colab-badge.svg\" alt=\"Open In Colab\"/></a>"
      ]
    },
    {
      "cell_type": "markdown",
      "source": [
        "Подключение библиотек"
      ],
      "metadata": {
        "id": "kjEIG45ZJSf7"
      }
    },
    {
      "cell_type": "code",
      "execution_count": 1,
      "metadata": {
        "id": "HcJTnjonlVTe"
      },
      "outputs": [],
      "source": [
        "# Основные библиотеки\n",
        "import numpy as np\n",
        "import pandas as pd\n",
        "import random\n",
        "\n",
        "import matplotlib\n",
        "import matplotlib.pyplot as plt\n",
        "import seaborn as sns\n",
        "%matplotlib inline"
      ]
    },
    {
      "cell_type": "code",
      "source": [
        "import warnings\n",
        "warnings.filterwarnings('ignore')"
      ],
      "metadata": {
        "id": "aNAdPmWGJKsV"
      },
      "execution_count": 2,
      "outputs": []
    },
    {
      "cell_type": "code",
      "source": [
        "# Метрика качества\n",
        "from sklearn.metrics import r2_score as r2\n",
        "\n",
        "from scipy.stats import mode\n",
        "\n",
        "# Разделение датасета\n",
        "from sklearn.model_selection import train_test_split, cross_val_score\n",
        "\n",
        "\n",
        "from sklearn.linear_model import LinearRegression\n",
        "from sklearn.tree import DecisionTreeRegressor, plot_tree\n",
        "from sklearn.ensemble import RandomForestRegressor, GradientBoostingRegressor\n",
        "from sklearn.preprocessing import StandardScaler"
      ],
      "metadata": {
        "id": "hsqSBjCdJHjV"
      },
      "execution_count": 3,
      "outputs": []
    },
    {
      "cell_type": "code",
      "source": [
        "from google.colab import drive\n",
        "drive.mount('/content/drive')"
      ],
      "metadata": {
        "colab": {
          "base_uri": "https://localhost:8080/"
        },
        "id": "H85Luqcarqgw",
        "outputId": "a9a14802-7eb1-4e7a-b2a5-a1dd65656e70"
      },
      "execution_count": 4,
      "outputs": [
        {
          "output_type": "stream",
          "name": "stdout",
          "text": [
            "Mounted at /content/drive\n"
          ]
        }
      ]
    },
    {
      "cell_type": "markdown",
      "source": [
        "Оптимизация данных"
      ],
      "metadata": {
        "id": "M0NDLdNe__g1"
      }
    },
    {
      "cell_type": "code",
      "source": [
        "def optimizing_df(df):\n",
        "    for col in df.columns:\n",
        "        if df[col].dtypes.kind == 'i' or df[col].dtypes.kind == 'u':\n",
        "            if df[col].min() >= 0:\n",
        "                df[col] = pd.to_numeric(df[col], downcast='unsigned')\n",
        "            else:\n",
        "                df[col] = pd.to_numeric(df[col], downcast='integer')\n",
        "\n",
        "        elif df[col].dtypes.kind == 'f' or df[col].dtypes.kind == 'c':\n",
        "            df[col] = pd.to_numeric(df[col], downcast='float')\n",
        "\n",
        "        elif df[col].dtypes.kind == 'O':\n",
        "            num_unique_values = len(df[col].unique())\n",
        "            num_total_values = len(df[col])\n",
        "            if num_unique_values / num_total_values < 0.5:\n",
        "                df[col] = df[col].astype('category')\n",
        "\n",
        "    return df"
      ],
      "metadata": {
        "id": "B5uQrJFf_-nH"
      },
      "execution_count": 5,
      "outputs": []
    },
    {
      "cell_type": "markdown",
      "source": [
        "# **Загрузка, предобработка данных**"
      ],
      "metadata": {
        "id": "grx-ojXJy6yb"
      }
    },
    {
      "cell_type": "markdown",
      "source": [
        "## Функция подсчёта метрик"
      ],
      "metadata": {
        "id": "esTE8m3m7LCk"
      }
    },
    {
      "cell_type": "code",
      "source": [
        "def evaluate_preds(train_true_values, train_pred_values, test_true_values, test_pred_values):\n",
        "    print(\"Train R2:\\t\" + str(round(r2(train_true_values, train_pred_values), 3)))\n",
        "    print(\"Test R2:\\t\" + str(round(r2(test_true_values, test_pred_values), 3)))\n",
        "    \n",
        "    plt.figure(figsize=(18,10))\n",
        "    \n",
        "    plt.subplot(121)\n",
        "    sns.scatterplot(x=train_pred_values, y=train_true_values)\n",
        "    plt.xlabel('Predicted values')\n",
        "    plt.ylabel('True values')\n",
        "    plt.title('Train sample prediction')\n",
        "    \n",
        "    plt.subplot(122)\n",
        "    sns.scatterplot(x=test_pred_values, y=test_true_values)\n",
        "    plt.xlabel('Predicted values')\n",
        "    plt.ylabel('True values')\n",
        "    plt.title('Test sample prediction')\n",
        "\n",
        "    plt.show()"
      ],
      "metadata": {
        "id": "rtlu7LcZHyt6"
      },
      "execution_count": 6,
      "outputs": []
    },
    {
      "cell_type": "markdown",
      "source": [
        "## Загрузка данных"
      ],
      "metadata": {
        "id": "iJQcPVMm7VwG"
      }
    },
    {
      "cell_type": "code",
      "source": [
        "TRAIN_DATASET_PATH = '/content/drive/MyDrive/Libraries_python_DS_CourseWork/train.csv'\n",
        "TEST_DATASET_PATH = '/content/drive/MyDrive/Libraries_python_DS_CourseWork/test.csv'\n",
        "SAMPLE_DATASET_PATH = '/content/drive/MyDrive/Libraries_python_DS_CourseWork/sample_submission.csv'"
      ],
      "metadata": {
        "id": "zzqbDfQbxpeB"
      },
      "execution_count": 7,
      "outputs": []
    },
    {
      "cell_type": "code",
      "source": [
        "df_train = pd.read_csv(TRAIN_DATASET_PATH, sep=',')\n",
        "df_train.head()"
      ],
      "metadata": {
        "colab": {
          "base_uri": "https://localhost:8080/",
          "height": 206
        },
        "id": "-UTZigVsydaJ",
        "outputId": "5aeae51c-d528-428d-854d-ef0f2cc861fd"
      },
      "execution_count": 8,
      "outputs": [
        {
          "output_type": "execute_result",
          "data": {
            "text/html": [
              "\n",
              "  <div id=\"df-e91a9981-b222-44a8-a1e0-2623f74c42c8\">\n",
              "    <div class=\"colab-df-container\">\n",
              "      <div>\n",
              "<style scoped>\n",
              "    .dataframe tbody tr th:only-of-type {\n",
              "        vertical-align: middle;\n",
              "    }\n",
              "\n",
              "    .dataframe tbody tr th {\n",
              "        vertical-align: top;\n",
              "    }\n",
              "\n",
              "    .dataframe thead th {\n",
              "        text-align: right;\n",
              "    }\n",
              "</style>\n",
              "<table border=\"1\" class=\"dataframe\">\n",
              "  <thead>\n",
              "    <tr style=\"text-align: right;\">\n",
              "      <th></th>\n",
              "      <th>Id</th>\n",
              "      <th>DistrictId</th>\n",
              "      <th>Rooms</th>\n",
              "      <th>Square</th>\n",
              "      <th>LifeSquare</th>\n",
              "      <th>KitchenSquare</th>\n",
              "      <th>Floor</th>\n",
              "      <th>HouseFloor</th>\n",
              "      <th>HouseYear</th>\n",
              "      <th>Ecology_1</th>\n",
              "      <th>Ecology_2</th>\n",
              "      <th>Ecology_3</th>\n",
              "      <th>Social_1</th>\n",
              "      <th>Social_2</th>\n",
              "      <th>Social_3</th>\n",
              "      <th>Healthcare_1</th>\n",
              "      <th>Helthcare_2</th>\n",
              "      <th>Shops_1</th>\n",
              "      <th>Shops_2</th>\n",
              "      <th>Price</th>\n",
              "    </tr>\n",
              "  </thead>\n",
              "  <tbody>\n",
              "    <tr>\n",
              "      <th>0</th>\n",
              "      <td>11809</td>\n",
              "      <td>27</td>\n",
              "      <td>3.0</td>\n",
              "      <td>115.027311</td>\n",
              "      <td>NaN</td>\n",
              "      <td>10.0</td>\n",
              "      <td>4</td>\n",
              "      <td>10.0</td>\n",
              "      <td>2014</td>\n",
              "      <td>0.075424</td>\n",
              "      <td>B</td>\n",
              "      <td>B</td>\n",
              "      <td>11</td>\n",
              "      <td>3097</td>\n",
              "      <td>0</td>\n",
              "      <td>NaN</td>\n",
              "      <td>0</td>\n",
              "      <td>0</td>\n",
              "      <td>B</td>\n",
              "      <td>305018.871089</td>\n",
              "    </tr>\n",
              "    <tr>\n",
              "      <th>1</th>\n",
              "      <td>3013</td>\n",
              "      <td>22</td>\n",
              "      <td>1.0</td>\n",
              "      <td>39.832524</td>\n",
              "      <td>23.169223</td>\n",
              "      <td>8.0</td>\n",
              "      <td>7</td>\n",
              "      <td>8.0</td>\n",
              "      <td>1966</td>\n",
              "      <td>0.118537</td>\n",
              "      <td>B</td>\n",
              "      <td>B</td>\n",
              "      <td>30</td>\n",
              "      <td>6207</td>\n",
              "      <td>1</td>\n",
              "      <td>1183.0</td>\n",
              "      <td>1</td>\n",
              "      <td>0</td>\n",
              "      <td>B</td>\n",
              "      <td>177734.553407</td>\n",
              "    </tr>\n",
              "    <tr>\n",
              "      <th>2</th>\n",
              "      <td>8215</td>\n",
              "      <td>1</td>\n",
              "      <td>3.0</td>\n",
              "      <td>78.342215</td>\n",
              "      <td>47.671972</td>\n",
              "      <td>10.0</td>\n",
              "      <td>2</td>\n",
              "      <td>17.0</td>\n",
              "      <td>1988</td>\n",
              "      <td>0.025609</td>\n",
              "      <td>B</td>\n",
              "      <td>B</td>\n",
              "      <td>33</td>\n",
              "      <td>5261</td>\n",
              "      <td>0</td>\n",
              "      <td>240.0</td>\n",
              "      <td>3</td>\n",
              "      <td>1</td>\n",
              "      <td>B</td>\n",
              "      <td>282078.720850</td>\n",
              "    </tr>\n",
              "    <tr>\n",
              "      <th>3</th>\n",
              "      <td>2352</td>\n",
              "      <td>1</td>\n",
              "      <td>1.0</td>\n",
              "      <td>40.409907</td>\n",
              "      <td>NaN</td>\n",
              "      <td>1.0</td>\n",
              "      <td>10</td>\n",
              "      <td>22.0</td>\n",
              "      <td>1977</td>\n",
              "      <td>0.007122</td>\n",
              "      <td>B</td>\n",
              "      <td>B</td>\n",
              "      <td>1</td>\n",
              "      <td>264</td>\n",
              "      <td>0</td>\n",
              "      <td>NaN</td>\n",
              "      <td>0</td>\n",
              "      <td>1</td>\n",
              "      <td>B</td>\n",
              "      <td>168106.007630</td>\n",
              "    </tr>\n",
              "    <tr>\n",
              "      <th>4</th>\n",
              "      <td>13866</td>\n",
              "      <td>94</td>\n",
              "      <td>2.0</td>\n",
              "      <td>64.285067</td>\n",
              "      <td>38.562517</td>\n",
              "      <td>9.0</td>\n",
              "      <td>16</td>\n",
              "      <td>16.0</td>\n",
              "      <td>1972</td>\n",
              "      <td>0.282798</td>\n",
              "      <td>B</td>\n",
              "      <td>B</td>\n",
              "      <td>33</td>\n",
              "      <td>8667</td>\n",
              "      <td>2</td>\n",
              "      <td>NaN</td>\n",
              "      <td>0</td>\n",
              "      <td>6</td>\n",
              "      <td>B</td>\n",
              "      <td>343995.102962</td>\n",
              "    </tr>\n",
              "  </tbody>\n",
              "</table>\n",
              "</div>\n",
              "      <button class=\"colab-df-convert\" onclick=\"convertToInteractive('df-e91a9981-b222-44a8-a1e0-2623f74c42c8')\"\n",
              "              title=\"Convert this dataframe to an interactive table.\"\n",
              "              style=\"display:none;\">\n",
              "        \n",
              "  <svg xmlns=\"http://www.w3.org/2000/svg\" height=\"24px\"viewBox=\"0 0 24 24\"\n",
              "       width=\"24px\">\n",
              "    <path d=\"M0 0h24v24H0V0z\" fill=\"none\"/>\n",
              "    <path d=\"M18.56 5.44l.94 2.06.94-2.06 2.06-.94-2.06-.94-.94-2.06-.94 2.06-2.06.94zm-11 1L8.5 8.5l.94-2.06 2.06-.94-2.06-.94L8.5 2.5l-.94 2.06-2.06.94zm10 10l.94 2.06.94-2.06 2.06-.94-2.06-.94-.94-2.06-.94 2.06-2.06.94z\"/><path d=\"M17.41 7.96l-1.37-1.37c-.4-.4-.92-.59-1.43-.59-.52 0-1.04.2-1.43.59L10.3 9.45l-7.72 7.72c-.78.78-.78 2.05 0 2.83L4 21.41c.39.39.9.59 1.41.59.51 0 1.02-.2 1.41-.59l7.78-7.78 2.81-2.81c.8-.78.8-2.07 0-2.86zM5.41 20L4 18.59l7.72-7.72 1.47 1.35L5.41 20z\"/>\n",
              "  </svg>\n",
              "      </button>\n",
              "      \n",
              "  <style>\n",
              "    .colab-df-container {\n",
              "      display:flex;\n",
              "      flex-wrap:wrap;\n",
              "      gap: 12px;\n",
              "    }\n",
              "\n",
              "    .colab-df-convert {\n",
              "      background-color: #E8F0FE;\n",
              "      border: none;\n",
              "      border-radius: 50%;\n",
              "      cursor: pointer;\n",
              "      display: none;\n",
              "      fill: #1967D2;\n",
              "      height: 32px;\n",
              "      padding: 0 0 0 0;\n",
              "      width: 32px;\n",
              "    }\n",
              "\n",
              "    .colab-df-convert:hover {\n",
              "      background-color: #E2EBFA;\n",
              "      box-shadow: 0px 1px 2px rgba(60, 64, 67, 0.3), 0px 1px 3px 1px rgba(60, 64, 67, 0.15);\n",
              "      fill: #174EA6;\n",
              "    }\n",
              "\n",
              "    [theme=dark] .colab-df-convert {\n",
              "      background-color: #3B4455;\n",
              "      fill: #D2E3FC;\n",
              "    }\n",
              "\n",
              "    [theme=dark] .colab-df-convert:hover {\n",
              "      background-color: #434B5C;\n",
              "      box-shadow: 0px 1px 3px 1px rgba(0, 0, 0, 0.15);\n",
              "      filter: drop-shadow(0px 1px 2px rgba(0, 0, 0, 0.3));\n",
              "      fill: #FFFFFF;\n",
              "    }\n",
              "  </style>\n",
              "\n",
              "      <script>\n",
              "        const buttonEl =\n",
              "          document.querySelector('#df-e91a9981-b222-44a8-a1e0-2623f74c42c8 button.colab-df-convert');\n",
              "        buttonEl.style.display =\n",
              "          google.colab.kernel.accessAllowed ? 'block' : 'none';\n",
              "\n",
              "        async function convertToInteractive(key) {\n",
              "          const element = document.querySelector('#df-e91a9981-b222-44a8-a1e0-2623f74c42c8');\n",
              "          const dataTable =\n",
              "            await google.colab.kernel.invokeFunction('convertToInteractive',\n",
              "                                                     [key], {});\n",
              "          if (!dataTable) return;\n",
              "\n",
              "          const docLinkHtml = 'Like what you see? Visit the ' +\n",
              "            '<a target=\"_blank\" href=https://colab.research.google.com/notebooks/data_table.ipynb>data table notebook</a>'\n",
              "            + ' to learn more about interactive tables.';\n",
              "          element.innerHTML = '';\n",
              "          dataTable['output_type'] = 'display_data';\n",
              "          await google.colab.output.renderOutput(dataTable, element);\n",
              "          const docLink = document.createElement('div');\n",
              "          docLink.innerHTML = docLinkHtml;\n",
              "          element.appendChild(docLink);\n",
              "        }\n",
              "      </script>\n",
              "    </div>\n",
              "  </div>\n",
              "  "
            ],
            "text/plain": [
              "      Id  DistrictId  Rooms  ...  Shops_1  Shops_2          Price\n",
              "0  11809          27    3.0  ...        0        B  305018.871089\n",
              "1   3013          22    1.0  ...        0        B  177734.553407\n",
              "2   8215           1    3.0  ...        1        B  282078.720850\n",
              "3   2352           1    1.0  ...        1        B  168106.007630\n",
              "4  13866          94    2.0  ...        6        B  343995.102962\n",
              "\n",
              "[5 rows x 20 columns]"
            ]
          },
          "metadata": {},
          "execution_count": 8
        }
      ]
    },
    {
      "cell_type": "code",
      "source": [
        "print(f'В обучающем датафрейме {df_train.shape[0]} строк и {df_train.shape[1]} столбцов')"
      ],
      "metadata": {
        "colab": {
          "base_uri": "https://localhost:8080/"
        },
        "id": "13PmJJGqzX0J",
        "outputId": "cde87d95-a112-40c3-9a14-d7fb8ca114f4"
      },
      "execution_count": 9,
      "outputs": [
        {
          "output_type": "stream",
          "name": "stdout",
          "text": [
            "В обучающем датафрейме 10000 строк и 20 столбцов\n"
          ]
        }
      ]
    },
    {
      "cell_type": "code",
      "source": [
        "df_test = pd.read_csv(TEST_DATASET_PATH)\n",
        "df_test.head()"
      ],
      "metadata": {
        "colab": {
          "base_uri": "https://localhost:8080/",
          "height": 206
        },
        "id": "xpfwINtDKtNl",
        "outputId": "de34e2c2-fa90-4839-f3e4-fa906a6805ee"
      },
      "execution_count": 10,
      "outputs": [
        {
          "output_type": "execute_result",
          "data": {
            "text/html": [
              "\n",
              "  <div id=\"df-8cafe70b-c5ad-4733-b598-47a4ba35287f\">\n",
              "    <div class=\"colab-df-container\">\n",
              "      <div>\n",
              "<style scoped>\n",
              "    .dataframe tbody tr th:only-of-type {\n",
              "        vertical-align: middle;\n",
              "    }\n",
              "\n",
              "    .dataframe tbody tr th {\n",
              "        vertical-align: top;\n",
              "    }\n",
              "\n",
              "    .dataframe thead th {\n",
              "        text-align: right;\n",
              "    }\n",
              "</style>\n",
              "<table border=\"1\" class=\"dataframe\">\n",
              "  <thead>\n",
              "    <tr style=\"text-align: right;\">\n",
              "      <th></th>\n",
              "      <th>Id</th>\n",
              "      <th>DistrictId</th>\n",
              "      <th>Rooms</th>\n",
              "      <th>Square</th>\n",
              "      <th>LifeSquare</th>\n",
              "      <th>KitchenSquare</th>\n",
              "      <th>Floor</th>\n",
              "      <th>HouseFloor</th>\n",
              "      <th>HouseYear</th>\n",
              "      <th>Ecology_1</th>\n",
              "      <th>Ecology_2</th>\n",
              "      <th>Ecology_3</th>\n",
              "      <th>Social_1</th>\n",
              "      <th>Social_2</th>\n",
              "      <th>Social_3</th>\n",
              "      <th>Healthcare_1</th>\n",
              "      <th>Helthcare_2</th>\n",
              "      <th>Shops_1</th>\n",
              "      <th>Shops_2</th>\n",
              "    </tr>\n",
              "  </thead>\n",
              "  <tbody>\n",
              "    <tr>\n",
              "      <th>0</th>\n",
              "      <td>4567</td>\n",
              "      <td>44</td>\n",
              "      <td>1.0</td>\n",
              "      <td>36.847630</td>\n",
              "      <td>19.094182</td>\n",
              "      <td>5.0</td>\n",
              "      <td>5</td>\n",
              "      <td>9.0</td>\n",
              "      <td>1970</td>\n",
              "      <td>0.036122</td>\n",
              "      <td>B</td>\n",
              "      <td>B</td>\n",
              "      <td>24</td>\n",
              "      <td>4378</td>\n",
              "      <td>0</td>\n",
              "      <td>1036.0</td>\n",
              "      <td>1</td>\n",
              "      <td>1</td>\n",
              "      <td>B</td>\n",
              "    </tr>\n",
              "    <tr>\n",
              "      <th>1</th>\n",
              "      <td>5925</td>\n",
              "      <td>62</td>\n",
              "      <td>1.0</td>\n",
              "      <td>42.493907</td>\n",
              "      <td>42.568133</td>\n",
              "      <td>10.0</td>\n",
              "      <td>7</td>\n",
              "      <td>17.0</td>\n",
              "      <td>2017</td>\n",
              "      <td>0.072158</td>\n",
              "      <td>B</td>\n",
              "      <td>B</td>\n",
              "      <td>2</td>\n",
              "      <td>629</td>\n",
              "      <td>1</td>\n",
              "      <td>NaN</td>\n",
              "      <td>0</td>\n",
              "      <td>0</td>\n",
              "      <td>A</td>\n",
              "    </tr>\n",
              "    <tr>\n",
              "      <th>2</th>\n",
              "      <td>960</td>\n",
              "      <td>27</td>\n",
              "      <td>2.0</td>\n",
              "      <td>59.463678</td>\n",
              "      <td>NaN</td>\n",
              "      <td>9.0</td>\n",
              "      <td>19</td>\n",
              "      <td>19.0</td>\n",
              "      <td>1977</td>\n",
              "      <td>0.211401</td>\n",
              "      <td>B</td>\n",
              "      <td>B</td>\n",
              "      <td>9</td>\n",
              "      <td>1892</td>\n",
              "      <td>0</td>\n",
              "      <td>NaN</td>\n",
              "      <td>0</td>\n",
              "      <td>1</td>\n",
              "      <td>B</td>\n",
              "    </tr>\n",
              "    <tr>\n",
              "      <th>3</th>\n",
              "      <td>3848</td>\n",
              "      <td>23</td>\n",
              "      <td>3.0</td>\n",
              "      <td>49.646030</td>\n",
              "      <td>33.893825</td>\n",
              "      <td>6.0</td>\n",
              "      <td>2</td>\n",
              "      <td>2.0</td>\n",
              "      <td>1965</td>\n",
              "      <td>0.014073</td>\n",
              "      <td>B</td>\n",
              "      <td>B</td>\n",
              "      <td>2</td>\n",
              "      <td>475</td>\n",
              "      <td>0</td>\n",
              "      <td>NaN</td>\n",
              "      <td>0</td>\n",
              "      <td>0</td>\n",
              "      <td>B</td>\n",
              "    </tr>\n",
              "    <tr>\n",
              "      <th>4</th>\n",
              "      <td>746</td>\n",
              "      <td>74</td>\n",
              "      <td>1.0</td>\n",
              "      <td>53.837056</td>\n",
              "      <td>NaN</td>\n",
              "      <td>1.0</td>\n",
              "      <td>8</td>\n",
              "      <td>17.0</td>\n",
              "      <td>1977</td>\n",
              "      <td>0.309479</td>\n",
              "      <td>B</td>\n",
              "      <td>B</td>\n",
              "      <td>35</td>\n",
              "      <td>7715</td>\n",
              "      <td>4</td>\n",
              "      <td>990.0</td>\n",
              "      <td>0</td>\n",
              "      <td>6</td>\n",
              "      <td>B</td>\n",
              "    </tr>\n",
              "  </tbody>\n",
              "</table>\n",
              "</div>\n",
              "      <button class=\"colab-df-convert\" onclick=\"convertToInteractive('df-8cafe70b-c5ad-4733-b598-47a4ba35287f')\"\n",
              "              title=\"Convert this dataframe to an interactive table.\"\n",
              "              style=\"display:none;\">\n",
              "        \n",
              "  <svg xmlns=\"http://www.w3.org/2000/svg\" height=\"24px\"viewBox=\"0 0 24 24\"\n",
              "       width=\"24px\">\n",
              "    <path d=\"M0 0h24v24H0V0z\" fill=\"none\"/>\n",
              "    <path d=\"M18.56 5.44l.94 2.06.94-2.06 2.06-.94-2.06-.94-.94-2.06-.94 2.06-2.06.94zm-11 1L8.5 8.5l.94-2.06 2.06-.94-2.06-.94L8.5 2.5l-.94 2.06-2.06.94zm10 10l.94 2.06.94-2.06 2.06-.94-2.06-.94-.94-2.06-.94 2.06-2.06.94z\"/><path d=\"M17.41 7.96l-1.37-1.37c-.4-.4-.92-.59-1.43-.59-.52 0-1.04.2-1.43.59L10.3 9.45l-7.72 7.72c-.78.78-.78 2.05 0 2.83L4 21.41c.39.39.9.59 1.41.59.51 0 1.02-.2 1.41-.59l7.78-7.78 2.81-2.81c.8-.78.8-2.07 0-2.86zM5.41 20L4 18.59l7.72-7.72 1.47 1.35L5.41 20z\"/>\n",
              "  </svg>\n",
              "      </button>\n",
              "      \n",
              "  <style>\n",
              "    .colab-df-container {\n",
              "      display:flex;\n",
              "      flex-wrap:wrap;\n",
              "      gap: 12px;\n",
              "    }\n",
              "\n",
              "    .colab-df-convert {\n",
              "      background-color: #E8F0FE;\n",
              "      border: none;\n",
              "      border-radius: 50%;\n",
              "      cursor: pointer;\n",
              "      display: none;\n",
              "      fill: #1967D2;\n",
              "      height: 32px;\n",
              "      padding: 0 0 0 0;\n",
              "      width: 32px;\n",
              "    }\n",
              "\n",
              "    .colab-df-convert:hover {\n",
              "      background-color: #E2EBFA;\n",
              "      box-shadow: 0px 1px 2px rgba(60, 64, 67, 0.3), 0px 1px 3px 1px rgba(60, 64, 67, 0.15);\n",
              "      fill: #174EA6;\n",
              "    }\n",
              "\n",
              "    [theme=dark] .colab-df-convert {\n",
              "      background-color: #3B4455;\n",
              "      fill: #D2E3FC;\n",
              "    }\n",
              "\n",
              "    [theme=dark] .colab-df-convert:hover {\n",
              "      background-color: #434B5C;\n",
              "      box-shadow: 0px 1px 3px 1px rgba(0, 0, 0, 0.15);\n",
              "      filter: drop-shadow(0px 1px 2px rgba(0, 0, 0, 0.3));\n",
              "      fill: #FFFFFF;\n",
              "    }\n",
              "  </style>\n",
              "\n",
              "      <script>\n",
              "        const buttonEl =\n",
              "          document.querySelector('#df-8cafe70b-c5ad-4733-b598-47a4ba35287f button.colab-df-convert');\n",
              "        buttonEl.style.display =\n",
              "          google.colab.kernel.accessAllowed ? 'block' : 'none';\n",
              "\n",
              "        async function convertToInteractive(key) {\n",
              "          const element = document.querySelector('#df-8cafe70b-c5ad-4733-b598-47a4ba35287f');\n",
              "          const dataTable =\n",
              "            await google.colab.kernel.invokeFunction('convertToInteractive',\n",
              "                                                     [key], {});\n",
              "          if (!dataTable) return;\n",
              "\n",
              "          const docLinkHtml = 'Like what you see? Visit the ' +\n",
              "            '<a target=\"_blank\" href=https://colab.research.google.com/notebooks/data_table.ipynb>data table notebook</a>'\n",
              "            + ' to learn more about interactive tables.';\n",
              "          element.innerHTML = '';\n",
              "          dataTable['output_type'] = 'display_data';\n",
              "          await google.colab.output.renderOutput(dataTable, element);\n",
              "          const docLink = document.createElement('div');\n",
              "          docLink.innerHTML = docLinkHtml;\n",
              "          element.appendChild(docLink);\n",
              "        }\n",
              "      </script>\n",
              "    </div>\n",
              "  </div>\n",
              "  "
            ],
            "text/plain": [
              "     Id  DistrictId  Rooms  ...  Helthcare_2  Shops_1  Shops_2\n",
              "0  4567          44    1.0  ...            1        1        B\n",
              "1  5925          62    1.0  ...            0        0        A\n",
              "2   960          27    2.0  ...            0        1        B\n",
              "3  3848          23    3.0  ...            0        0        B\n",
              "4   746          74    1.0  ...            0        6        B\n",
              "\n",
              "[5 rows x 19 columns]"
            ]
          },
          "metadata": {},
          "execution_count": 10
        }
      ]
    },
    {
      "cell_type": "code",
      "source": [
        "print(f'В тестовом датафрейме {df_test.shape[0]} строк и {df_test.shape[1]} столбцов')"
      ],
      "metadata": {
        "colab": {
          "base_uri": "https://localhost:8080/"
        },
        "id": "HwXU7pF1K4Zt",
        "outputId": "f876d7b8-b875-4b08-ee50-aa1ba51cee99"
      },
      "execution_count": 11,
      "outputs": [
        {
          "output_type": "stream",
          "name": "stdout",
          "text": [
            "В тестовом датафрейме 5000 строк и 19 столбцов\n"
          ]
        }
      ]
    },
    {
      "cell_type": "markdown",
      "source": [
        "### Разница в количестве признаков между train и test"
      ],
      "metadata": {
        "id": "sS6yyLlEq07g"
      }
    },
    {
      "cell_type": "markdown",
      "source": [
        "Таким образом выполняется:"
      ],
      "metadata": {
        "id": "gguWldSipTb-"
      }
    },
    {
      "cell_type": "code",
      "source": [
        "df_train.shape[1] - 1 == df_test.shape[1]"
      ],
      "metadata": {
        "colab": {
          "base_uri": "https://localhost:8080/"
        },
        "id": "IIDP7DlxpMM6",
        "outputId": "ac551444-6205-4d2e-8b9e-b47d071fb608"
      },
      "execution_count": 12,
      "outputs": [
        {
          "output_type": "execute_result",
          "data": {
            "text/plain": [
              "True"
            ]
          },
          "metadata": {},
          "execution_count": 12
        }
      ]
    },
    {
      "cell_type": "markdown",
      "source": [
        "## Признаки нашего датасета"
      ],
      "metadata": {
        "id": "NSW2rlCppzly"
      }
    },
    {
      "cell_type": "code",
      "source": [
        "# print('Названия столбцов в обучающем датафрейме\\n',df_train.columns)\n",
        "nl = '\\n'\n",
        "print(f\"Названия столбцов в обучающем датафрейме {nl}{df_train.columns}\")"
      ],
      "metadata": {
        "colab": {
          "base_uri": "https://localhost:8080/"
        },
        "id": "Hj01VEvNOuZu",
        "outputId": "81d4b486-88e6-432d-d749-f619196d65ea"
      },
      "execution_count": 13,
      "outputs": [
        {
          "output_type": "stream",
          "name": "stdout",
          "text": [
            "Названия столбцов в обучающем датафрейме \n",
            "Index(['Id', 'DistrictId', 'Rooms', 'Square', 'LifeSquare', 'KitchenSquare',\n",
            "       'Floor', 'HouseFloor', 'HouseYear', 'Ecology_1', 'Ecology_2',\n",
            "       'Ecology_3', 'Social_1', 'Social_2', 'Social_3', 'Healthcare_1',\n",
            "       'Helthcare_2', 'Shops_1', 'Shops_2', 'Price'],\n",
            "      dtype='object')\n"
          ]
        }
      ]
    },
    {
      "cell_type": "markdown",
      "source": [
        "**Описание датасета**\n",
        "\n",
        "* **Id** - идентификационный номер квартиры\n",
        "* **DistrictId** - идентификационный номер района\n",
        "* **Rooms** - количество комнат\n",
        "* **Square** - площадь\n",
        "* **LifeSquare** - жилая площадь\n",
        "* **KitchenSquare** - площадь кухни\n",
        "* **Floor** - этаж\n",
        "* **HouseFloor** - количество этажей в доме\n",
        "* **HouseYear** - год постройки дома\n",
        "* **Ecology_1, Ecology_2, Ecology_3** - экологические показатели местности\n",
        "* **Social_1, Social_2, Social_3** - социальные показатели местности\n",
        "* **Healthcare_1, Helthcare_2** - показатели местности, связанные с охраной здоровья\n",
        "* **Shops_1, Shops_2** - показатели, связанные с наличием магазинов, торговых центров\n",
        "* **Price** - цена квартиры"
      ],
      "metadata": {
        "id": "IUamXBdKzlnq"
      }
    },
    {
      "cell_type": "markdown",
      "source": [
        "Задача регрессии на прогнозирование стоимости домов. Метрикой является коэффициент корреляции R2.\n",
        "\n",
        "Наблюдения - это строки. Признаки - столбцы."
      ],
      "metadata": {
        "id": "xX2f7OJxVe-6"
      }
    },
    {
      "cell_type": "code",
      "source": [
        "# df_train.index"
      ],
      "metadata": {
        "id": "rJXW6JTSz36w"
      },
      "execution_count": null,
      "outputs": []
    },
    {
      "cell_type": "code",
      "source": [
        "# df_train.dtypes"
      ],
      "metadata": {
        "id": "nTGI615q0E0X"
      },
      "execution_count": null,
      "outputs": []
    },
    {
      "cell_type": "markdown",
      "source": [
        "## Уменьшение объема памяти, который занимает датасет"
      ],
      "metadata": {
        "id": "s3hAes6i2yz9"
      }
    },
    {
      "cell_type": "code",
      "source": [
        "def reduce_mem_usage(df):\n",
        "    \"\"\" iterate through all the columns of a dataframe and modify the data type\n",
        "        to reduce memory usage.        \n",
        "    \"\"\"\n",
        "    start_mem = df.memory_usage().sum() / 1024**2\n",
        "    print('Memory usage of dataframe is {:.2f} MB'.format(start_mem))\n",
        "    \n",
        "    for col in df.columns:\n",
        "        col_type = df[col].dtype\n",
        "        \n",
        "        if col_type != object:\n",
        "            c_min = df[col].min()\n",
        "            c_max = df[col].max()\n",
        "            if str(col_type)[:3] == 'int':\n",
        "                if c_min > np.iinfo(np.int8).min and c_max < np.iinfo(np.int8).max:\n",
        "                    df[col] = df[col].astype(np.int8)\n",
        "                elif c_min > np.iinfo(np.int16).min and c_max < np.iinfo(np.int16).max:\n",
        "                    df[col] = df[col].astype(np.int16)\n",
        "                elif c_min > np.iinfo(np.int32).min and c_max < np.iinfo(np.int32).max:\n",
        "                    df[col] = df[col].astype(np.int32)\n",
        "                elif c_min > np.iinfo(np.int64).min and c_max < np.iinfo(np.int64).max:\n",
        "                    df[col] = df[col].astype(np.int64)  \n",
        "            else:\n",
        "                if c_min > np.finfo(np.float32).min and c_max < np.finfo(np.float32).max:\n",
        "                    df[col] = df[col].astype(np.float32)\n",
        "                else:\n",
        "                    df[col] = df[col].astype(np.float64)\n",
        "        else:\n",
        "            df[col] = df[col].astype('category')\n",
        "\n",
        "    end_mem = df.memory_usage().sum() / 1024**2\n",
        "    print('Memory usage after optimization is: {:.2f} MB'.format(end_mem))\n",
        "    print('Decreased by {:.1f}%'.format(100 * (start_mem - end_mem) / start_mem))\n",
        "    \n",
        "    return df"
      ],
      "metadata": {
        "id": "slnm-OkN2f8e"
      },
      "execution_count": 14,
      "outputs": []
    },
    {
      "cell_type": "code",
      "source": [
        "df_train = reduce_mem_usage(df_train)"
      ],
      "metadata": {
        "colab": {
          "base_uri": "https://localhost:8080/"
        },
        "id": "oUEE7qQk2nvb",
        "outputId": "0b37dba8-1541-4c10-a0b0-417944133942"
      },
      "execution_count": 15,
      "outputs": [
        {
          "output_type": "stream",
          "name": "stdout",
          "text": [
            "Memory usage of dataframe is 1.53 MB\n",
            "Memory usage after optimization is: 0.49 MB\n",
            "Decreased by 68.1%\n"
          ]
        }
      ]
    },
    {
      "cell_type": "code",
      "source": [
        "df_test = reduce_mem_usage(df_test)"
      ],
      "metadata": {
        "colab": {
          "base_uri": "https://localhost:8080/"
        },
        "id": "X6iCB5ESLq4e",
        "outputId": "63b3e5d1-ae52-4ae0-f7fd-36bb9e576a04"
      },
      "execution_count": 16,
      "outputs": [
        {
          "output_type": "stream",
          "name": "stdout",
          "text": [
            "Memory usage of dataframe is 0.72 MB\n",
            "Memory usage after optimization is: 0.21 MB\n",
            "Decreased by 70.3%\n"
          ]
        }
      ]
    },
    {
      "cell_type": "markdown",
      "source": [
        "##Приведение типов."
      ],
      "metadata": {
        "id": "sNZn8qcxUkWL"
      }
    },
    {
      "cell_type": "code",
      "source": [
        "df_train.dtypes"
      ],
      "metadata": {
        "colab": {
          "base_uri": "https://localhost:8080/"
        },
        "id": "vJPX-Ypk2o7M",
        "outputId": "2c4275ae-4a50-4ca2-8f5f-8d8c950f26b3"
      },
      "execution_count": 17,
      "outputs": [
        {
          "output_type": "execute_result",
          "data": {
            "text/plain": [
              "Id                  int16\n",
              "DistrictId          int16\n",
              "Rooms             float32\n",
              "Square            float32\n",
              "LifeSquare        float32\n",
              "KitchenSquare     float32\n",
              "Floor                int8\n",
              "HouseFloor        float32\n",
              "HouseYear           int32\n",
              "Ecology_1         float32\n",
              "Ecology_2        category\n",
              "Ecology_3        category\n",
              "Social_1             int8\n",
              "Social_2            int16\n",
              "Social_3            int16\n",
              "Healthcare_1      float32\n",
              "Helthcare_2          int8\n",
              "Shops_1              int8\n",
              "Shops_2          category\n",
              "Price             float32\n",
              "dtype: object"
            ]
          },
          "metadata": {},
          "execution_count": 17
        }
      ]
    },
    {
      "cell_type": "code",
      "source": [
        "df_train['Id'] = df_train['Id'].astype(str)\n",
        "df_train['DistrictId'] = df_train['DistrictId'].astype(str)\n",
        "df_train['Ecology_2'] = df_train['Ecology_2'].astype(str)\n",
        "df_train['Ecology_3'] = df_train['Ecology_3'].astype(str)\n",
        "df_train['Shops_2'] = df_train['Shops_2'].astype(str)"
      ],
      "metadata": {
        "id": "6SbH1iqOUj85"
      },
      "execution_count": 18,
      "outputs": []
    },
    {
      "cell_type": "code",
      "source": [
        "df_train.dtypes"
      ],
      "metadata": {
        "colab": {
          "base_uri": "https://localhost:8080/"
        },
        "id": "o9LBbtZRUzgj",
        "outputId": "af0b6e27-6849-492b-f8b3-a8dbb6618689"
      },
      "execution_count": 19,
      "outputs": [
        {
          "output_type": "execute_result",
          "data": {
            "text/plain": [
              "Id                object\n",
              "DistrictId        object\n",
              "Rooms            float32\n",
              "Square           float32\n",
              "LifeSquare       float32\n",
              "KitchenSquare    float32\n",
              "Floor               int8\n",
              "HouseFloor       float32\n",
              "HouseYear          int32\n",
              "Ecology_1        float32\n",
              "Ecology_2         object\n",
              "Ecology_3         object\n",
              "Social_1            int8\n",
              "Social_2           int16\n",
              "Social_3           int16\n",
              "Healthcare_1     float32\n",
              "Helthcare_2         int8\n",
              "Shops_1             int8\n",
              "Shops_2           object\n",
              "Price            float32\n",
              "dtype: object"
            ]
          },
          "metadata": {},
          "execution_count": 19
        }
      ]
    },
    {
      "cell_type": "code",
      "source": [
        "num_feat = list(df_train.select_dtypes(exclude='object').columns)\n",
        "# obj_feat = list(df_train.select_dtypes(include=('object', 'category')).columns)\n",
        "nom_feat = list(df_train.select_dtypes(include='object').columns)\n",
        "target = 'Price'\n",
        "\n",
        "print(f'Числовые признаки: {num_feat}')\n",
        "# print(f'Нечисловые признаки: {obj_feat}')\n",
        "print(f'Номинативные признаки: {nom_feat}')"
      ],
      "metadata": {
        "colab": {
          "base_uri": "https://localhost:8080/"
        },
        "id": "eYeRmKEtVE3L",
        "outputId": "9d23c636-cbad-4ee7-8ee0-9247c7269b12"
      },
      "execution_count": 20,
      "outputs": [
        {
          "output_type": "stream",
          "name": "stdout",
          "text": [
            "Числовые признаки: ['Rooms', 'Square', 'LifeSquare', 'KitchenSquare', 'Floor', 'HouseFloor', 'HouseYear', 'Ecology_1', 'Social_1', 'Social_2', 'Social_3', 'Healthcare_1', 'Helthcare_2', 'Shops_1', 'Price']\n",
            "Номинативные признаки: ['Id', 'DistrictId', 'Ecology_2', 'Ecology_3', 'Shops_2']\n"
          ]
        }
      ]
    },
    {
      "cell_type": "markdown",
      "source": [
        "# **EDA и очистка данных**"
      ],
      "metadata": {
        "id": "bXPDhLEdKHbd"
      }
    },
    {
      "cell_type": "markdown",
      "source": [
        "## Удаление дубликатов"
      ],
      "metadata": {
        "id": "7vLgZxRarNfx"
      }
    },
    {
      "cell_type": "code",
      "source": [
        "df_train.shape"
      ],
      "metadata": {
        "colab": {
          "base_uri": "https://localhost:8080/"
        },
        "id": "oUP1J1xNVicd",
        "outputId": "478250fd-cccc-49fe-e73d-cdd72b174914"
      },
      "execution_count": 21,
      "outputs": [
        {
          "output_type": "execute_result",
          "data": {
            "text/plain": [
              "(10000, 20)"
            ]
          },
          "metadata": {},
          "execution_count": 21
        }
      ]
    },
    {
      "cell_type": "code",
      "source": [
        "df_train = df_train.drop_duplicates()\n",
        "df_train.shape"
      ],
      "metadata": {
        "colab": {
          "base_uri": "https://localhost:8080/"
        },
        "id": "OXphXVuHVlWl",
        "outputId": "36d3609b-6257-487b-ee91-86fb2b732df9"
      },
      "execution_count": 22,
      "outputs": [
        {
          "output_type": "execute_result",
          "data": {
            "text/plain": [
              "(10000, 20)"
            ]
          },
          "metadata": {},
          "execution_count": 22
        }
      ]
    },
    {
      "cell_type": "markdown",
      "source": [
        "Дубликатов нет."
      ],
      "metadata": {
        "id": "d3cpCISdrcTO"
      }
    },
    {
      "cell_type": "markdown",
      "source": [
        "## Распределение целевой переменной"
      ],
      "metadata": {
        "id": "jD7WqGzSOwon"
      }
    },
    {
      "cell_type": "code",
      "source": [
        "# round(df_train['Price'].mean(), 2)\n",
        "# round(df_train.Price.median(), 2)\n",
        "# round(df_train.Price.mode()[0], 2)"
      ],
      "metadata": {
        "id": "TAsoC7j-QBeL"
      },
      "execution_count": null,
      "outputs": []
    },
    {
      "cell_type": "code",
      "source": [
        "# mode(df_train.Price)[0][0]"
      ],
      "metadata": {
        "id": "nDVwAX-KSN1s"
      },
      "execution_count": null,
      "outputs": []
    },
    {
      "cell_type": "code",
      "source": [
        "# df_train.Price.head()"
      ],
      "metadata": {
        "id": "4rp127Y5Rz2Y"
      },
      "execution_count": null,
      "outputs": []
    },
    {
      "cell_type": "code",
      "source": [
        "target_mean = round(df_train['Price'].mean(), 2)\n",
        "target_median = round(df_train.Price.median(), 2)\n",
        "# target_mode = df_train['Price'].mode()[0]\n",
        "# target_mode = round(df_train['Price']).mode()[0]\n",
        "target_mode = round(df_train.Price, -1).mode()[0]"
      ],
      "metadata": {
        "id": "Uilmxxk9P-54"
      },
      "execution_count": 23,
      "outputs": []
    },
    {
      "cell_type": "code",
      "source": [
        "print(f'Среднее значение целевой переменной = {target_mean}')\n",
        "print(f'Медиана целевой переменной = {target_median}')\n",
        "print(f'Мода целевого значения = {target_mode}')"
      ],
      "metadata": {
        "colab": {
          "base_uri": "https://localhost:8080/"
        },
        "id": "kRAskwv4QgMS",
        "outputId": "c7d6bd9b-cf24-4964-fbfb-f65b6c8f3b99"
      },
      "execution_count": 24,
      "outputs": [
        {
          "output_type": "stream",
          "name": "stdout",
          "text": [
            "Среднее значение целевой переменной = 214138.94\n",
            "Медиана целевой переменной = 192269.66\n",
            "Мода целевого значения = 181630.0\n"
          ]
        }
      ]
    },
    {
      "cell_type": "code",
      "source": [
        "plt.figure(figsize = (16, 8))\n",
        "\n",
        "y = df_train['Price']\n",
        "plt.hist(y, bins=50, edgecolor='black')\n",
        "# df_train['Price'].hist(bins=30)\n",
        "plt.ylabel('Count')\n",
        "plt.xlabel('Price')\n",
        "\n",
        "# plt.plot([target_mean] * 85, y, label='mean',  linewidth=4)\n",
        "# plt.plot([target_median] * 10, y, label='median',  linewidth=4)\n",
        "# plt.plot([target_mode] * 10, y, label='mode', linewidth=4)\n",
        "\n",
        "plt.vlines(target_mean, 0, 860, label='mean', linewidth=4, colors='orange', alpha=0.5)\n",
        "plt.vlines(target_median, 0, 860, label='median', linewidth=4, colors='red', alpha=0.5)\n",
        "plt.vlines(target_mode, 0, 860, label='mode', linewidth=4, colors='green', alpha=0.5)\n",
        "\n",
        "plt.title('Target distribution')\n",
        "plt.grid(alpha=0.3)\n",
        "plt.legend()\n",
        "plt.show()"
      ],
      "metadata": {
        "colab": {
          "base_uri": "https://localhost:8080/",
          "height": 513
        },
        "id": "-mBIODrINiKZ",
        "outputId": "526037e1-d1e5-498f-ad99-336b2a4a0071"
      },
      "execution_count": 25,
      "outputs": [
        {
          "output_type": "display_data",
          "data": {
            "image/png": "[encoded data removed]",
            "text/plain": [
              "<Figure size 1152x576 with 1 Axes>"
            ]
          },
          "metadata": {
            "needs_background": "light"
          }
        }
      ]
    },
    {
      "cell_type": "markdown",
      "source": [
        "Первоначально выбросов в целевой переменной нет. Несимметричное распределение."
      ],
      "metadata": {
        "id": "RGtx_g9t1WrG"
      }
    },
    {
      "cell_type": "code",
      "source": [
        "# plt.figure(figsize = (16, 8))\n",
        "\n",
        "# sns.distplot(df_train['Price'], bins=30)\n",
        "\n",
        "# y = np.linspace(0, 0.000005, 10)\n",
        "# plt.plot([target_mean] * 10, y, label='mean',  linewidth=4)\n",
        "# plt.plot([target_median] * 10, y, label='median',  linewidth=4)\n",
        "# plt.plot([target_mode] * 10, y, label='mode', linewidth=4)\n",
        "# # print(y.shape)\n",
        "\n",
        "# plt.title('Distribution of median_house_value')\n",
        "# plt.legend()\n",
        "# plt.show()"
      ],
      "metadata": {
        "id": "5EF66jBRwR41"
      },
      "execution_count": null,
      "outputs": []
    },
    {
      "cell_type": "markdown",
      "source": [
        "## Количественные признаки"
      ],
      "metadata": {
        "id": "zcRNLyG6Q7bT"
      }
    },
    {
      "cell_type": "code",
      "source": [
        "df_train.describe()"
      ],
      "metadata": {
        "colab": {
          "base_uri": "https://localhost:8080/",
          "height": 300
        },
        "id": "DOg2-lAHQ_h-",
        "outputId": "e6bff8f7-b2aa-470f-d5cd-09bf737c7a2c"
      },
      "execution_count": 26,
      "outputs": [
        {
          "output_type": "execute_result",
          "data": {
            "text/html": [
              "\n",
              "  <div id=\"df-df19008b-7503-42c7-b007-fad95782c8c6\">\n",
              "    <div class=\"colab-df-container\">\n",
              "      <div>\n",
              "<style scoped>\n",
              "    .dataframe tbody tr th:only-of-type {\n",
              "        vertical-align: middle;\n",
              "    }\n",
              "\n",
              "    .dataframe tbody tr th {\n",
              "        vertical-align: top;\n",
              "    }\n",
              "\n",
              "    .dataframe thead th {\n",
              "        text-align: right;\n",
              "    }\n",
              "</style>\n",
              "<table border=\"1\" class=\"dataframe\">\n",
              "  <thead>\n",
              "    <tr style=\"text-align: right;\">\n",
              "      <th></th>\n",
              "      <th>Rooms</th>\n",
              "      <th>Square</th>\n",
              "      <th>LifeSquare</th>\n",
              "      <th>KitchenSquare</th>\n",
              "      <th>Floor</th>\n",
              "      <th>HouseFloor</th>\n",
              "      <th>HouseYear</th>\n",
              "      <th>Ecology_1</th>\n",
              "      <th>Social_1</th>\n",
              "      <th>Social_2</th>\n",
              "      <th>Social_3</th>\n",
              "      <th>Healthcare_1</th>\n",
              "      <th>Helthcare_2</th>\n",
              "      <th>Shops_1</th>\n",
              "      <th>Price</th>\n",
              "    </tr>\n",
              "  </thead>\n",
              "  <tbody>\n",
              "    <tr>\n",
              "      <th>count</th>\n",
              "      <td>10000.000000</td>\n",
              "      <td>10000.000000</td>\n",
              "      <td>7887.000000</td>\n",
              "      <td>10000.000000</td>\n",
              "      <td>10000.000000</td>\n",
              "      <td>10000.0000</td>\n",
              "      <td>1.000000e+04</td>\n",
              "      <td>10000.000000</td>\n",
              "      <td>10000.000000</td>\n",
              "      <td>10000.000000</td>\n",
              "      <td>10000.000000</td>\n",
              "      <td>5202.000000</td>\n",
              "      <td>10000.000000</td>\n",
              "      <td>10000.000000</td>\n",
              "      <td>10000.000000</td>\n",
              "    </tr>\n",
              "    <tr>\n",
              "      <th>mean</th>\n",
              "      <td>1.890500</td>\n",
              "      <td>56.315720</td>\n",
              "      <td>37.199665</td>\n",
              "      <td>6.273300</td>\n",
              "      <td>8.526700</td>\n",
              "      <td>12.6094</td>\n",
              "      <td>3.990166e+03</td>\n",
              "      <td>0.118858</td>\n",
              "      <td>24.687000</td>\n",
              "      <td>5352.157400</td>\n",
              "      <td>8.039200</td>\n",
              "      <td>1142.904419</td>\n",
              "      <td>1.319500</td>\n",
              "      <td>4.231300</td>\n",
              "      <td>214138.937500</td>\n",
              "    </tr>\n",
              "    <tr>\n",
              "      <th>std</th>\n",
              "      <td>0.839522</td>\n",
              "      <td>21.058716</td>\n",
              "      <td>86.241219</td>\n",
              "      <td>28.560839</td>\n",
              "      <td>5.241148</td>\n",
              "      <td>6.7762</td>\n",
              "      <td>2.005003e+05</td>\n",
              "      <td>0.119025</td>\n",
              "      <td>17.532614</td>\n",
              "      <td>4006.799803</td>\n",
              "      <td>23.831875</td>\n",
              "      <td>1021.519470</td>\n",
              "      <td>1.493601</td>\n",
              "      <td>4.806341</td>\n",
              "      <td>92872.273438</td>\n",
              "    </tr>\n",
              "    <tr>\n",
              "      <th>min</th>\n",
              "      <td>0.000000</td>\n",
              "      <td>1.136859</td>\n",
              "      <td>0.370619</td>\n",
              "      <td>0.000000</td>\n",
              "      <td>1.000000</td>\n",
              "      <td>0.0000</td>\n",
              "      <td>1.910000e+03</td>\n",
              "      <td>0.000000</td>\n",
              "      <td>0.000000</td>\n",
              "      <td>168.000000</td>\n",
              "      <td>0.000000</td>\n",
              "      <td>0.000000</td>\n",
              "      <td>0.000000</td>\n",
              "      <td>0.000000</td>\n",
              "      <td>59174.777344</td>\n",
              "    </tr>\n",
              "    <tr>\n",
              "      <th>25%</th>\n",
              "      <td>1.000000</td>\n",
              "      <td>41.774879</td>\n",
              "      <td>22.769833</td>\n",
              "      <td>1.000000</td>\n",
              "      <td>4.000000</td>\n",
              "      <td>9.0000</td>\n",
              "      <td>1.974000e+03</td>\n",
              "      <td>0.017647</td>\n",
              "      <td>6.000000</td>\n",
              "      <td>1564.000000</td>\n",
              "      <td>0.000000</td>\n",
              "      <td>350.000000</td>\n",
              "      <td>0.000000</td>\n",
              "      <td>1.000000</td>\n",
              "      <td>153872.628906</td>\n",
              "    </tr>\n",
              "    <tr>\n",
              "      <th>50%</th>\n",
              "      <td>2.000000</td>\n",
              "      <td>52.513309</td>\n",
              "      <td>32.781261</td>\n",
              "      <td>6.000000</td>\n",
              "      <td>7.000000</td>\n",
              "      <td>13.0000</td>\n",
              "      <td>1.977000e+03</td>\n",
              "      <td>0.075424</td>\n",
              "      <td>25.000000</td>\n",
              "      <td>5285.000000</td>\n",
              "      <td>2.000000</td>\n",
              "      <td>900.000000</td>\n",
              "      <td>1.000000</td>\n",
              "      <td>3.000000</td>\n",
              "      <td>192269.648438</td>\n",
              "    </tr>\n",
              "    <tr>\n",
              "      <th>75%</th>\n",
              "      <td>2.000000</td>\n",
              "      <td>65.900627</td>\n",
              "      <td>45.128803</td>\n",
              "      <td>9.000000</td>\n",
              "      <td>12.000000</td>\n",
              "      <td>17.0000</td>\n",
              "      <td>2.001000e+03</td>\n",
              "      <td>0.195781</td>\n",
              "      <td>36.000000</td>\n",
              "      <td>7227.000000</td>\n",
              "      <td>5.000000</td>\n",
              "      <td>1548.000000</td>\n",
              "      <td>2.000000</td>\n",
              "      <td>6.000000</td>\n",
              "      <td>249135.460938</td>\n",
              "    </tr>\n",
              "    <tr>\n",
              "      <th>max</th>\n",
              "      <td>19.000000</td>\n",
              "      <td>641.065186</td>\n",
              "      <td>7480.592285</td>\n",
              "      <td>2014.000000</td>\n",
              "      <td>42.000000</td>\n",
              "      <td>117.0000</td>\n",
              "      <td>2.005201e+07</td>\n",
              "      <td>0.521867</td>\n",
              "      <td>74.000000</td>\n",
              "      <td>19083.000000</td>\n",
              "      <td>141.000000</td>\n",
              "      <td>4849.000000</td>\n",
              "      <td>6.000000</td>\n",
              "      <td>23.000000</td>\n",
              "      <td>633233.437500</td>\n",
              "    </tr>\n",
              "  </tbody>\n",
              "</table>\n",
              "</div>\n",
              "      <button class=\"colab-df-convert\" onclick=\"convertToInteractive('df-df19008b-7503-42c7-b007-fad95782c8c6')\"\n",
              "              title=\"Convert this dataframe to an interactive table.\"\n",
              "              style=\"display:none;\">\n",
              "        \n",
              "  <svg xmlns=\"http://www.w3.org/2000/svg\" height=\"24px\"viewBox=\"0 0 24 24\"\n",
              "       width=\"24px\">\n",
              "    <path d=\"M0 0h24v24H0V0z\" fill=\"none\"/>\n",
              "    <path d=\"M18.56 5.44l.94 2.06.94-2.06 2.06-.94-2.06-.94-.94-2.06-.94 2.06-2.06.94zm-11 1L8.5 8.5l.94-2.06 2.06-.94-2.06-.94L8.5 2.5l-.94 2.06-2.06.94zm10 10l.94 2.06.94-2.06 2.06-.94-2.06-.94-.94-2.06-.94 2.06-2.06.94z\"/><path d=\"M17.41 7.96l-1.37-1.37c-.4-.4-.92-.59-1.43-.59-.52 0-1.04.2-1.43.59L10.3 9.45l-7.72 7.72c-.78.78-.78 2.05 0 2.83L4 21.41c.39.39.9.59 1.41.59.51 0 1.02-.2 1.41-.59l7.78-7.78 2.81-2.81c.8-.78.8-2.07 0-2.86zM5.41 20L4 18.59l7.72-7.72 1.47 1.35L5.41 20z\"/>\n",
              "  </svg>\n",
              "      </button>\n",
              "      \n",
              "  <style>\n",
              "    .colab-df-container {\n",
              "      display:flex;\n",
              "      flex-wrap:wrap;\n",
              "      gap: 12px;\n",
              "    }\n",
              "\n",
              "    .colab-df-convert {\n",
              "      background-color: #E8F0FE;\n",
              "      border: none;\n",
              "      border-radius: 50%;\n",
              "      cursor: pointer;\n",
              "      display: none;\n",
              "      fill: #1967D2;\n",
              "      height: 32px;\n",
              "      padding: 0 0 0 0;\n",
              "      width: 32px;\n",
              "    }\n",
              "\n",
              "    .colab-df-convert:hover {\n",
              "      background-color: #E2EBFA;\n",
              "      box-shadow: 0px 1px 2px rgba(60, 64, 67, 0.3), 0px 1px 3px 1px rgba(60, 64, 67, 0.15);\n",
              "      fill: #174EA6;\n",
              "    }\n",
              "\n",
              "    [theme=dark] .colab-df-convert {\n",
              "      background-color: #3B4455;\n",
              "      fill: #D2E3FC;\n",
              "    }\n",
              "\n",
              "    [theme=dark] .colab-df-convert:hover {\n",
              "      background-color: #434B5C;\n",
              "      box-shadow: 0px 1px 3px 1px rgba(0, 0, 0, 0.15);\n",
              "      filter: drop-shadow(0px 1px 2px rgba(0, 0, 0, 0.3));\n",
              "      fill: #FFFFFF;\n",
              "    }\n",
              "  </style>\n",
              "\n",
              "      <script>\n",
              "        const buttonEl =\n",
              "          document.querySelector('#df-df19008b-7503-42c7-b007-fad95782c8c6 button.colab-df-convert');\n",
              "        buttonEl.style.display =\n",
              "          google.colab.kernel.accessAllowed ? 'block' : 'none';\n",
              "\n",
              "        async function convertToInteractive(key) {\n",
              "          const element = document.querySelector('#df-df19008b-7503-42c7-b007-fad95782c8c6');\n",
              "          const dataTable =\n",
              "            await google.colab.kernel.invokeFunction('convertToInteractive',\n",
              "                                                     [key], {});\n",
              "          if (!dataTable) return;\n",
              "\n",
              "          const docLinkHtml = 'Like what you see? Visit the ' +\n",
              "            '<a target=\"_blank\" href=https://colab.research.google.com/notebooks/data_table.ipynb>data table notebook</a>'\n",
              "            + ' to learn more about interactive tables.';\n",
              "          element.innerHTML = '';\n",
              "          dataTable['output_type'] = 'display_data';\n",
              "          await google.colab.output.renderOutput(dataTable, element);\n",
              "          const docLink = document.createElement('div');\n",
              "          docLink.innerHTML = docLinkHtml;\n",
              "          element.appendChild(docLink);\n",
              "        }\n",
              "      </script>\n",
              "    </div>\n",
              "  </div>\n",
              "  "
            ],
            "text/plain": [
              "              Rooms        Square  ...       Shops_1          Price\n",
              "count  10000.000000  10000.000000  ...  10000.000000   10000.000000\n",
              "mean       1.890500     56.315720  ...      4.231300  214138.937500\n",
              "std        0.839522     21.058716  ...      4.806341   92872.273438\n",
              "min        0.000000      1.136859  ...      0.000000   59174.777344\n",
              "25%        1.000000     41.774879  ...      1.000000  153872.628906\n",
              "50%        2.000000     52.513309  ...      3.000000  192269.648438\n",
              "75%        2.000000     65.900627  ...      6.000000  249135.460938\n",
              "max       19.000000    641.065186  ...     23.000000  633233.437500\n",
              "\n",
              "[8 rows x 15 columns]"
            ]
          },
          "metadata": {},
          "execution_count": 26
        }
      ]
    },
    {
      "cell_type": "markdown",
      "source": [
        "## Корреляция"
      ],
      "metadata": {
        "id": "FecRX75F7rHL"
      }
    },
    {
      "cell_type": "code",
      "source": [
        "# Prepare Data\n",
        "correlation = df_train.corrwith(df_train['Price']).sort_values(ascending=False)\n",
        "correlation.drop('Price', inplace=True)\n",
        "\n",
        "# Draw plot\n",
        "plt.figure(figsize = (16,8))\n",
        "plt.bar(correlation.index, correlation)\n",
        "plt.xticks(rotation='90')\n",
        "\n",
        "# Decorations    \n",
        "plt.xlabel('Features', fontsize=15)\n",
        "plt.ylabel('Correlation', fontsize=15)\n",
        "plt.title('Feature Correlation', fontsize=15)\n",
        "plt.show()"
      ],
      "metadata": {
        "colab": {
          "base_uri": "https://localhost:8080/",
          "height": 583
        },
        "id": "OO2u76Ql7uN1",
        "outputId": "868302bd-69b1-4804-8407-439eac4dac04"
      },
      "execution_count": 27,
      "outputs": [
        {
          "output_type": "display_data",
          "data": {
            "image/png": "[encoded data removed]",
            "text/plain": [
              "<Figure size 1152x576 with 1 Axes>"
            ]
          },
          "metadata": {
            "needs_background": "light"
          }
        }
      ]
    },
    {
      "cell_type": "markdown",
      "source": [
        "Максимальная корреляция у нас отображается в зависимости от количества комнат и площади."
      ],
      "metadata": {
        "id": "be86D6vYBoyq"
      }
    },
    {
      "cell_type": "code",
      "source": [
        "plt.figure(figsize=(15, 10))\n",
        "\n",
        "sns.set(font_scale=1)\n",
        "\n",
        "corr_matrix = df_train.corr()\n",
        "corr_matrix = np.round(corr_matrix, 2)\n",
        "# corr_matrix[np.abs(corr_matrix) < 0.3] = 0\n",
        "\n",
        "\n",
        "# corrmat = df_train.loc[:, df_train.columns != 'Id'].corr()\n",
        "# plt.subplots(figsize=(12, 9))\n",
        "# sns.heatmap(corrmat, vmax=1, square=True)\n",
        "\n",
        "sns.heatmap(corr_matrix, square=True, annot=True, linewidths=0.4, cmap='jet')\n",
        "\n",
        "plt.title('Correlation matrix')"
      ],
      "metadata": {
        "colab": {
          "base_uri": "https://localhost:8080/",
          "height": 698
        },
        "id": "yOVwSe2nktzi",
        "outputId": "3043a0ac-90b1-40f9-951d-2fbc16f2d61c"
      },
      "execution_count": 28,
      "outputs": [
        {
          "output_type": "execute_result",
          "data": {
            "text/plain": [
              "Text(0.5, 1.0, 'Correlation matrix')"
            ]
          },
          "metadata": {},
          "execution_count": 28
        },
        {
          "output_type": "display_data",
          "data": {
            "image/png": "[encoded data removed]",
            "text/plain": [
              "<Figure size 1080x720 with 2 Axes>"
            ]
          },
          "metadata": {
            "needs_background": "light"
          }
        }
      ]
    },
    {
      "cell_type": "markdown",
      "source": [
        "'Accent', 'Accent_r', 'Blues', 'Blues_r', 'BrBG', 'BrBG_r', 'BuGn', 'BuGn_r', 'BuPu', 'BuPu_r', 'CMRmap', 'CMRmap_r', 'Dark2', 'Dark2_r', 'GnBu', 'GnBu_r', 'Greens', 'Greens_r', 'Greys', 'Greys_r', 'OrRd', 'OrRd_r', 'Oranges', 'Oranges_r', 'PRGn', 'PRGn_r', 'Paired', 'Paired_r', 'Pastel1', 'Pastel1_r', 'Pastel2', 'Pastel2_r', 'PiYG', 'PiYG_r', 'PuBu', 'PuBuGn', 'PuBuGn_r', 'PuBu_r', 'PuOr', 'PuOr_r', 'PuRd', 'PuRd_r', 'Purples', 'Purples_r', 'RdBu', 'RdBu_r', 'RdGy', 'RdGy_r', 'RdPu', 'RdPu_r', 'RdYlBu', 'RdYlBu_r', 'RdYlGn', 'RdYlGn_r', 'Reds', 'Reds_r', 'Set1', 'Set1_r', 'Set2', 'Set2_r', 'Set3', 'Set3_r', 'Spectral', 'Spectral_r', 'Wistia', 'Wistia_r', 'YlGn', 'YlGnBu', 'YlGnBu_r', 'YlGn_r', 'YlOrBr', 'YlOrBr_r', 'YlOrRd', 'YlOrRd_r', 'afmhot', 'afmhot_r', 'autumn', 'autumn_r', 'binary', 'binary_r', 'bone', 'bone_r', 'brg', 'brg_r', 'bwr', 'bwr_r', 'cividis', 'cividis_r', 'cool', 'cool_r', 'coolwarm', 'coolwarm_r', 'copper', 'copper_r', 'crest', 'crest_r', 'cubehelix', 'cubehelix_r', 'flag', 'flag_r', 'flare', 'flare_r', 'gist_earth', 'gist_earth_r', 'gist_gray', 'gist_gray_r', 'gist_heat', 'gist_heat_r', 'gist_ncar', 'gist_ncar_r', 'gist_rainbow', 'gist_rainbow_r', 'gist_stern', 'gist_stern_r', 'gist_yarg', 'gist_yarg_r', 'gnuplot', 'gnuplot2', 'gnuplot2_r', 'gnuplot_r', 'gray', 'gray_r', 'hot', 'hot_r', 'hsv', 'hsv_r', 'icefire', 'icefire_r', 'inferno', 'inferno_r', 'jet', 'jet_r',"
      ],
      "metadata": {
        "id": "xa_j2lKMndfZ"
      }
    },
    {
      "cell_type": "markdown",
      "source": [
        "На хитмап также можно наблюдать, что максимальная корреляция у нас наблюдается в зависимости от площади и количества комнат (эти признаки коррелируют между собой.)\n",
        "\n",
        "Также стоит отметить слабую зависимость от Ecology_1 и House_Year.\n",
        "\n",
        "Забегая вперёд можем отметить Healthcare_1 также имеет слабую взаимосвязь c таргетом и остальными фичами."
      ],
      "metadata": {
        "id": "_tXbeTEhB_vH"
      }
    },
    {
      "cell_type": "code",
      "source": [
        "# df_train = df_train.drop(['LifeSquare'], axis = 1)"
      ],
      "metadata": {
        "id": "OljRyh9zn8IE"
      },
      "execution_count": 29,
      "outputs": []
    },
    {
      "cell_type": "markdown",
      "source": [
        "## Номинативные признаки"
      ],
      "metadata": {
        "id": "aCpQJlLHCtRs"
      }
    },
    {
      "cell_type": "code",
      "source": [
        "nom_feat"
      ],
      "metadata": {
        "colab": {
          "base_uri": "https://localhost:8080/"
        },
        "id": "eSYHzfQmCsmV",
        "outputId": "6b2fd866-28df-4dc2-e680-a90c72dc54fe"
      },
      "execution_count": 30,
      "outputs": [
        {
          "output_type": "execute_result",
          "data": {
            "text/plain": [
              "['Id', 'DistrictId', 'Ecology_2', 'Ecology_3', 'Shops_2']"
            ]
          },
          "metadata": {},
          "execution_count": 30
        }
      ]
    },
    {
      "cell_type": "code",
      "source": [
        "def nom_feat_value_counts(nom_feat):\n",
        "  for el in range(1, len(nom_feat)):\n",
        "    # print(df_train[el].value_counts())\n",
        "    # print(f'Уникальные значения номинативного признака {nom_feat[el]}:{nl * 2}{df_train[nom_feat[el]].value_counts()}{nl}')\n",
        "    # print('\\033[1m' + 'Eyb')\n",
        "    print('\\033[1m' + f'Уникальные значения номинативного признака {nom_feat[el]}:{nl * 2}'\n",
        "     + '\\033[0m' + f'{df_train[nom_feat[el]].value_counts()}{nl}')\n",
        "    print('-' * 60)"
      ],
      "metadata": {
        "id": "e3OxSlvCTJ5n"
      },
      "execution_count": 31,
      "outputs": []
    },
    {
      "cell_type": "code",
      "source": [
        "nom_feat_value_counts(nom_feat)"
      ],
      "metadata": {
        "colab": {
          "base_uri": "https://localhost:8080/"
        },
        "id": "VeZXkVVNUF0e",
        "outputId": "176dd34e-d6c0-4009-d271-d4201c9b5bad"
      },
      "execution_count": 32,
      "outputs": [
        {
          "output_type": "stream",
          "name": "stdout",
          "text": [
            "\u001b[1mУникальные значения номинативного признака DistrictId:\n",
            "\n",
            "\u001b[0m27     851\n",
            "1      652\n",
            "23     565\n",
            "6      511\n",
            "9      294\n",
            "      ... \n",
            "207      1\n",
            "209      1\n",
            "199      1\n",
            "205      1\n",
            "196      1\n",
            "Name: DistrictId, Length: 205, dtype: int64\n",
            "\n",
            "------------------------------------------------------------\n",
            "\u001b[1mУникальные значения номинативного признака Ecology_2:\n",
            "\n",
            "\u001b[0mB    9903\n",
            "A      97\n",
            "Name: Ecology_2, dtype: int64\n",
            "\n",
            "------------------------------------------------------------\n",
            "\u001b[1mУникальные значения номинативного признака Ecology_3:\n",
            "\n",
            "\u001b[0mB    9725\n",
            "A     275\n",
            "Name: Ecology_3, dtype: int64\n",
            "\n",
            "------------------------------------------------------------\n",
            "\u001b[1mУникальные значения номинативного признака Shops_2:\n",
            "\n",
            "\u001b[0mB    9175\n",
            "A     825\n",
            "Name: Shops_2, dtype: int64\n",
            "\n",
            "------------------------------------------------------------\n"
          ]
        }
      ]
    },
    {
      "cell_type": "code",
      "source": [
        "# df_train['DistrictId'].value_counts()"
      ],
      "metadata": {
        "id": "O6tEIxeIDJTf"
      },
      "execution_count": null,
      "outputs": []
    },
    {
      "cell_type": "code",
      "source": [
        "# df_train['Ecology_2'].value_counts()"
      ],
      "metadata": {
        "id": "ZVaweJuLSmtQ"
      },
      "execution_count": null,
      "outputs": []
    },
    {
      "cell_type": "code",
      "source": [
        "# df_train['Ecology_3'].value_counts()"
      ],
      "metadata": {
        "id": "Zd5TkbNETA5g"
      },
      "execution_count": null,
      "outputs": []
    },
    {
      "cell_type": "code",
      "source": [
        "# df_train['Shops_2'].value_counts()"
      ],
      "metadata": {
        "id": "BgBGLGo8THWu"
      },
      "execution_count": null,
      "outputs": []
    },
    {
      "cell_type": "markdown",
      "source": [
        "## Обработка выбросов"
      ],
      "metadata": {
        "id": "PxnhGttV_v4B"
      }
    },
    {
      "cell_type": "code",
      "source": [
        "df_train.describe().T"
      ],
      "metadata": {
        "colab": {
          "base_uri": "https://localhost:8080/",
          "height": 520
        },
        "id": "PJIijNORtYbv",
        "outputId": "ba6aefe6-5cf3-4238-a0eb-7d3fe3a6fb10"
      },
      "execution_count": 33,
      "outputs": [
        {
          "output_type": "execute_result",
          "data": {
            "text/html": [
              "\n",
              "  <div id=\"df-3e61f1f3-1b5e-4028-a16f-8ffdda4236f8\">\n",
              "    <div class=\"colab-df-container\">\n",
              "      <div>\n",
              "<style scoped>\n",
              "    .dataframe tbody tr th:only-of-type {\n",
              "        vertical-align: middle;\n",
              "    }\n",
              "\n",
              "    .dataframe tbody tr th {\n",
              "        vertical-align: top;\n",
              "    }\n",
              "\n",
              "    .dataframe thead th {\n",
              "        text-align: right;\n",
              "    }\n",
              "</style>\n",
              "<table border=\"1\" class=\"dataframe\">\n",
              "  <thead>\n",
              "    <tr style=\"text-align: right;\">\n",
              "      <th></th>\n",
              "      <th>count</th>\n",
              "      <th>mean</th>\n",
              "      <th>std</th>\n",
              "      <th>min</th>\n",
              "      <th>25%</th>\n",
              "      <th>50%</th>\n",
              "      <th>75%</th>\n",
              "      <th>max</th>\n",
              "    </tr>\n",
              "  </thead>\n",
              "  <tbody>\n",
              "    <tr>\n",
              "      <th>Rooms</th>\n",
              "      <td>10000.0</td>\n",
              "      <td>1.890500</td>\n",
              "      <td>0.839522</td>\n",
              "      <td>0.000000</td>\n",
              "      <td>1.000000</td>\n",
              "      <td>2.000000</td>\n",
              "      <td>2.000000</td>\n",
              "      <td>1.900000e+01</td>\n",
              "    </tr>\n",
              "    <tr>\n",
              "      <th>Square</th>\n",
              "      <td>10000.0</td>\n",
              "      <td>56.315720</td>\n",
              "      <td>21.058716</td>\n",
              "      <td>1.136859</td>\n",
              "      <td>41.774879</td>\n",
              "      <td>52.513309</td>\n",
              "      <td>65.900627</td>\n",
              "      <td>6.410652e+02</td>\n",
              "    </tr>\n",
              "    <tr>\n",
              "      <th>LifeSquare</th>\n",
              "      <td>7887.0</td>\n",
              "      <td>37.199665</td>\n",
              "      <td>86.241219</td>\n",
              "      <td>0.370619</td>\n",
              "      <td>22.769833</td>\n",
              "      <td>32.781261</td>\n",
              "      <td>45.128803</td>\n",
              "      <td>7.480592e+03</td>\n",
              "    </tr>\n",
              "    <tr>\n",
              "      <th>KitchenSquare</th>\n",
              "      <td>10000.0</td>\n",
              "      <td>6.273300</td>\n",
              "      <td>28.560839</td>\n",
              "      <td>0.000000</td>\n",
              "      <td>1.000000</td>\n",
              "      <td>6.000000</td>\n",
              "      <td>9.000000</td>\n",
              "      <td>2.014000e+03</td>\n",
              "    </tr>\n",
              "    <tr>\n",
              "      <th>Floor</th>\n",
              "      <td>10000.0</td>\n",
              "      <td>8.526700</td>\n",
              "      <td>5.241148</td>\n",
              "      <td>1.000000</td>\n",
              "      <td>4.000000</td>\n",
              "      <td>7.000000</td>\n",
              "      <td>12.000000</td>\n",
              "      <td>4.200000e+01</td>\n",
              "    </tr>\n",
              "    <tr>\n",
              "      <th>HouseFloor</th>\n",
              "      <td>10000.0</td>\n",
              "      <td>12.609400</td>\n",
              "      <td>6.776200</td>\n",
              "      <td>0.000000</td>\n",
              "      <td>9.000000</td>\n",
              "      <td>13.000000</td>\n",
              "      <td>17.000000</td>\n",
              "      <td>1.170000e+02</td>\n",
              "    </tr>\n",
              "    <tr>\n",
              "      <th>HouseYear</th>\n",
              "      <td>10000.0</td>\n",
              "      <td>3990.166300</td>\n",
              "      <td>200500.261427</td>\n",
              "      <td>1910.000000</td>\n",
              "      <td>1974.000000</td>\n",
              "      <td>1977.000000</td>\n",
              "      <td>2001.000000</td>\n",
              "      <td>2.005201e+07</td>\n",
              "    </tr>\n",
              "    <tr>\n",
              "      <th>Ecology_1</th>\n",
              "      <td>10000.0</td>\n",
              "      <td>0.118858</td>\n",
              "      <td>0.119025</td>\n",
              "      <td>0.000000</td>\n",
              "      <td>0.017647</td>\n",
              "      <td>0.075424</td>\n",
              "      <td>0.195781</td>\n",
              "      <td>5.218670e-01</td>\n",
              "    </tr>\n",
              "    <tr>\n",
              "      <th>Social_1</th>\n",
              "      <td>10000.0</td>\n",
              "      <td>24.687000</td>\n",
              "      <td>17.532614</td>\n",
              "      <td>0.000000</td>\n",
              "      <td>6.000000</td>\n",
              "      <td>25.000000</td>\n",
              "      <td>36.000000</td>\n",
              "      <td>7.400000e+01</td>\n",
              "    </tr>\n",
              "    <tr>\n",
              "      <th>Social_2</th>\n",
              "      <td>10000.0</td>\n",
              "      <td>5352.157400</td>\n",
              "      <td>4006.799803</td>\n",
              "      <td>168.000000</td>\n",
              "      <td>1564.000000</td>\n",
              "      <td>5285.000000</td>\n",
              "      <td>7227.000000</td>\n",
              "      <td>1.908300e+04</td>\n",
              "    </tr>\n",
              "    <tr>\n",
              "      <th>Social_3</th>\n",
              "      <td>10000.0</td>\n",
              "      <td>8.039200</td>\n",
              "      <td>23.831875</td>\n",
              "      <td>0.000000</td>\n",
              "      <td>0.000000</td>\n",
              "      <td>2.000000</td>\n",
              "      <td>5.000000</td>\n",
              "      <td>1.410000e+02</td>\n",
              "    </tr>\n",
              "    <tr>\n",
              "      <th>Healthcare_1</th>\n",
              "      <td>5202.0</td>\n",
              "      <td>1142.904419</td>\n",
              "      <td>1021.519470</td>\n",
              "      <td>0.000000</td>\n",
              "      <td>350.000000</td>\n",
              "      <td>900.000000</td>\n",
              "      <td>1548.000000</td>\n",
              "      <td>4.849000e+03</td>\n",
              "    </tr>\n",
              "    <tr>\n",
              "      <th>Helthcare_2</th>\n",
              "      <td>10000.0</td>\n",
              "      <td>1.319500</td>\n",
              "      <td>1.493601</td>\n",
              "      <td>0.000000</td>\n",
              "      <td>0.000000</td>\n",
              "      <td>1.000000</td>\n",
              "      <td>2.000000</td>\n",
              "      <td>6.000000e+00</td>\n",
              "    </tr>\n",
              "    <tr>\n",
              "      <th>Shops_1</th>\n",
              "      <td>10000.0</td>\n",
              "      <td>4.231300</td>\n",
              "      <td>4.806341</td>\n",
              "      <td>0.000000</td>\n",
              "      <td>1.000000</td>\n",
              "      <td>3.000000</td>\n",
              "      <td>6.000000</td>\n",
              "      <td>2.300000e+01</td>\n",
              "    </tr>\n",
              "    <tr>\n",
              "      <th>Price</th>\n",
              "      <td>10000.0</td>\n",
              "      <td>214138.937500</td>\n",
              "      <td>92872.273438</td>\n",
              "      <td>59174.777344</td>\n",
              "      <td>153872.628906</td>\n",
              "      <td>192269.648438</td>\n",
              "      <td>249135.460938</td>\n",
              "      <td>6.332334e+05</td>\n",
              "    </tr>\n",
              "  </tbody>\n",
              "</table>\n",
              "</div>\n",
              "      <button class=\"colab-df-convert\" onclick=\"convertToInteractive('df-3e61f1f3-1b5e-4028-a16f-8ffdda4236f8')\"\n",
              "              title=\"Convert this dataframe to an interactive table.\"\n",
              "              style=\"display:none;\">\n",
              "        \n",
              "  <svg xmlns=\"http://www.w3.org/2000/svg\" height=\"24px\"viewBox=\"0 0 24 24\"\n",
              "       width=\"24px\">\n",
              "    <path d=\"M0 0h24v24H0V0z\" fill=\"none\"/>\n",
              "    <path d=\"M18.56 5.44l.94 2.06.94-2.06 2.06-.94-2.06-.94-.94-2.06-.94 2.06-2.06.94zm-11 1L8.5 8.5l.94-2.06 2.06-.94-2.06-.94L8.5 2.5l-.94 2.06-2.06.94zm10 10l.94 2.06.94-2.06 2.06-.94-2.06-.94-.94-2.06-.94 2.06-2.06.94z\"/><path d=\"M17.41 7.96l-1.37-1.37c-.4-.4-.92-.59-1.43-.59-.52 0-1.04.2-1.43.59L10.3 9.45l-7.72 7.72c-.78.78-.78 2.05 0 2.83L4 21.41c.39.39.9.59 1.41.59.51 0 1.02-.2 1.41-.59l7.78-7.78 2.81-2.81c.8-.78.8-2.07 0-2.86zM5.41 20L4 18.59l7.72-7.72 1.47 1.35L5.41 20z\"/>\n",
              "  </svg>\n",
              "      </button>\n",
              "      \n",
              "  <style>\n",
              "    .colab-df-container {\n",
              "      display:flex;\n",
              "      flex-wrap:wrap;\n",
              "      gap: 12px;\n",
              "    }\n",
              "\n",
              "    .colab-df-convert {\n",
              "      background-color: #E8F0FE;\n",
              "      border: none;\n",
              "      border-radius: 50%;\n",
              "      cursor: pointer;\n",
              "      display: none;\n",
              "      fill: #1967D2;\n",
              "      height: 32px;\n",
              "      padding: 0 0 0 0;\n",
              "      width: 32px;\n",
              "    }\n",
              "\n",
              "    .colab-df-convert:hover {\n",
              "      background-color: #E2EBFA;\n",
              "      box-shadow: 0px 1px 2px rgba(60, 64, 67, 0.3), 0px 1px 3px 1px rgba(60, 64, 67, 0.15);\n",
              "      fill: #174EA6;\n",
              "    }\n",
              "\n",
              "    [theme=dark] .colab-df-convert {\n",
              "      background-color: #3B4455;\n",
              "      fill: #D2E3FC;\n",
              "    }\n",
              "\n",
              "    [theme=dark] .colab-df-convert:hover {\n",
              "      background-color: #434B5C;\n",
              "      box-shadow: 0px 1px 3px 1px rgba(0, 0, 0, 0.15);\n",
              "      filter: drop-shadow(0px 1px 2px rgba(0, 0, 0, 0.3));\n",
              "      fill: #FFFFFF;\n",
              "    }\n",
              "  </style>\n",
              "\n",
              "      <script>\n",
              "        const buttonEl =\n",
              "          document.querySelector('#df-3e61f1f3-1b5e-4028-a16f-8ffdda4236f8 button.colab-df-convert');\n",
              "        buttonEl.style.display =\n",
              "          google.colab.kernel.accessAllowed ? 'block' : 'none';\n",
              "\n",
              "        async function convertToInteractive(key) {\n",
              "          const element = document.querySelector('#df-3e61f1f3-1b5e-4028-a16f-8ffdda4236f8');\n",
              "          const dataTable =\n",
              "            await google.colab.kernel.invokeFunction('convertToInteractive',\n",
              "                                                     [key], {});\n",
              "          if (!dataTable) return;\n",
              "\n",
              "          const docLinkHtml = 'Like what you see? Visit the ' +\n",
              "            '<a target=\"_blank\" href=https://colab.research.google.com/notebooks/data_table.ipynb>data table notebook</a>'\n",
              "            + ' to learn more about interactive tables.';\n",
              "          element.innerHTML = '';\n",
              "          dataTable['output_type'] = 'display_data';\n",
              "          await google.colab.output.renderOutput(dataTable, element);\n",
              "          const docLink = document.createElement('div');\n",
              "          docLink.innerHTML = docLinkHtml;\n",
              "          element.appendChild(docLink);\n",
              "        }\n",
              "      </script>\n",
              "    </div>\n",
              "  </div>\n",
              "  "
            ],
            "text/plain": [
              "                 count           mean  ...            75%           max\n",
              "Rooms          10000.0       1.890500  ...       2.000000  1.900000e+01\n",
              "Square         10000.0      56.315720  ...      65.900627  6.410652e+02\n",
              "LifeSquare      7887.0      37.199665  ...      45.128803  7.480592e+03\n",
              "KitchenSquare  10000.0       6.273300  ...       9.000000  2.014000e+03\n",
              "Floor          10000.0       8.526700  ...      12.000000  4.200000e+01\n",
              "HouseFloor     10000.0      12.609400  ...      17.000000  1.170000e+02\n",
              "HouseYear      10000.0    3990.166300  ...    2001.000000  2.005201e+07\n",
              "Ecology_1      10000.0       0.118858  ...       0.195781  5.218670e-01\n",
              "Social_1       10000.0      24.687000  ...      36.000000  7.400000e+01\n",
              "Social_2       10000.0    5352.157400  ...    7227.000000  1.908300e+04\n",
              "Social_3       10000.0       8.039200  ...       5.000000  1.410000e+02\n",
              "Healthcare_1    5202.0    1142.904419  ...    1548.000000  4.849000e+03\n",
              "Helthcare_2    10000.0       1.319500  ...       2.000000  6.000000e+00\n",
              "Shops_1        10000.0       4.231300  ...       6.000000  2.300000e+01\n",
              "Price          10000.0  214138.937500  ...  249135.460938  6.332334e+05\n",
              "\n",
              "[15 rows x 8 columns]"
            ]
          },
          "metadata": {},
          "execution_count": 33
        }
      ]
    },
    {
      "cell_type": "code",
      "source": [
        "df_train[num_feat].hist(bins=40, figsize=(16, 16), log = True)\n",
        "\n",
        "plt.show()"
      ],
      "metadata": {
        "colab": {
          "base_uri": "https://localhost:8080/",
          "height": 936
        },
        "id": "xW6Iwi04Z8sw",
        "outputId": "dd3a8450-08bd-45db-e6ba-236779a27b71"
      },
      "execution_count": 34,
      "outputs": [
        {
          "output_type": "display_data",
          "data": {
            "image/png": "[encoded data removed]",
            "text/plain": [
              "<Figure size 1152x1152 with 16 Axes>"
            ]
          },
          "metadata": {}
        }
      ]
    },
    {
      "cell_type": "markdown",
      "source": [
        "Нерациональные выбросы HouseYear, KitchenSquare и признаки с необоснованно выскоими значениями наблюдаются HouseFloor, LifeSquare, Rooms, Square"
      ],
      "metadata": {
        "id": "9qiiwGCWE7EU"
      }
    },
    {
      "cell_type": "code",
      "source": [
        "# df_train.query('Rooms > 5')"
      ],
      "metadata": {
        "id": "RtatOE4ctmNv"
      },
      "execution_count": null,
      "outputs": []
    },
    {
      "cell_type": "markdown",
      "source": [
        "https://leftjoin.ru/all/outliers-detection-in-python/"
      ],
      "metadata": {
        "id": "SVAcM7khtKtr"
      }
    },
    {
      "cell_type": "markdown",
      "source": [
        "Рассмотрим данные подробнее"
      ],
      "metadata": {
        "id": "tIOZu1Xez-aI"
      }
    },
    {
      "cell_type": "markdown",
      "source": [
        "### HouseYear"
      ],
      "metadata": {
        "id": "Q-PYUmx4tLyY"
      }
    },
    {
      "cell_type": "code",
      "source": [
        "# df_train['HouseYear'].hist(figsize=(4, 4), log=True)\n",
        "# plt.title('HouseYear')\n",
        "# plt.xlabel('year')"
      ],
      "metadata": {
        "id": "INgErOH4ycEI"
      },
      "execution_count": 35,
      "outputs": []
    },
    {
      "cell_type": "code",
      "source": [
        "plt.figure(figsize=(4, 4))\n",
        "sns.boxplot(df_train['HouseYear'], whis=1.5, orient='h')"
      ],
      "metadata": {
        "colab": {
          "base_uri": "https://localhost:8080/",
          "height": 302
        },
        "id": "d5mowA8V0l_u",
        "outputId": "72b9d948-97dd-473b-b7ee-ab145e4bf040"
      },
      "execution_count": 36,
      "outputs": [
        {
          "output_type": "execute_result",
          "data": {
            "text/plain": [
              "<matplotlib.axes._subplots.AxesSubplot at 0x7fed6deead50>"
            ]
          },
          "metadata": {},
          "execution_count": 36
        },
        {
          "output_type": "display_data",
          "data": {
            "image/png": "[encoded data removed]",
            "text/plain": [
              "<Figure size 288x288 with 1 Axes>"
            ]
          },
          "metadata": {}
        }
      ]
    },
    {
      "cell_type": "code",
      "source": [
        "df_train.corr()['Price']['HouseYear']"
      ],
      "metadata": {
        "id": "xzopLq_N1YDY",
        "outputId": "0a1d58c4-fc8c-4373-af17-7c0c898509e0",
        "colab": {
          "base_uri": "https://localhost:8080/"
        }
      },
      "execution_count": 37,
      "outputs": [
        {
          "output_type": "execute_result",
          "data": {
            "text/plain": [
              "0.00430539418333514"
            ]
          },
          "metadata": {},
          "execution_count": 37
        }
      ]
    },
    {
      "cell_type": "markdown",
      "source": [
        "Т.е. у нас есть выбросы в этой фиче."
      ],
      "metadata": {
        "id": "KB3lsCRp2LOA"
      }
    },
    {
      "cell_type": "code",
      "source": [
        "# df_train.boxplot(column='HouseYear', rot=90)"
      ],
      "metadata": {
        "id": "o1wUn3skyIox"
      },
      "execution_count": null,
      "outputs": []
    },
    {
      "cell_type": "code",
      "source": [
        "df_train['HouseYear'].sort_values(ascending=False)"
      ],
      "metadata": {
        "colab": {
          "base_uri": "https://localhost:8080/"
        },
        "id": "uDhUjZzguVUr",
        "outputId": "4599bb28-d139-4102-96a3-f68fe1065e14"
      },
      "execution_count": 38,
      "outputs": [
        {
          "output_type": "execute_result",
          "data": {
            "text/plain": [
              "9163    20052011\n",
              "8828        4968\n",
              "7246        2020\n",
              "2350        2020\n",
              "8296        2020\n",
              "          ...   \n",
              "7610        1916\n",
              "6250        1914\n",
              "2066        1912\n",
              "2795        1912\n",
              "6794        1910\n",
              "Name: HouseYear, Length: 10000, dtype: int32"
            ]
          },
          "metadata": {},
          "execution_count": 38
        }
      ]
    },
    {
      "cell_type": "code",
      "source": [
        "df_train.loc[df_train['HouseYear'] > 2020, :]"
      ],
      "metadata": {
        "colab": {
          "base_uri": "https://localhost:8080/",
          "height": 112
        },
        "id": "kAkNqel1tPu_",
        "outputId": "75a803ba-1831-4697-f2db-5168a359901d"
      },
      "execution_count": 39,
      "outputs": [
        {
          "output_type": "execute_result",
          "data": {
            "text/html": [
              "\n",
              "  <div id=\"df-d298d9de-8e0a-4e40-ba4b-e60b15b2d7cb\">\n",
              "    <div class=\"colab-df-container\">\n",
              "      <div>\n",
              "<style scoped>\n",
              "    .dataframe tbody tr th:only-of-type {\n",
              "        vertical-align: middle;\n",
              "    }\n",
              "\n",
              "    .dataframe tbody tr th {\n",
              "        vertical-align: top;\n",
              "    }\n",
              "\n",
              "    .dataframe thead th {\n",
              "        text-align: right;\n",
              "    }\n",
              "</style>\n",
              "<table border=\"1\" class=\"dataframe\">\n",
              "  <thead>\n",
              "    <tr style=\"text-align: right;\">\n",
              "      <th></th>\n",
              "      <th>Id</th>\n",
              "      <th>DistrictId</th>\n",
              "      <th>Rooms</th>\n",
              "      <th>Square</th>\n",
              "      <th>LifeSquare</th>\n",
              "      <th>KitchenSquare</th>\n",
              "      <th>Floor</th>\n",
              "      <th>HouseFloor</th>\n",
              "      <th>HouseYear</th>\n",
              "      <th>Ecology_1</th>\n",
              "      <th>Ecology_2</th>\n",
              "      <th>Ecology_3</th>\n",
              "      <th>Social_1</th>\n",
              "      <th>Social_2</th>\n",
              "      <th>Social_3</th>\n",
              "      <th>Healthcare_1</th>\n",
              "      <th>Helthcare_2</th>\n",
              "      <th>Shops_1</th>\n",
              "      <th>Shops_2</th>\n",
              "      <th>Price</th>\n",
              "    </tr>\n",
              "  </thead>\n",
              "  <tbody>\n",
              "    <tr>\n",
              "      <th>8828</th>\n",
              "      <td>11607</td>\n",
              "      <td>147</td>\n",
              "      <td>2.0</td>\n",
              "      <td>44.791836</td>\n",
              "      <td>28.360394</td>\n",
              "      <td>5.0</td>\n",
              "      <td>4</td>\n",
              "      <td>9.0</td>\n",
              "      <td>4968</td>\n",
              "      <td>0.319809</td>\n",
              "      <td>B</td>\n",
              "      <td>B</td>\n",
              "      <td>25</td>\n",
              "      <td>4756</td>\n",
              "      <td>16</td>\n",
              "      <td>2857.0</td>\n",
              "      <td>5</td>\n",
              "      <td>8</td>\n",
              "      <td>B</td>\n",
              "      <td>243028.609375</td>\n",
              "    </tr>\n",
              "    <tr>\n",
              "      <th>9163</th>\n",
              "      <td>10814</td>\n",
              "      <td>109</td>\n",
              "      <td>1.0</td>\n",
              "      <td>37.265072</td>\n",
              "      <td>20.239714</td>\n",
              "      <td>9.0</td>\n",
              "      <td>9</td>\n",
              "      <td>12.0</td>\n",
              "      <td>20052011</td>\n",
              "      <td>0.136330</td>\n",
              "      <td>B</td>\n",
              "      <td>B</td>\n",
              "      <td>30</td>\n",
              "      <td>6141</td>\n",
              "      <td>10</td>\n",
              "      <td>262.0</td>\n",
              "      <td>3</td>\n",
              "      <td>6</td>\n",
              "      <td>B</td>\n",
              "      <td>254084.531250</td>\n",
              "    </tr>\n",
              "  </tbody>\n",
              "</table>\n",
              "</div>\n",
              "      <button class=\"colab-df-convert\" onclick=\"convertToInteractive('df-d298d9de-8e0a-4e40-ba4b-e60b15b2d7cb')\"\n",
              "              title=\"Convert this dataframe to an interactive table.\"\n",
              "              style=\"display:none;\">\n",
              "        \n",
              "  <svg xmlns=\"http://www.w3.org/2000/svg\" height=\"24px\"viewBox=\"0 0 24 24\"\n",
              "       width=\"24px\">\n",
              "    <path d=\"M0 0h24v24H0V0z\" fill=\"none\"/>\n",
              "    <path d=\"M18.56 5.44l.94 2.06.94-2.06 2.06-.94-2.06-.94-.94-2.06-.94 2.06-2.06.94zm-11 1L8.5 8.5l.94-2.06 2.06-.94-2.06-.94L8.5 2.5l-.94 2.06-2.06.94zm10 10l.94 2.06.94-2.06 2.06-.94-2.06-.94-.94-2.06-.94 2.06-2.06.94z\"/><path d=\"M17.41 7.96l-1.37-1.37c-.4-.4-.92-.59-1.43-.59-.52 0-1.04.2-1.43.59L10.3 9.45l-7.72 7.72c-.78.78-.78 2.05 0 2.83L4 21.41c.39.39.9.59 1.41.59.51 0 1.02-.2 1.41-.59l7.78-7.78 2.81-2.81c.8-.78.8-2.07 0-2.86zM5.41 20L4 18.59l7.72-7.72 1.47 1.35L5.41 20z\"/>\n",
              "  </svg>\n",
              "      </button>\n",
              "      \n",
              "  <style>\n",
              "    .colab-df-container {\n",
              "      display:flex;\n",
              "      flex-wrap:wrap;\n",
              "      gap: 12px;\n",
              "    }\n",
              "\n",
              "    .colab-df-convert {\n",
              "      background-color: #E8F0FE;\n",
              "      border: none;\n",
              "      border-radius: 50%;\n",
              "      cursor: pointer;\n",
              "      display: none;\n",
              "      fill: #1967D2;\n",
              "      height: 32px;\n",
              "      padding: 0 0 0 0;\n",
              "      width: 32px;\n",
              "    }\n",
              "\n",
              "    .colab-df-convert:hover {\n",
              "      background-color: #E2EBFA;\n",
              "      box-shadow: 0px 1px 2px rgba(60, 64, 67, 0.3), 0px 1px 3px 1px rgba(60, 64, 67, 0.15);\n",
              "      fill: #174EA6;\n",
              "    }\n",
              "\n",
              "    [theme=dark] .colab-df-convert {\n",
              "      background-color: #3B4455;\n",
              "      fill: #D2E3FC;\n",
              "    }\n",
              "\n",
              "    [theme=dark] .colab-df-convert:hover {\n",
              "      background-color: #434B5C;\n",
              "      box-shadow: 0px 1px 3px 1px rgba(0, 0, 0, 0.15);\n",
              "      filter: drop-shadow(0px 1px 2px rgba(0, 0, 0, 0.3));\n",
              "      fill: #FFFFFF;\n",
              "    }\n",
              "  </style>\n",
              "\n",
              "      <script>\n",
              "        const buttonEl =\n",
              "          document.querySelector('#df-d298d9de-8e0a-4e40-ba4b-e60b15b2d7cb button.colab-df-convert');\n",
              "        buttonEl.style.display =\n",
              "          google.colab.kernel.accessAllowed ? 'block' : 'none';\n",
              "\n",
              "        async function convertToInteractive(key) {\n",
              "          const element = document.querySelector('#df-d298d9de-8e0a-4e40-ba4b-e60b15b2d7cb');\n",
              "          const dataTable =\n",
              "            await google.colab.kernel.invokeFunction('convertToInteractive',\n",
              "                                                     [key], {});\n",
              "          if (!dataTable) return;\n",
              "\n",
              "          const docLinkHtml = 'Like what you see? Visit the ' +\n",
              "            '<a target=\"_blank\" href=https://colab.research.google.com/notebooks/data_table.ipynb>data table notebook</a>'\n",
              "            + ' to learn more about interactive tables.';\n",
              "          element.innerHTML = '';\n",
              "          dataTable['output_type'] = 'display_data';\n",
              "          await google.colab.output.renderOutput(dataTable, element);\n",
              "          const docLink = document.createElement('div');\n",
              "          docLink.innerHTML = docLinkHtml;\n",
              "          element.appendChild(docLink);\n",
              "        }\n",
              "      </script>\n",
              "    </div>\n",
              "  </div>\n",
              "  "
            ],
            "text/plain": [
              "         Id DistrictId  Rooms  ...  Shops_1  Shops_2          Price\n",
              "8828  11607        147    2.0  ...        8        B  243028.609375\n",
              "9163  10814        109    1.0  ...        6        B  254084.531250\n",
              "\n",
              "[2 rows x 20 columns]"
            ]
          },
          "metadata": {},
          "execution_count": 39
        }
      ]
    },
    {
      "cell_type": "markdown",
      "source": [
        "Предположим, что значение 20052011 - это ошибка. Заменим 20052011 на 2011 предполагая, что 20052011 - это годы строительства.\n",
        "\n",
        "Также заменим значение 4968 на 1968."
      ],
      "metadata": {
        "id": "0UjJO6vWtO6d"
      }
    },
    {
      "cell_type": "code",
      "source": [
        "df_train.loc[df_train['HouseYear'] == 20052011, 'HouseYear'] = 2011\n",
        "df_train.loc[df_train['HouseYear'] == 4968, 'HouseYear'] = 1968"
      ],
      "metadata": {
        "id": "Dx27BQrf2jhX"
      },
      "execution_count": 40,
      "outputs": []
    },
    {
      "cell_type": "code",
      "source": [
        "df_filter = df_train['Id'].isin([10814, 11607])\n",
        "df_train[df_filter]"
      ],
      "metadata": {
        "colab": {
          "base_uri": "https://localhost:8080/",
          "height": 50
        },
        "id": "LOByWUuZ4z6S",
        "outputId": "323a48b0-44e5-4676-c8db-53bd6ea89f72"
      },
      "execution_count": 41,
      "outputs": [
        {
          "output_type": "execute_result",
          "data": {
            "text/html": [
              "\n",
              "  <div id=\"df-60a94be6-d167-4562-b807-b4d0c729ec29\">\n",
              "    <div class=\"colab-df-container\">\n",
              "      <div>\n",
              "<style scoped>\n",
              "    .dataframe tbody tr th:only-of-type {\n",
              "        vertical-align: middle;\n",
              "    }\n",
              "\n",
              "    .dataframe tbody tr th {\n",
              "        vertical-align: top;\n",
              "    }\n",
              "\n",
              "    .dataframe thead th {\n",
              "        text-align: right;\n",
              "    }\n",
              "</style>\n",
              "<table border=\"1\" class=\"dataframe\">\n",
              "  <thead>\n",
              "    <tr style=\"text-align: right;\">\n",
              "      <th></th>\n",
              "      <th>Id</th>\n",
              "      <th>DistrictId</th>\n",
              "      <th>Rooms</th>\n",
              "      <th>Square</th>\n",
              "      <th>LifeSquare</th>\n",
              "      <th>KitchenSquare</th>\n",
              "      <th>Floor</th>\n",
              "      <th>HouseFloor</th>\n",
              "      <th>HouseYear</th>\n",
              "      <th>Ecology_1</th>\n",
              "      <th>Ecology_2</th>\n",
              "      <th>Ecology_3</th>\n",
              "      <th>Social_1</th>\n",
              "      <th>Social_2</th>\n",
              "      <th>Social_3</th>\n",
              "      <th>Healthcare_1</th>\n",
              "      <th>Helthcare_2</th>\n",
              "      <th>Shops_1</th>\n",
              "      <th>Shops_2</th>\n",
              "      <th>Price</th>\n",
              "    </tr>\n",
              "  </thead>\n",
              "  <tbody>\n",
              "  </tbody>\n",
              "</table>\n",
              "</div>\n",
              "      <button class=\"colab-df-convert\" onclick=\"convertToInteractive('df-60a94be6-d167-4562-b807-b4d0c729ec29')\"\n",
              "              title=\"Convert this dataframe to an interactive table.\"\n",
              "              style=\"display:none;\">\n",
              "        \n",
              "  <svg xmlns=\"http://www.w3.org/2000/svg\" height=\"24px\"viewBox=\"0 0 24 24\"\n",
              "       width=\"24px\">\n",
              "    <path d=\"M0 0h24v24H0V0z\" fill=\"none\"/>\n",
              "    <path d=\"M18.56 5.44l.94 2.06.94-2.06 2.06-.94-2.06-.94-.94-2.06-.94 2.06-2.06.94zm-11 1L8.5 8.5l.94-2.06 2.06-.94-2.06-.94L8.5 2.5l-.94 2.06-2.06.94zm10 10l.94 2.06.94-2.06 2.06-.94-2.06-.94-.94-2.06-.94 2.06-2.06.94z\"/><path d=\"M17.41 7.96l-1.37-1.37c-.4-.4-.92-.59-1.43-.59-.52 0-1.04.2-1.43.59L10.3 9.45l-7.72 7.72c-.78.78-.78 2.05 0 2.83L4 21.41c.39.39.9.59 1.41.59.51 0 1.02-.2 1.41-.59l7.78-7.78 2.81-2.81c.8-.78.8-2.07 0-2.86zM5.41 20L4 18.59l7.72-7.72 1.47 1.35L5.41 20z\"/>\n",
              "  </svg>\n",
              "      </button>\n",
              "      \n",
              "  <style>\n",
              "    .colab-df-container {\n",
              "      display:flex;\n",
              "      flex-wrap:wrap;\n",
              "      gap: 12px;\n",
              "    }\n",
              "\n",
              "    .colab-df-convert {\n",
              "      background-color: #E8F0FE;\n",
              "      border: none;\n",
              "      border-radius: 50%;\n",
              "      cursor: pointer;\n",
              "      display: none;\n",
              "      fill: #1967D2;\n",
              "      height: 32px;\n",
              "      padding: 0 0 0 0;\n",
              "      width: 32px;\n",
              "    }\n",
              "\n",
              "    .colab-df-convert:hover {\n",
              "      background-color: #E2EBFA;\n",
              "      box-shadow: 0px 1px 2px rgba(60, 64, 67, 0.3), 0px 1px 3px 1px rgba(60, 64, 67, 0.15);\n",
              "      fill: #174EA6;\n",
              "    }\n",
              "\n",
              "    [theme=dark] .colab-df-convert {\n",
              "      background-color: #3B4455;\n",
              "      fill: #D2E3FC;\n",
              "    }\n",
              "\n",
              "    [theme=dark] .colab-df-convert:hover {\n",
              "      background-color: #434B5C;\n",
              "      box-shadow: 0px 1px 3px 1px rgba(0, 0, 0, 0.15);\n",
              "      filter: drop-shadow(0px 1px 2px rgba(0, 0, 0, 0.3));\n",
              "      fill: #FFFFFF;\n",
              "    }\n",
              "  </style>\n",
              "\n",
              "      <script>\n",
              "        const buttonEl =\n",
              "          document.querySelector('#df-60a94be6-d167-4562-b807-b4d0c729ec29 button.colab-df-convert');\n",
              "        buttonEl.style.display =\n",
              "          google.colab.kernel.accessAllowed ? 'block' : 'none';\n",
              "\n",
              "        async function convertToInteractive(key) {\n",
              "          const element = document.querySelector('#df-60a94be6-d167-4562-b807-b4d0c729ec29');\n",
              "          const dataTable =\n",
              "            await google.colab.kernel.invokeFunction('convertToInteractive',\n",
              "                                                     [key], {});\n",
              "          if (!dataTable) return;\n",
              "\n",
              "          const docLinkHtml = 'Like what you see? Visit the ' +\n",
              "            '<a target=\"_blank\" href=https://colab.research.google.com/notebooks/data_table.ipynb>data table notebook</a>'\n",
              "            + ' to learn more about interactive tables.';\n",
              "          element.innerHTML = '';\n",
              "          dataTable['output_type'] = 'display_data';\n",
              "          await google.colab.output.renderOutput(dataTable, element);\n",
              "          const docLink = document.createElement('div');\n",
              "          docLink.innerHTML = docLinkHtml;\n",
              "          element.appendChild(docLink);\n",
              "        }\n",
              "      </script>\n",
              "    </div>\n",
              "  </div>\n",
              "  "
            ],
            "text/plain": [
              "Empty DataFrame\n",
              "Columns: [Id, DistrictId, Rooms, Square, LifeSquare, KitchenSquare, Floor, HouseFloor, HouseYear, Ecology_1, Ecology_2, Ecology_3, Social_1, Social_2, Social_3, Healthcare_1, Helthcare_2, Shops_1, Shops_2, Price]\n",
              "Index: []"
            ]
          },
          "metadata": {},
          "execution_count": 41
        }
      ]
    },
    {
      "cell_type": "code",
      "source": [
        "df_train.corr()['Price']['HouseYear']"
      ],
      "metadata": {
        "id": "C_kSJ3q31isb",
        "outputId": "1aee6a96-1ba3-49c3-89d3-c6a969e7c3d3",
        "colab": {
          "base_uri": "https://localhost:8080/"
        }
      },
      "execution_count": 42,
      "outputs": [
        {
          "output_type": "execute_result",
          "data": {
            "text/plain": [
              "0.036633776605036146"
            ]
          },
          "metadata": {},
          "execution_count": 42
        }
      ]
    },
    {
      "cell_type": "code",
      "source": [
        "plt.figure(figsize=(6, 6))\n",
        "sns.boxplot(df_train['HouseYear'], whis=1.5, orient='h')"
      ],
      "metadata": {
        "colab": {
          "base_uri": "https://localhost:8080/",
          "height": 411
        },
        "id": "LE0Mrm3t5jBo",
        "outputId": "ce9af287-ffac-42ae-f854-849d950616f1"
      },
      "execution_count": 43,
      "outputs": [
        {
          "output_type": "execute_result",
          "data": {
            "text/plain": [
              "<matplotlib.axes._subplots.AxesSubplot at 0x7fed766c9310>"
            ]
          },
          "metadata": {},
          "execution_count": 43
        },
        {
          "output_type": "display_data",
          "data": {
            "image/png": "[encoded data removed]",
            "text/plain": [
              "<Figure size 432x432 with 1 Axes>"
            ]
          },
          "metadata": {}
        }
      ]
    },
    {
      "cell_type": "markdown",
      "source": [
        "### KitchenSquare"
      ],
      "metadata": {
        "id": "yo9pz-vFcGUZ"
      }
    },
    {
      "cell_type": "code",
      "source": [
        "# df_train['KitchenSquare'].hist(figsize=(4, 4), log=True)\n",
        "# plt.title('KitchenSquare')\n",
        "# plt.xlabel('Square')"
      ],
      "metadata": {
        "id": "AxSOJGQ3ciA-"
      },
      "execution_count": null,
      "outputs": []
    },
    {
      "cell_type": "code",
      "source": [
        "df_train.corr()['Price']['KitchenSquare']"
      ],
      "metadata": {
        "id": "GwnI3uoK1rdk",
        "outputId": "f6a501f2-c2ed-4c60-d9b7-2e1cf1d54dbf",
        "colab": {
          "base_uri": "https://localhost:8080/"
        }
      },
      "execution_count": 44,
      "outputs": [
        {
          "output_type": "execute_result",
          "data": {
            "text/plain": [
              "0.028864154932784696"
            ]
          },
          "metadata": {},
          "execution_count": 44
        }
      ]
    },
    {
      "cell_type": "code",
      "source": [
        "plt.figure(figsize=(6, 6))\n",
        "sns.boxplot(df_train['KitchenSquare'], whis=1.5, orient='h')"
      ],
      "metadata": {
        "colab": {
          "base_uri": "https://localhost:8080/",
          "height": 411
        },
        "id": "vWi93WE_cWRC",
        "outputId": "a9a393ef-7422-4370-87ae-b4f63f87459d"
      },
      "execution_count": 45,
      "outputs": [
        {
          "output_type": "execute_result",
          "data": {
            "text/plain": [
              "<matplotlib.axes._subplots.AxesSubplot at 0x7fed6b8718d0>"
            ]
          },
          "metadata": {},
          "execution_count": 45
        },
        {
          "output_type": "display_data",
          "data": {
            "image/png": "[encoded data removed]",
            "text/plain": [
              "<Figure size 432x432 with 1 Axes>"
            ]
          },
          "metadata": {}
        }
      ]
    },
    {
      "cell_type": "code",
      "source": [
        "(df_train['KitchenSquare'] > 1750).sum()"
      ],
      "metadata": {
        "colab": {
          "base_uri": "https://localhost:8080/"
        },
        "id": "MntIFAAocrI5",
        "outputId": "55254240-e859-4bf9-af2f-44c04a259f86"
      },
      "execution_count": 46,
      "outputs": [
        {
          "output_type": "execute_result",
          "data": {
            "text/plain": [
              "2"
            ]
          },
          "metadata": {},
          "execution_count": 46
        }
      ]
    },
    {
      "cell_type": "code",
      "source": [
        "df_train[df_train['KitchenSquare'] > 1750]"
      ],
      "metadata": {
        "colab": {
          "base_uri": "https://localhost:8080/",
          "height": 112
        },
        "id": "RQbT3JLnc12U",
        "outputId": "15d75020-ada4-49ee-87a0-766a2f7a7341"
      },
      "execution_count": 47,
      "outputs": [
        {
          "output_type": "execute_result",
          "data": {
            "text/html": [
              "\n",
              "  <div id=\"df-22f597d1-cd89-4aca-b5c6-53fa0a1bf0e7\">\n",
              "    <div class=\"colab-df-container\">\n",
              "      <div>\n",
              "<style scoped>\n",
              "    .dataframe tbody tr th:only-of-type {\n",
              "        vertical-align: middle;\n",
              "    }\n",
              "\n",
              "    .dataframe tbody tr th {\n",
              "        vertical-align: top;\n",
              "    }\n",
              "\n",
              "    .dataframe thead th {\n",
              "        text-align: right;\n",
              "    }\n",
              "</style>\n",
              "<table border=\"1\" class=\"dataframe\">\n",
              "  <thead>\n",
              "    <tr style=\"text-align: right;\">\n",
              "      <th></th>\n",
              "      <th>Id</th>\n",
              "      <th>DistrictId</th>\n",
              "      <th>Rooms</th>\n",
              "      <th>Square</th>\n",
              "      <th>LifeSquare</th>\n",
              "      <th>KitchenSquare</th>\n",
              "      <th>Floor</th>\n",
              "      <th>HouseFloor</th>\n",
              "      <th>HouseYear</th>\n",
              "      <th>Ecology_1</th>\n",
              "      <th>Ecology_2</th>\n",
              "      <th>Ecology_3</th>\n",
              "      <th>Social_1</th>\n",
              "      <th>Social_2</th>\n",
              "      <th>Social_3</th>\n",
              "      <th>Healthcare_1</th>\n",
              "      <th>Helthcare_2</th>\n",
              "      <th>Shops_1</th>\n",
              "      <th>Shops_2</th>\n",
              "      <th>Price</th>\n",
              "    </tr>\n",
              "  </thead>\n",
              "  <tbody>\n",
              "    <tr>\n",
              "      <th>6505</th>\n",
              "      <td>14679</td>\n",
              "      <td>81</td>\n",
              "      <td>1.0</td>\n",
              "      <td>32.276665</td>\n",
              "      <td>19.278395</td>\n",
              "      <td>1970.0</td>\n",
              "      <td>6</td>\n",
              "      <td>1.0</td>\n",
              "      <td>1977</td>\n",
              "      <td>0.006076</td>\n",
              "      <td>B</td>\n",
              "      <td>B</td>\n",
              "      <td>30</td>\n",
              "      <td>5285</td>\n",
              "      <td>0</td>\n",
              "      <td>645.0</td>\n",
              "      <td>6</td>\n",
              "      <td>6</td>\n",
              "      <td>B</td>\n",
              "      <td>105539.554688</td>\n",
              "    </tr>\n",
              "    <tr>\n",
              "      <th>9520</th>\n",
              "      <td>14656</td>\n",
              "      <td>62</td>\n",
              "      <td>1.0</td>\n",
              "      <td>47.100719</td>\n",
              "      <td>46.447960</td>\n",
              "      <td>2014.0</td>\n",
              "      <td>4</td>\n",
              "      <td>1.0</td>\n",
              "      <td>2014</td>\n",
              "      <td>0.072158</td>\n",
              "      <td>B</td>\n",
              "      <td>B</td>\n",
              "      <td>2</td>\n",
              "      <td>629</td>\n",
              "      <td>1</td>\n",
              "      <td>NaN</td>\n",
              "      <td>0</td>\n",
              "      <td>0</td>\n",
              "      <td>A</td>\n",
              "      <td>108337.484375</td>\n",
              "    </tr>\n",
              "  </tbody>\n",
              "</table>\n",
              "</div>\n",
              "      <button class=\"colab-df-convert\" onclick=\"convertToInteractive('df-22f597d1-cd89-4aca-b5c6-53fa0a1bf0e7')\"\n",
              "              title=\"Convert this dataframe to an interactive table.\"\n",
              "              style=\"display:none;\">\n",
              "        \n",
              "  <svg xmlns=\"http://www.w3.org/2000/svg\" height=\"24px\"viewBox=\"0 0 24 24\"\n",
              "       width=\"24px\">\n",
              "    <path d=\"M0 0h24v24H0V0z\" fill=\"none\"/>\n",
              "    <path d=\"M18.56 5.44l.94 2.06.94-2.06 2.06-.94-2.06-.94-.94-2.06-.94 2.06-2.06.94zm-11 1L8.5 8.5l.94-2.06 2.06-.94-2.06-.94L8.5 2.5l-.94 2.06-2.06.94zm10 10l.94 2.06.94-2.06 2.06-.94-2.06-.94-.94-2.06-.94 2.06-2.06.94z\"/><path d=\"M17.41 7.96l-1.37-1.37c-.4-.4-.92-.59-1.43-.59-.52 0-1.04.2-1.43.59L10.3 9.45l-7.72 7.72c-.78.78-.78 2.05 0 2.83L4 21.41c.39.39.9.59 1.41.59.51 0 1.02-.2 1.41-.59l7.78-7.78 2.81-2.81c.8-.78.8-2.07 0-2.86zM5.41 20L4 18.59l7.72-7.72 1.47 1.35L5.41 20z\"/>\n",
              "  </svg>\n",
              "      </button>\n",
              "      \n",
              "  <style>\n",
              "    .colab-df-container {\n",
              "      display:flex;\n",
              "      flex-wrap:wrap;\n",
              "      gap: 12px;\n",
              "    }\n",
              "\n",
              "    .colab-df-convert {\n",
              "      background-color: #E8F0FE;\n",
              "      border: none;\n",
              "      border-radius: 50%;\n",
              "      cursor: pointer;\n",
              "      display: none;\n",
              "      fill: #1967D2;\n",
              "      height: 32px;\n",
              "      padding: 0 0 0 0;\n",
              "      width: 32px;\n",
              "    }\n",
              "\n",
              "    .colab-df-convert:hover {\n",
              "      background-color: #E2EBFA;\n",
              "      box-shadow: 0px 1px 2px rgba(60, 64, 67, 0.3), 0px 1px 3px 1px rgba(60, 64, 67, 0.15);\n",
              "      fill: #174EA6;\n",
              "    }\n",
              "\n",
              "    [theme=dark] .colab-df-convert {\n",
              "      background-color: #3B4455;\n",
              "      fill: #D2E3FC;\n",
              "    }\n",
              "\n",
              "    [theme=dark] .colab-df-convert:hover {\n",
              "      background-color: #434B5C;\n",
              "      box-shadow: 0px 1px 3px 1px rgba(0, 0, 0, 0.15);\n",
              "      filter: drop-shadow(0px 1px 2px rgba(0, 0, 0, 0.3));\n",
              "      fill: #FFFFFF;\n",
              "    }\n",
              "  </style>\n",
              "\n",
              "      <script>\n",
              "        const buttonEl =\n",
              "          document.querySelector('#df-22f597d1-cd89-4aca-b5c6-53fa0a1bf0e7 button.colab-df-convert');\n",
              "        buttonEl.style.display =\n",
              "          google.colab.kernel.accessAllowed ? 'block' : 'none';\n",
              "\n",
              "        async function convertToInteractive(key) {\n",
              "          const element = document.querySelector('#df-22f597d1-cd89-4aca-b5c6-53fa0a1bf0e7');\n",
              "          const dataTable =\n",
              "            await google.colab.kernel.invokeFunction('convertToInteractive',\n",
              "                                                     [key], {});\n",
              "          if (!dataTable) return;\n",
              "\n",
              "          const docLinkHtml = 'Like what you see? Visit the ' +\n",
              "            '<a target=\"_blank\" href=https://colab.research.google.com/notebooks/data_table.ipynb>data table notebook</a>'\n",
              "            + ' to learn more about interactive tables.';\n",
              "          element.innerHTML = '';\n",
              "          dataTable['output_type'] = 'display_data';\n",
              "          await google.colab.output.renderOutput(dataTable, element);\n",
              "          const docLink = document.createElement('div');\n",
              "          docLink.innerHTML = docLinkHtml;\n",
              "          element.appendChild(docLink);\n",
              "        }\n",
              "      </script>\n",
              "    </div>\n",
              "  </div>\n",
              "  "
            ],
            "text/plain": [
              "         Id DistrictId  Rooms  ...  Shops_1  Shops_2          Price\n",
              "6505  14679         81    1.0  ...        6        B  105539.554688\n",
              "9520  14656         62    1.0  ...        0        A  108337.484375\n",
              "\n",
              "[2 rows x 20 columns]"
            ]
          },
          "metadata": {},
          "execution_count": 47
        }
      ]
    },
    {
      "cell_type": "code",
      "source": [
        "df_train[df_train.KitchenSquare > df_train.Square]"
      ],
      "metadata": {
        "colab": {
          "base_uri": "https://localhost:8080/",
          "height": 174
        },
        "id": "AK9ioRuTkVYV",
        "outputId": "b42dfbcd-9c23-4f89-94b0-d4e0c6a02e81"
      },
      "execution_count": 48,
      "outputs": [
        {
          "output_type": "execute_result",
          "data": {
            "text/html": [
              "\n",
              "  <div id=\"df-2638e038-d1ad-4ce4-beee-b559b17d5de5\">\n",
              "    <div class=\"colab-df-container\">\n",
              "      <div>\n",
              "<style scoped>\n",
              "    .dataframe tbody tr th:only-of-type {\n",
              "        vertical-align: middle;\n",
              "    }\n",
              "\n",
              "    .dataframe tbody tr th {\n",
              "        vertical-align: top;\n",
              "    }\n",
              "\n",
              "    .dataframe thead th {\n",
              "        text-align: right;\n",
              "    }\n",
              "</style>\n",
              "<table border=\"1\" class=\"dataframe\">\n",
              "  <thead>\n",
              "    <tr style=\"text-align: right;\">\n",
              "      <th></th>\n",
              "      <th>Id</th>\n",
              "      <th>DistrictId</th>\n",
              "      <th>Rooms</th>\n",
              "      <th>Square</th>\n",
              "      <th>LifeSquare</th>\n",
              "      <th>KitchenSquare</th>\n",
              "      <th>Floor</th>\n",
              "      <th>HouseFloor</th>\n",
              "      <th>HouseYear</th>\n",
              "      <th>Ecology_1</th>\n",
              "      <th>Ecology_2</th>\n",
              "      <th>Ecology_3</th>\n",
              "      <th>Social_1</th>\n",
              "      <th>Social_2</th>\n",
              "      <th>Social_3</th>\n",
              "      <th>Healthcare_1</th>\n",
              "      <th>Helthcare_2</th>\n",
              "      <th>Shops_1</th>\n",
              "      <th>Shops_2</th>\n",
              "      <th>Price</th>\n",
              "    </tr>\n",
              "  </thead>\n",
              "  <tbody>\n",
              "    <tr>\n",
              "      <th>2785</th>\n",
              "      <td>6569</td>\n",
              "      <td>27</td>\n",
              "      <td>1.0</td>\n",
              "      <td>38.220257</td>\n",
              "      <td>18.716856</td>\n",
              "      <td>84.0</td>\n",
              "      <td>4</td>\n",
              "      <td>17.0</td>\n",
              "      <td>2018</td>\n",
              "      <td>0.011654</td>\n",
              "      <td>B</td>\n",
              "      <td>B</td>\n",
              "      <td>4</td>\n",
              "      <td>915</td>\n",
              "      <td>0</td>\n",
              "      <td>NaN</td>\n",
              "      <td>0</td>\n",
              "      <td>0</td>\n",
              "      <td>B</td>\n",
              "      <td>99079.960938</td>\n",
              "    </tr>\n",
              "    <tr>\n",
              "      <th>5273</th>\n",
              "      <td>13703</td>\n",
              "      <td>42</td>\n",
              "      <td>1.0</td>\n",
              "      <td>38.071693</td>\n",
              "      <td>19.723547</td>\n",
              "      <td>73.0</td>\n",
              "      <td>9</td>\n",
              "      <td>10.0</td>\n",
              "      <td>2006</td>\n",
              "      <td>0.158249</td>\n",
              "      <td>B</td>\n",
              "      <td>B</td>\n",
              "      <td>21</td>\n",
              "      <td>5731</td>\n",
              "      <td>0</td>\n",
              "      <td>NaN</td>\n",
              "      <td>1</td>\n",
              "      <td>0</td>\n",
              "      <td>B</td>\n",
              "      <td>160488.031250</td>\n",
              "    </tr>\n",
              "    <tr>\n",
              "      <th>6505</th>\n",
              "      <td>14679</td>\n",
              "      <td>81</td>\n",
              "      <td>1.0</td>\n",
              "      <td>32.276665</td>\n",
              "      <td>19.278395</td>\n",
              "      <td>1970.0</td>\n",
              "      <td>6</td>\n",
              "      <td>1.0</td>\n",
              "      <td>1977</td>\n",
              "      <td>0.006076</td>\n",
              "      <td>B</td>\n",
              "      <td>B</td>\n",
              "      <td>30</td>\n",
              "      <td>5285</td>\n",
              "      <td>0</td>\n",
              "      <td>645.0</td>\n",
              "      <td>6</td>\n",
              "      <td>6</td>\n",
              "      <td>B</td>\n",
              "      <td>105539.554688</td>\n",
              "    </tr>\n",
              "    <tr>\n",
              "      <th>9520</th>\n",
              "      <td>14656</td>\n",
              "      <td>62</td>\n",
              "      <td>1.0</td>\n",
              "      <td>47.100719</td>\n",
              "      <td>46.447960</td>\n",
              "      <td>2014.0</td>\n",
              "      <td>4</td>\n",
              "      <td>1.0</td>\n",
              "      <td>2014</td>\n",
              "      <td>0.072158</td>\n",
              "      <td>B</td>\n",
              "      <td>B</td>\n",
              "      <td>2</td>\n",
              "      <td>629</td>\n",
              "      <td>1</td>\n",
              "      <td>NaN</td>\n",
              "      <td>0</td>\n",
              "      <td>0</td>\n",
              "      <td>A</td>\n",
              "      <td>108337.484375</td>\n",
              "    </tr>\n",
              "  </tbody>\n",
              "</table>\n",
              "</div>\n",
              "      <button class=\"colab-df-convert\" onclick=\"convertToInteractive('df-2638e038-d1ad-4ce4-beee-b559b17d5de5')\"\n",
              "              title=\"Convert this dataframe to an interactive table.\"\n",
              "              style=\"display:none;\">\n",
              "        \n",
              "  <svg xmlns=\"http://www.w3.org/2000/svg\" height=\"24px\"viewBox=\"0 0 24 24\"\n",
              "       width=\"24px\">\n",
              "    <path d=\"M0 0h24v24H0V0z\" fill=\"none\"/>\n",
              "    <path d=\"M18.56 5.44l.94 2.06.94-2.06 2.06-.94-2.06-.94-.94-2.06-.94 2.06-2.06.94zm-11 1L8.5 8.5l.94-2.06 2.06-.94-2.06-.94L8.5 2.5l-.94 2.06-2.06.94zm10 10l.94 2.06.94-2.06 2.06-.94-2.06-.94-.94-2.06-.94 2.06-2.06.94z\"/><path d=\"M17.41 7.96l-1.37-1.37c-.4-.4-.92-.59-1.43-.59-.52 0-1.04.2-1.43.59L10.3 9.45l-7.72 7.72c-.78.78-.78 2.05 0 2.83L4 21.41c.39.39.9.59 1.41.59.51 0 1.02-.2 1.41-.59l7.78-7.78 2.81-2.81c.8-.78.8-2.07 0-2.86zM5.41 20L4 18.59l7.72-7.72 1.47 1.35L5.41 20z\"/>\n",
              "  </svg>\n",
              "      </button>\n",
              "      \n",
              "  <style>\n",
              "    .colab-df-container {\n",
              "      display:flex;\n",
              "      flex-wrap:wrap;\n",
              "      gap: 12px;\n",
              "    }\n",
              "\n",
              "    .colab-df-convert {\n",
              "      background-color: #E8F0FE;\n",
              "      border: none;\n",
              "      border-radius: 50%;\n",
              "      cursor: pointer;\n",
              "      display: none;\n",
              "      fill: #1967D2;\n",
              "      height: 32px;\n",
              "      padding: 0 0 0 0;\n",
              "      width: 32px;\n",
              "    }\n",
              "\n",
              "    .colab-df-convert:hover {\n",
              "      background-color: #E2EBFA;\n",
              "      box-shadow: 0px 1px 2px rgba(60, 64, 67, 0.3), 0px 1px 3px 1px rgba(60, 64, 67, 0.15);\n",
              "      fill: #174EA6;\n",
              "    }\n",
              "\n",
              "    [theme=dark] .colab-df-convert {\n",
              "      background-color: #3B4455;\n",
              "      fill: #D2E3FC;\n",
              "    }\n",
              "\n",
              "    [theme=dark] .colab-df-convert:hover {\n",
              "      background-color: #434B5C;\n",
              "      box-shadow: 0px 1px 3px 1px rgba(0, 0, 0, 0.15);\n",
              "      filter: drop-shadow(0px 1px 2px rgba(0, 0, 0, 0.3));\n",
              "      fill: #FFFFFF;\n",
              "    }\n",
              "  </style>\n",
              "\n",
              "      <script>\n",
              "        const buttonEl =\n",
              "          document.querySelector('#df-2638e038-d1ad-4ce4-beee-b559b17d5de5 button.colab-df-convert');\n",
              "        buttonEl.style.display =\n",
              "          google.colab.kernel.accessAllowed ? 'block' : 'none';\n",
              "\n",
              "        async function convertToInteractive(key) {\n",
              "          const element = document.querySelector('#df-2638e038-d1ad-4ce4-beee-b559b17d5de5');\n",
              "          const dataTable =\n",
              "            await google.colab.kernel.invokeFunction('convertToInteractive',\n",
              "                                                     [key], {});\n",
              "          if (!dataTable) return;\n",
              "\n",
              "          const docLinkHtml = 'Like what you see? Visit the ' +\n",
              "            '<a target=\"_blank\" href=https://colab.research.google.com/notebooks/data_table.ipynb>data table notebook</a>'\n",
              "            + ' to learn more about interactive tables.';\n",
              "          element.innerHTML = '';\n",
              "          dataTable['output_type'] = 'display_data';\n",
              "          await google.colab.output.renderOutput(dataTable, element);\n",
              "          const docLink = document.createElement('div');\n",
              "          docLink.innerHTML = docLinkHtml;\n",
              "          element.appendChild(docLink);\n",
              "        }\n",
              "      </script>\n",
              "    </div>\n",
              "  </div>\n",
              "  "
            ],
            "text/plain": [
              "         Id DistrictId  Rooms  ...  Shops_1  Shops_2          Price\n",
              "2785   6569         27    1.0  ...        0        B   99079.960938\n",
              "5273  13703         42    1.0  ...        0        B  160488.031250\n",
              "6505  14679         81    1.0  ...        6        B  105539.554688\n",
              "9520  14656         62    1.0  ...        0        A  108337.484375\n",
              "\n",
              "[4 rows x 20 columns]"
            ]
          },
          "metadata": {},
          "execution_count": 48
        }
      ]
    },
    {
      "cell_type": "markdown",
      "source": [
        "У нас есть два значения площади кухни, которые сильно отличаются от средних. Также у нас есть значения площади кухни, которые превышают значение общей площади квартиры. Заменим эти значения на значение медианы."
      ],
      "metadata": {
        "id": "3T25yUrqc-NC"
      }
    },
    {
      "cell_type": "code",
      "source": [
        "query_kitchen_square = df_train['KitchenSquare'] > df_train['KitchenSquare'].quantile(.975)\n",
        "        \n",
        "df_train.loc[query_kitchen_square, 'KitchenSquare'] = df_train['KitchenSquare'].median()"
      ],
      "metadata": {
        "id": "XzU-UGUVifhx"
      },
      "execution_count": 49,
      "outputs": []
    },
    {
      "cell_type": "code",
      "source": [
        "df_train.corr()['Price']['KitchenSquare']"
      ],
      "metadata": {
        "id": "3jxJRu8q125U",
        "outputId": "24df70eb-4b90-46b0-bd1b-60f9a63c1403",
        "colab": {
          "base_uri": "https://localhost:8080/"
        }
      },
      "execution_count": 50,
      "outputs": [
        {
          "output_type": "execute_result",
          "data": {
            "text/plain": [
              "0.28788778283654626"
            ]
          },
          "metadata": {},
          "execution_count": 50
        }
      ]
    },
    {
      "cell_type": "code",
      "source": [
        "# df_train['KitchenSquare'].value_counts()"
      ],
      "metadata": {
        "id": "5ySZK0LdgGDg"
      },
      "execution_count": null,
      "outputs": []
    },
    {
      "cell_type": "markdown",
      "source": [
        "Осталась проблема с минимальным размером кухни. Заменим все кухни с площадью меньше 3 на 3."
      ],
      "metadata": {
        "id": "5lHrx85TlpMR"
      }
    },
    {
      "cell_type": "code",
      "source": [
        "df_train.loc[df_train['KitchenSquare'] < 4, 'KitchenSquare'] = 4"
      ],
      "metadata": {
        "id": "B-UNuA5Ml1cF"
      },
      "execution_count": 51,
      "outputs": []
    },
    {
      "cell_type": "code",
      "source": [
        "df_train.corr()['Price'][['Square', 'LifeSquare', 'KitchenSquare']]"
      ],
      "metadata": {
        "id": "0hK8B_hs1_78",
        "outputId": "0bf46295-84a7-4a82-aae1-cd56722f6bfe",
        "colab": {
          "base_uri": "https://localhost:8080/"
        }
      },
      "execution_count": 52,
      "outputs": [
        {
          "output_type": "execute_result",
          "data": {
            "text/plain": [
              "Square           0.520075\n",
              "LifeSquare       0.081292\n",
              "KitchenSquare    0.298118\n",
              "Name: Price, dtype: float64"
            ]
          },
          "metadata": {},
          "execution_count": 52
        }
      ]
    },
    {
      "cell_type": "code",
      "source": [
        "plt.figure(figsize=(6, 6))\n",
        "sns.boxplot(df_train['KitchenSquare'], whis=1.5, orient='h')"
      ],
      "metadata": {
        "colab": {
          "base_uri": "https://localhost:8080/",
          "height": 411
        },
        "id": "tLaF7CA-ipLz",
        "outputId": "b86729c4-7416-4ed7-df73-e4d69b674586"
      },
      "execution_count": 53,
      "outputs": [
        {
          "output_type": "execute_result",
          "data": {
            "text/plain": [
              "<matplotlib.axes._subplots.AxesSubplot at 0x7fed6b413c50>"
            ]
          },
          "metadata": {},
          "execution_count": 53
        },
        {
          "output_type": "display_data",
          "data": {
            "image/png": "[encoded data removed]",
            "text/plain": [
              "<Figure size 432x432 with 1 Axes>"
            ]
          },
          "metadata": {}
        }
      ]
    },
    {
      "cell_type": "code",
      "source": [
        "# df_train['KitchenSquare'].value_counts()"
      ],
      "metadata": {
        "id": "GMljDid_l-It"
      },
      "execution_count": null,
      "outputs": []
    },
    {
      "cell_type": "markdown",
      "source": [
        "### Square"
      ],
      "metadata": {
        "id": "gkXZ5ETpmOiT"
      }
    },
    {
      "cell_type": "code",
      "source": [
        "plt.figure(figsize=(6, 6))\n",
        "sns.boxplot(df_train['Square'], whis=1.5, orient='h')"
      ],
      "metadata": {
        "colab": {
          "base_uri": "https://localhost:8080/",
          "height": 411
        },
        "id": "m5dFuQ-kmUbp",
        "outputId": "a6a9fc57-e248-49bc-803b-0d0bd9f1637f"
      },
      "execution_count": null,
      "outputs": [
        {
          "output_type": "execute_result",
          "data": {
            "text/plain": [
              "<matplotlib.axes._subplots.AxesSubplot at 0x7f5e60a48a50>"
            ]
          },
          "metadata": {},
          "execution_count": 498
        },
        {
          "output_type": "display_data",
          "data": {
            "image/png": "[encoded data removed]",
            "text/plain": [
              "<Figure size 432x432 with 1 Axes>"
            ]
          },
          "metadata": {}
        }
      ]
    },
    {
      "cell_type": "code",
      "source": [
        "df_train.corr()['Price'][['Square', 'LifeSquare', 'KitchenSquare']]"
      ],
      "metadata": {
        "colab": {
          "base_uri": "https://localhost:8080/"
        },
        "id": "-s4JIaJu6Ah6",
        "outputId": "82727fa5-dee4-4eb4-b5ff-faaea700d65f"
      },
      "execution_count": null,
      "outputs": [
        {
          "output_type": "execute_result",
          "data": {
            "text/plain": [
              "Square           0.520075\n",
              "LifeSquare       0.081292\n",
              "KitchenSquare    0.028864\n",
              "Name: Price, dtype: float64"
            ]
          },
          "metadata": {},
          "execution_count": 499
        }
      ]
    },
    {
      "cell_type": "code",
      "source": [
        "df_train[df_train['Square'] > 300]"
      ],
      "metadata": {
        "colab": {
          "base_uri": "https://localhost:8080/",
          "height": 143
        },
        "id": "Yuu6JMq-6D63",
        "outputId": "a2dc4ff2-55e0-4dc5-e723-d50b1d4e1baa"
      },
      "execution_count": null,
      "outputs": [
        {
          "output_type": "execute_result",
          "data": {
            "text/html": [
              "\n",
              "  <div id=\"df-cac9913c-3ee2-400f-8e4c-1c2777227194\">\n",
              "    <div class=\"colab-df-container\">\n",
              "      <div>\n",
              "<style scoped>\n",
              "    .dataframe tbody tr th:only-of-type {\n",
              "        vertical-align: middle;\n",
              "    }\n",
              "\n",
              "    .dataframe tbody tr th {\n",
              "        vertical-align: top;\n",
              "    }\n",
              "\n",
              "    .dataframe thead th {\n",
              "        text-align: right;\n",
              "    }\n",
              "</style>\n",
              "<table border=\"1\" class=\"dataframe\">\n",
              "  <thead>\n",
              "    <tr style=\"text-align: right;\">\n",
              "      <th></th>\n",
              "      <th>Id</th>\n",
              "      <th>DistrictId</th>\n",
              "      <th>Rooms</th>\n",
              "      <th>Square</th>\n",
              "      <th>LifeSquare</th>\n",
              "      <th>KitchenSquare</th>\n",
              "      <th>Floor</th>\n",
              "      <th>HouseFloor</th>\n",
              "      <th>HouseYear</th>\n",
              "      <th>Ecology_1</th>\n",
              "      <th>Ecology_2</th>\n",
              "      <th>Ecology_3</th>\n",
              "      <th>Social_1</th>\n",
              "      <th>Social_2</th>\n",
              "      <th>Social_3</th>\n",
              "      <th>Healthcare_1</th>\n",
              "      <th>Helthcare_2</th>\n",
              "      <th>Shops_1</th>\n",
              "      <th>Shops_2</th>\n",
              "      <th>Price</th>\n",
              "    </tr>\n",
              "  </thead>\n",
              "  <tbody>\n",
              "    <tr>\n",
              "      <th>726</th>\n",
              "      <td>28</td>\n",
              "      <td>9</td>\n",
              "      <td>2.0</td>\n",
              "      <td>604.705972</td>\n",
              "      <td>NaN</td>\n",
              "      <td>1.0</td>\n",
              "      <td>17</td>\n",
              "      <td>18.0</td>\n",
              "      <td>1977</td>\n",
              "      <td>0.161532</td>\n",
              "      <td>B</td>\n",
              "      <td>B</td>\n",
              "      <td>25</td>\n",
              "      <td>5648</td>\n",
              "      <td>1</td>\n",
              "      <td>30.0</td>\n",
              "      <td>2</td>\n",
              "      <td>4</td>\n",
              "      <td>B</td>\n",
              "      <td>187717.242538</td>\n",
              "    </tr>\n",
              "    <tr>\n",
              "      <th>7010</th>\n",
              "      <td>2307</td>\n",
              "      <td>102</td>\n",
              "      <td>1.0</td>\n",
              "      <td>409.425181</td>\n",
              "      <td>410.639749</td>\n",
              "      <td>10.0</td>\n",
              "      <td>4</td>\n",
              "      <td>4.0</td>\n",
              "      <td>2016</td>\n",
              "      <td>0.238617</td>\n",
              "      <td>B</td>\n",
              "      <td>B</td>\n",
              "      <td>26</td>\n",
              "      <td>3889</td>\n",
              "      <td>6</td>\n",
              "      <td>705.0</td>\n",
              "      <td>3</td>\n",
              "      <td>6</td>\n",
              "      <td>B</td>\n",
              "      <td>90470.430830</td>\n",
              "    </tr>\n",
              "    <tr>\n",
              "      <th>9229</th>\n",
              "      <td>11602</td>\n",
              "      <td>30</td>\n",
              "      <td>2.0</td>\n",
              "      <td>641.065193</td>\n",
              "      <td>638.163193</td>\n",
              "      <td>10.0</td>\n",
              "      <td>20</td>\n",
              "      <td>19.0</td>\n",
              "      <td>2019</td>\n",
              "      <td>0.000078</td>\n",
              "      <td>B</td>\n",
              "      <td>B</td>\n",
              "      <td>22</td>\n",
              "      <td>6398</td>\n",
              "      <td>141</td>\n",
              "      <td>1046.0</td>\n",
              "      <td>3</td>\n",
              "      <td>23</td>\n",
              "      <td>B</td>\n",
              "      <td>133529.681562</td>\n",
              "    </tr>\n",
              "  </tbody>\n",
              "</table>\n",
              "</div>\n",
              "      <button class=\"colab-df-convert\" onclick=\"convertToInteractive('df-cac9913c-3ee2-400f-8e4c-1c2777227194')\"\n",
              "              title=\"Convert this dataframe to an interactive table.\"\n",
              "              style=\"display:none;\">\n",
              "        \n",
              "  <svg xmlns=\"http://www.w3.org/2000/svg\" height=\"24px\"viewBox=\"0 0 24 24\"\n",
              "       width=\"24px\">\n",
              "    <path d=\"M0 0h24v24H0V0z\" fill=\"none\"/>\n",
              "    <path d=\"M18.56 5.44l.94 2.06.94-2.06 2.06-.94-2.06-.94-.94-2.06-.94 2.06-2.06.94zm-11 1L8.5 8.5l.94-2.06 2.06-.94-2.06-.94L8.5 2.5l-.94 2.06-2.06.94zm10 10l.94 2.06.94-2.06 2.06-.94-2.06-.94-.94-2.06-.94 2.06-2.06.94z\"/><path d=\"M17.41 7.96l-1.37-1.37c-.4-.4-.92-.59-1.43-.59-.52 0-1.04.2-1.43.59L10.3 9.45l-7.72 7.72c-.78.78-.78 2.05 0 2.83L4 21.41c.39.39.9.59 1.41.59.51 0 1.02-.2 1.41-.59l7.78-7.78 2.81-2.81c.8-.78.8-2.07 0-2.86zM5.41 20L4 18.59l7.72-7.72 1.47 1.35L5.41 20z\"/>\n",
              "  </svg>\n",
              "      </button>\n",
              "      \n",
              "  <style>\n",
              "    .colab-df-container {\n",
              "      display:flex;\n",
              "      flex-wrap:wrap;\n",
              "      gap: 12px;\n",
              "    }\n",
              "\n",
              "    .colab-df-convert {\n",
              "      background-color: #E8F0FE;\n",
              "      border: none;\n",
              "      border-radius: 50%;\n",
              "      cursor: pointer;\n",
              "      display: none;\n",
              "      fill: #1967D2;\n",
              "      height: 32px;\n",
              "      padding: 0 0 0 0;\n",
              "      width: 32px;\n",
              "    }\n",
              "\n",
              "    .colab-df-convert:hover {\n",
              "      background-color: #E2EBFA;\n",
              "      box-shadow: 0px 1px 2px rgba(60, 64, 67, 0.3), 0px 1px 3px 1px rgba(60, 64, 67, 0.15);\n",
              "      fill: #174EA6;\n",
              "    }\n",
              "\n",
              "    [theme=dark] .colab-df-convert {\n",
              "      background-color: #3B4455;\n",
              "      fill: #D2E3FC;\n",
              "    }\n",
              "\n",
              "    [theme=dark] .colab-df-convert:hover {\n",
              "      background-color: #434B5C;\n",
              "      box-shadow: 0px 1px 3px 1px rgba(0, 0, 0, 0.15);\n",
              "      filter: drop-shadow(0px 1px 2px rgba(0, 0, 0, 0.3));\n",
              "      fill: #FFFFFF;\n",
              "    }\n",
              "  </style>\n",
              "\n",
              "      <script>\n",
              "        const buttonEl =\n",
              "          document.querySelector('#df-cac9913c-3ee2-400f-8e4c-1c2777227194 button.colab-df-convert');\n",
              "        buttonEl.style.display =\n",
              "          google.colab.kernel.accessAllowed ? 'block' : 'none';\n",
              "\n",
              "        async function convertToInteractive(key) {\n",
              "          const element = document.querySelector('#df-cac9913c-3ee2-400f-8e4c-1c2777227194');\n",
              "          const dataTable =\n",
              "            await google.colab.kernel.invokeFunction('convertToInteractive',\n",
              "                                                     [key], {});\n",
              "          if (!dataTable) return;\n",
              "\n",
              "          const docLinkHtml = 'Like what you see? Visit the ' +\n",
              "            '<a target=\"_blank\" href=https://colab.research.google.com/notebooks/data_table.ipynb>data table notebook</a>'\n",
              "            + ' to learn more about interactive tables.';\n",
              "          element.innerHTML = '';\n",
              "          dataTable['output_type'] = 'display_data';\n",
              "          await google.colab.output.renderOutput(dataTable, element);\n",
              "          const docLink = document.createElement('div');\n",
              "          docLink.innerHTML = docLinkHtml;\n",
              "          element.appendChild(docLink);\n",
              "        }\n",
              "      </script>\n",
              "    </div>\n",
              "  </div>\n",
              "  "
            ],
            "text/plain": [
              "         Id  DistrictId  Rooms  ...  Shops_1  Shops_2          Price\n",
              "726      28           9    2.0  ...        4        B  187717.242538\n",
              "7010   2307         102    1.0  ...        6        B   90470.430830\n",
              "9229  11602          30    2.0  ...       23        B  133529.681562\n",
              "\n",
              "[3 rows x 20 columns]"
            ]
          },
          "metadata": {},
          "execution_count": 500
        }
      ]
    },
    {
      "cell_type": "code",
      "source": [
        "query_square = df_train['Square'] > 300\n",
        "        #  df_train['Square'].quantile(.975)\n",
        "df_train.loc[query_square, 'Square'] = df_train['Square'].median()"
      ],
      "metadata": {
        "id": "rojSribv6I8r"
      },
      "execution_count": null,
      "outputs": []
    },
    {
      "cell_type": "code",
      "source": [
        "df_train.corr()['Price'][['Square', 'LifeSquare', 'KitchenSquare']]"
      ],
      "metadata": {
        "colab": {
          "base_uri": "https://localhost:8080/"
        },
        "id": "DdjMB2ie6g4w",
        "outputId": "8b186c8f-e8e0-4705-ad21-00ced411b006"
      },
      "execution_count": null,
      "outputs": [
        {
          "output_type": "execute_result",
          "data": {
            "text/plain": [
              "Square           0.577892\n",
              "LifeSquare       0.081292\n",
              "KitchenSquare    0.028864\n",
              "Name: Price, dtype: float64"
            ]
          },
          "metadata": {},
          "execution_count": 502
        }
      ]
    },
    {
      "cell_type": "code",
      "source": [
        "df_train['SquareKitchenSquare'] = df_train['Square'] - df_train['KitchenSquare']\n",
        "df_train.head()"
      ],
      "metadata": {
        "id": "XRLIPu492nqi",
        "outputId": "15daf301-784e-4f71-bfd1-20a07fa79043",
        "colab": {
          "base_uri": "https://localhost:8080/",
          "height": 206
        }
      },
      "execution_count": null,
      "outputs": [
        {
          "output_type": "execute_result",
          "data": {
            "text/html": [
              "\n",
              "  <div id=\"df-77d1fa2c-e313-4cf4-8d62-5bc46ee1b0b1\">\n",
              "    <div class=\"colab-df-container\">\n",
              "      <div>\n",
              "<style scoped>\n",
              "    .dataframe tbody tr th:only-of-type {\n",
              "        vertical-align: middle;\n",
              "    }\n",
              "\n",
              "    .dataframe tbody tr th {\n",
              "        vertical-align: top;\n",
              "    }\n",
              "\n",
              "    .dataframe thead th {\n",
              "        text-align: right;\n",
              "    }\n",
              "</style>\n",
              "<table border=\"1\" class=\"dataframe\">\n",
              "  <thead>\n",
              "    <tr style=\"text-align: right;\">\n",
              "      <th></th>\n",
              "      <th>Id</th>\n",
              "      <th>DistrictId</th>\n",
              "      <th>Rooms</th>\n",
              "      <th>Square</th>\n",
              "      <th>LifeSquare</th>\n",
              "      <th>KitchenSquare</th>\n",
              "      <th>Floor</th>\n",
              "      <th>HouseFloor</th>\n",
              "      <th>HouseYear</th>\n",
              "      <th>Ecology_1</th>\n",
              "      <th>Ecology_2</th>\n",
              "      <th>Ecology_3</th>\n",
              "      <th>Social_1</th>\n",
              "      <th>Social_2</th>\n",
              "      <th>Social_3</th>\n",
              "      <th>Healthcare_1</th>\n",
              "      <th>Helthcare_2</th>\n",
              "      <th>Shops_1</th>\n",
              "      <th>Shops_2</th>\n",
              "      <th>Price</th>\n",
              "      <th>SquareKitchenSquare</th>\n",
              "    </tr>\n",
              "  </thead>\n",
              "  <tbody>\n",
              "    <tr>\n",
              "      <th>0</th>\n",
              "      <td>11809</td>\n",
              "      <td>27</td>\n",
              "      <td>3.0</td>\n",
              "      <td>115.027311</td>\n",
              "      <td>NaN</td>\n",
              "      <td>10.0</td>\n",
              "      <td>4</td>\n",
              "      <td>10.0</td>\n",
              "      <td>2014</td>\n",
              "      <td>0.075424</td>\n",
              "      <td>B</td>\n",
              "      <td>B</td>\n",
              "      <td>11</td>\n",
              "      <td>3097</td>\n",
              "      <td>0</td>\n",
              "      <td>NaN</td>\n",
              "      <td>0</td>\n",
              "      <td>0</td>\n",
              "      <td>B</td>\n",
              "      <td>305018.871089</td>\n",
              "      <td>105.027311</td>\n",
              "    </tr>\n",
              "    <tr>\n",
              "      <th>1</th>\n",
              "      <td>3013</td>\n",
              "      <td>22</td>\n",
              "      <td>1.0</td>\n",
              "      <td>39.832524</td>\n",
              "      <td>23.169223</td>\n",
              "      <td>8.0</td>\n",
              "      <td>7</td>\n",
              "      <td>8.0</td>\n",
              "      <td>1966</td>\n",
              "      <td>0.118537</td>\n",
              "      <td>B</td>\n",
              "      <td>B</td>\n",
              "      <td>30</td>\n",
              "      <td>6207</td>\n",
              "      <td>1</td>\n",
              "      <td>1183.0</td>\n",
              "      <td>1</td>\n",
              "      <td>0</td>\n",
              "      <td>B</td>\n",
              "      <td>177734.553407</td>\n",
              "      <td>31.832524</td>\n",
              "    </tr>\n",
              "    <tr>\n",
              "      <th>2</th>\n",
              "      <td>8215</td>\n",
              "      <td>1</td>\n",
              "      <td>3.0</td>\n",
              "      <td>78.342215</td>\n",
              "      <td>47.671972</td>\n",
              "      <td>10.0</td>\n",
              "      <td>2</td>\n",
              "      <td>17.0</td>\n",
              "      <td>1988</td>\n",
              "      <td>0.025609</td>\n",
              "      <td>B</td>\n",
              "      <td>B</td>\n",
              "      <td>33</td>\n",
              "      <td>5261</td>\n",
              "      <td>0</td>\n",
              "      <td>240.0</td>\n",
              "      <td>3</td>\n",
              "      <td>1</td>\n",
              "      <td>B</td>\n",
              "      <td>282078.720850</td>\n",
              "      <td>68.342215</td>\n",
              "    </tr>\n",
              "    <tr>\n",
              "      <th>3</th>\n",
              "      <td>2352</td>\n",
              "      <td>1</td>\n",
              "      <td>1.0</td>\n",
              "      <td>40.409907</td>\n",
              "      <td>NaN</td>\n",
              "      <td>1.0</td>\n",
              "      <td>10</td>\n",
              "      <td>22.0</td>\n",
              "      <td>1977</td>\n",
              "      <td>0.007122</td>\n",
              "      <td>B</td>\n",
              "      <td>B</td>\n",
              "      <td>1</td>\n",
              "      <td>264</td>\n",
              "      <td>0</td>\n",
              "      <td>NaN</td>\n",
              "      <td>0</td>\n",
              "      <td>1</td>\n",
              "      <td>B</td>\n",
              "      <td>168106.007630</td>\n",
              "      <td>39.409907</td>\n",
              "    </tr>\n",
              "    <tr>\n",
              "      <th>4</th>\n",
              "      <td>13866</td>\n",
              "      <td>94</td>\n",
              "      <td>2.0</td>\n",
              "      <td>64.285067</td>\n",
              "      <td>38.562517</td>\n",
              "      <td>9.0</td>\n",
              "      <td>16</td>\n",
              "      <td>16.0</td>\n",
              "      <td>1972</td>\n",
              "      <td>0.282798</td>\n",
              "      <td>B</td>\n",
              "      <td>B</td>\n",
              "      <td>33</td>\n",
              "      <td>8667</td>\n",
              "      <td>2</td>\n",
              "      <td>NaN</td>\n",
              "      <td>0</td>\n",
              "      <td>6</td>\n",
              "      <td>B</td>\n",
              "      <td>343995.102962</td>\n",
              "      <td>55.285067</td>\n",
              "    </tr>\n",
              "  </tbody>\n",
              "</table>\n",
              "</div>\n",
              "      <button class=\"colab-df-convert\" onclick=\"convertToInteractive('df-77d1fa2c-e313-4cf4-8d62-5bc46ee1b0b1')\"\n",
              "              title=\"Convert this dataframe to an interactive table.\"\n",
              "              style=\"display:none;\">\n",
              "        \n",
              "  <svg xmlns=\"http://www.w3.org/2000/svg\" height=\"24px\"viewBox=\"0 0 24 24\"\n",
              "       width=\"24px\">\n",
              "    <path d=\"M0 0h24v24H0V0z\" fill=\"none\"/>\n",
              "    <path d=\"M18.56 5.44l.94 2.06.94-2.06 2.06-.94-2.06-.94-.94-2.06-.94 2.06-2.06.94zm-11 1L8.5 8.5l.94-2.06 2.06-.94-2.06-.94L8.5 2.5l-.94 2.06-2.06.94zm10 10l.94 2.06.94-2.06 2.06-.94-2.06-.94-.94-2.06-.94 2.06-2.06.94z\"/><path d=\"M17.41 7.96l-1.37-1.37c-.4-.4-.92-.59-1.43-.59-.52 0-1.04.2-1.43.59L10.3 9.45l-7.72 7.72c-.78.78-.78 2.05 0 2.83L4 21.41c.39.39.9.59 1.41.59.51 0 1.02-.2 1.41-.59l7.78-7.78 2.81-2.81c.8-.78.8-2.07 0-2.86zM5.41 20L4 18.59l7.72-7.72 1.47 1.35L5.41 20z\"/>\n",
              "  </svg>\n",
              "      </button>\n",
              "      \n",
              "  <style>\n",
              "    .colab-df-container {\n",
              "      display:flex;\n",
              "      flex-wrap:wrap;\n",
              "      gap: 12px;\n",
              "    }\n",
              "\n",
              "    .colab-df-convert {\n",
              "      background-color: #E8F0FE;\n",
              "      border: none;\n",
              "      border-radius: 50%;\n",
              "      cursor: pointer;\n",
              "      display: none;\n",
              "      fill: #1967D2;\n",
              "      height: 32px;\n",
              "      padding: 0 0 0 0;\n",
              "      width: 32px;\n",
              "    }\n",
              "\n",
              "    .colab-df-convert:hover {\n",
              "      background-color: #E2EBFA;\n",
              "      box-shadow: 0px 1px 2px rgba(60, 64, 67, 0.3), 0px 1px 3px 1px rgba(60, 64, 67, 0.15);\n",
              "      fill: #174EA6;\n",
              "    }\n",
              "\n",
              "    [theme=dark] .colab-df-convert {\n",
              "      background-color: #3B4455;\n",
              "      fill: #D2E3FC;\n",
              "    }\n",
              "\n",
              "    [theme=dark] .colab-df-convert:hover {\n",
              "      background-color: #434B5C;\n",
              "      box-shadow: 0px 1px 3px 1px rgba(0, 0, 0, 0.15);\n",
              "      filter: drop-shadow(0px 1px 2px rgba(0, 0, 0, 0.3));\n",
              "      fill: #FFFFFF;\n",
              "    }\n",
              "  </style>\n",
              "\n",
              "      <script>\n",
              "        const buttonEl =\n",
              "          document.querySelector('#df-77d1fa2c-e313-4cf4-8d62-5bc46ee1b0b1 button.colab-df-convert');\n",
              "        buttonEl.style.display =\n",
              "          google.colab.kernel.accessAllowed ? 'block' : 'none';\n",
              "\n",
              "        async function convertToInteractive(key) {\n",
              "          const element = document.querySelector('#df-77d1fa2c-e313-4cf4-8d62-5bc46ee1b0b1');\n",
              "          const dataTable =\n",
              "            await google.colab.kernel.invokeFunction('convertToInteractive',\n",
              "                                                     [key], {});\n",
              "          if (!dataTable) return;\n",
              "\n",
              "          const docLinkHtml = 'Like what you see? Visit the ' +\n",
              "            '<a target=\"_blank\" href=https://colab.research.google.com/notebooks/data_table.ipynb>data table notebook</a>'\n",
              "            + ' to learn more about interactive tables.';\n",
              "          element.innerHTML = '';\n",
              "          dataTable['output_type'] = 'display_data';\n",
              "          await google.colab.output.renderOutput(dataTable, element);\n",
              "          const docLink = document.createElement('div');\n",
              "          docLink.innerHTML = docLinkHtml;\n",
              "          element.appendChild(docLink);\n",
              "        }\n",
              "      </script>\n",
              "    </div>\n",
              "  </div>\n",
              "  "
            ],
            "text/plain": [
              "      Id  DistrictId  Rooms  ...  Shops_2          Price  SquareKitchenSquare\n",
              "0  11809          27    3.0  ...        B  305018.871089           105.027311\n",
              "1   3013          22    1.0  ...        B  177734.553407            31.832524\n",
              "2   8215           1    3.0  ...        B  282078.720850            68.342215\n",
              "3   2352           1    1.0  ...        B  168106.007630            39.409907\n",
              "4  13866          94    2.0  ...        B  343995.102962            55.285067\n",
              "\n",
              "[5 rows x 21 columns]"
            ]
          },
          "metadata": {},
          "execution_count": 503
        }
      ]
    },
    {
      "cell_type": "code",
      "source": [
        "# df_train[(df_train['LifeKitchenSquare']) > df_train['Square']]"
      ],
      "metadata": {
        "id": "7ZvvttLj3En-"
      },
      "execution_count": null,
      "outputs": []
    },
    {
      "cell_type": "code",
      "source": [
        "# df_train.loc[df_train['LifeSquare'].isnull(), 'LifeSquare'] = df_train['SquareKitchenSquare']"
      ],
      "metadata": {
        "id": "iMlEPzdA9WgN"
      },
      "execution_count": null,
      "outputs": []
    },
    {
      "cell_type": "code",
      "source": [
        "# df_train.loc[df_train['LifeSquare'] > df_train['Square'], 'LifeSquare'] = df_train['SquareKitchenSquare']\n",
        "# df_train.loc[df_train['LifeSquare'] > df_train['Square'], 'LifeSquare'] = df_train['SquareKitchenSquare'].median()\n",
        "\n",
        "# square_index = df_train[df_train['LifeSquare'] > df_train['Square']].index\n",
        "# df_train.loc[square_index, 'Square'], df_train.loc[square_index, 'LifeSquare'] = df_train.loc[square_index, 'LifeSquare'], df_train.loc[square_index, 'Square']\n",
        "\n",
        "df_train.loc[df_train['LifeSquare'] > df_train['Square'], 'LifeSquare'] = df_train['LifeSquare'].median()"
      ],
      "metadata": {
        "id": "HjwYSYwt9oRb"
      },
      "execution_count": null,
      "outputs": []
    },
    {
      "cell_type": "code",
      "source": [
        "df_train.corr()['Price'][['Square', 'LifeSquare', 'KitchenSquare']]"
      ],
      "metadata": {
        "id": "giKJBNxv9xDu",
        "outputId": "b6d3f3b8-1b13-47c7-8177-882975a6c81a",
        "colab": {
          "base_uri": "https://localhost:8080/"
        }
      },
      "execution_count": null,
      "outputs": [
        {
          "output_type": "execute_result",
          "data": {
            "text/plain": [
              "Square           0.577892\n",
              "LifeSquare       0.435550\n",
              "KitchenSquare    0.028864\n",
              "Name: Price, dtype: float64"
            ]
          },
          "metadata": {},
          "execution_count": 505
        }
      ]
    },
    {
      "cell_type": "code",
      "source": [
        "# df_train.loc[df_train['LifeSquare'].isnull(), 'LifeSquare'] = df_train['SquareKitchenSquare']\n",
        "# df_train.loc[df_train['LifeSquare'].isnull(), 'LifeSquare'] = df_train['SquareKitchenSquare'].median()\n",
        "df_train.loc[df_train['LifeSquare'].isnull(), 'LifeSquare'] = df_train['LifeSquare'].median()"
      ],
      "metadata": {
        "id": "c9y3-0dqDQMG"
      },
      "execution_count": null,
      "outputs": []
    },
    {
      "cell_type": "code",
      "source": [
        "df_train.corr()['Price'][['Square', 'LifeSquare', 'KitchenSquare']]"
      ],
      "metadata": {
        "id": "aGsaDTjaFMim",
        "outputId": "af8f4ab8-2bc7-4d77-e20e-cfdfdfd85417",
        "colab": {
          "base_uri": "https://localhost:8080/"
        }
      },
      "execution_count": null,
      "outputs": [
        {
          "output_type": "execute_result",
          "data": {
            "text/plain": [
              "Square           0.577892\n",
              "LifeSquare       0.404126\n",
              "KitchenSquare    0.028864\n",
              "Name: Price, dtype: float64"
            ]
          },
          "metadata": {},
          "execution_count": 507
        }
      ]
    },
    {
      "cell_type": "code",
      "source": [
        "df_train.LifeKitchenSquare.isnull().sum()"
      ],
      "metadata": {
        "id": "YRc2WRfv4QId",
        "outputId": "053bb436-1a51-4858-b3fd-858b8c889de6",
        "colab": {
          "base_uri": "https://localhost:8080/"
        }
      },
      "execution_count": null,
      "outputs": [
        {
          "output_type": "execute_result",
          "data": {
            "text/plain": [
              "0"
            ]
          },
          "metadata": {},
          "execution_count": 130
        }
      ]
    },
    {
      "cell_type": "code",
      "source": [
        "# df_train[(df_train['LifeSquare']) > df_train['Square']]"
      ],
      "metadata": {
        "id": "75kV1aj2mwb1"
      },
      "execution_count": null,
      "outputs": []
    },
    {
      "cell_type": "code",
      "source": [
        "# df_train.loc[df_train['Square'] < df_train['LifeSquare'], 'LifeSquare'] = (df_train['Square'] - df_train['KitchenSquare'])"
      ],
      "metadata": {
        "id": "9Cp3u0kn4hWs"
      },
      "execution_count": null,
      "outputs": []
    },
    {
      "cell_type": "code",
      "source": [
        "# df_train.loc[df_train['LifeSquare'].isnull(), 'LifeSquare'] = (df_train['Square'] - df_train['KitchenSquare'])"
      ],
      "metadata": {
        "id": "1WCEpcMH6pJr"
      },
      "execution_count": null,
      "outputs": []
    },
    {
      "cell_type": "code",
      "source": [
        "# df_train[(df_train['LifeSquare']) == df_train['Square']]"
      ],
      "metadata": {
        "id": "vE9WbKzZ5Kdc",
        "outputId": "40362ad0-66d8-4187-a27a-924de2a01d5b",
        "colab": {
          "base_uri": "https://localhost:8080/",
          "height": 423
        }
      },
      "execution_count": null,
      "outputs": [
        {
          "output_type": "execute_result",
          "data": {
            "text/html": [
              "\n",
              "  <div id=\"df-20e08dcc-2550-4e35-b74f-407f893aeadf\">\n",
              "    <div class=\"colab-df-container\">\n",
              "      <div>\n",
              "<style scoped>\n",
              "    .dataframe tbody tr th:only-of-type {\n",
              "        vertical-align: middle;\n",
              "    }\n",
              "\n",
              "    .dataframe tbody tr th {\n",
              "        vertical-align: top;\n",
              "    }\n",
              "\n",
              "    .dataframe thead th {\n",
              "        text-align: right;\n",
              "    }\n",
              "</style>\n",
              "<table border=\"1\" class=\"dataframe\">\n",
              "  <thead>\n",
              "    <tr style=\"text-align: right;\">\n",
              "      <th></th>\n",
              "      <th>Id</th>\n",
              "      <th>DistrictId</th>\n",
              "      <th>Rooms</th>\n",
              "      <th>Square</th>\n",
              "      <th>LifeSquare</th>\n",
              "      <th>KitchenSquare</th>\n",
              "      <th>Floor</th>\n",
              "      <th>HouseFloor</th>\n",
              "      <th>HouseYear</th>\n",
              "      <th>Ecology_1</th>\n",
              "      <th>Ecology_2</th>\n",
              "      <th>Ecology_3</th>\n",
              "      <th>Social_1</th>\n",
              "      <th>Social_2</th>\n",
              "      <th>Social_3</th>\n",
              "      <th>Healthcare_1</th>\n",
              "      <th>Helthcare_2</th>\n",
              "      <th>Shops_1</th>\n",
              "      <th>Shops_2</th>\n",
              "      <th>Price</th>\n",
              "      <th>LifeKitchenSquare</th>\n",
              "    </tr>\n",
              "  </thead>\n",
              "  <tbody>\n",
              "    <tr>\n",
              "      <th>24</th>\n",
              "      <td>4717</td>\n",
              "      <td>27</td>\n",
              "      <td>1.0</td>\n",
              "      <td>44.203947</td>\n",
              "      <td>44.203947</td>\n",
              "      <td>0.0</td>\n",
              "      <td>2</td>\n",
              "      <td>0.0</td>\n",
              "      <td>1977</td>\n",
              "      <td>0.072158</td>\n",
              "      <td>B</td>\n",
              "      <td>B</td>\n",
              "      <td>2</td>\n",
              "      <td>629</td>\n",
              "      <td>1</td>\n",
              "      <td>NaN</td>\n",
              "      <td>0</td>\n",
              "      <td>0</td>\n",
              "      <td>A</td>\n",
              "      <td>135466.559958</td>\n",
              "      <td>44.203947</td>\n",
              "    </tr>\n",
              "    <tr>\n",
              "      <th>33</th>\n",
              "      <td>847</td>\n",
              "      <td>74</td>\n",
              "      <td>2.0</td>\n",
              "      <td>73.314975</td>\n",
              "      <td>73.314975</td>\n",
              "      <td>1.0</td>\n",
              "      <td>7</td>\n",
              "      <td>6.0</td>\n",
              "      <td>1977</td>\n",
              "      <td>0.075779</td>\n",
              "      <td>B</td>\n",
              "      <td>B</td>\n",
              "      <td>6</td>\n",
              "      <td>1437</td>\n",
              "      <td>3</td>\n",
              "      <td>NaN</td>\n",
              "      <td>0</td>\n",
              "      <td>2</td>\n",
              "      <td>B</td>\n",
              "      <td>254005.381863</td>\n",
              "      <td>75.131261</td>\n",
              "    </tr>\n",
              "    <tr>\n",
              "      <th>38</th>\n",
              "      <td>7679</td>\n",
              "      <td>23</td>\n",
              "      <td>2.0</td>\n",
              "      <td>55.521797</td>\n",
              "      <td>55.521797</td>\n",
              "      <td>0.0</td>\n",
              "      <td>3</td>\n",
              "      <td>4.0</td>\n",
              "      <td>1977</td>\n",
              "      <td>0.034656</td>\n",
              "      <td>B</td>\n",
              "      <td>B</td>\n",
              "      <td>0</td>\n",
              "      <td>168</td>\n",
              "      <td>0</td>\n",
              "      <td>NaN</td>\n",
              "      <td>0</td>\n",
              "      <td>0</td>\n",
              "      <td>B</td>\n",
              "      <td>93217.752924</td>\n",
              "      <td>55.521797</td>\n",
              "    </tr>\n",
              "    <tr>\n",
              "      <th>64</th>\n",
              "      <td>3992</td>\n",
              "      <td>1</td>\n",
              "      <td>3.0</td>\n",
              "      <td>87.200625</td>\n",
              "      <td>87.200625</td>\n",
              "      <td>0.0</td>\n",
              "      <td>21</td>\n",
              "      <td>22.0</td>\n",
              "      <td>1977</td>\n",
              "      <td>0.007122</td>\n",
              "      <td>B</td>\n",
              "      <td>B</td>\n",
              "      <td>1</td>\n",
              "      <td>264</td>\n",
              "      <td>0</td>\n",
              "      <td>NaN</td>\n",
              "      <td>0</td>\n",
              "      <td>1</td>\n",
              "      <td>B</td>\n",
              "      <td>300180.365669</td>\n",
              "      <td>87.730225</td>\n",
              "    </tr>\n",
              "    <tr>\n",
              "      <th>77</th>\n",
              "      <td>11771</td>\n",
              "      <td>45</td>\n",
              "      <td>1.0</td>\n",
              "      <td>38.467276</td>\n",
              "      <td>38.467276</td>\n",
              "      <td>1.0</td>\n",
              "      <td>11</td>\n",
              "      <td>9.0</td>\n",
              "      <td>1977</td>\n",
              "      <td>0.195781</td>\n",
              "      <td>B</td>\n",
              "      <td>B</td>\n",
              "      <td>23</td>\n",
              "      <td>5212</td>\n",
              "      <td>6</td>\n",
              "      <td>NaN</td>\n",
              "      <td>3</td>\n",
              "      <td>2</td>\n",
              "      <td>B</td>\n",
              "      <td>247440.530601</td>\n",
              "      <td>40.624493</td>\n",
              "    </tr>\n",
              "    <tr>\n",
              "      <th>...</th>\n",
              "      <td>...</td>\n",
              "      <td>...</td>\n",
              "      <td>...</td>\n",
              "      <td>...</td>\n",
              "      <td>...</td>\n",
              "      <td>...</td>\n",
              "      <td>...</td>\n",
              "      <td>...</td>\n",
              "      <td>...</td>\n",
              "      <td>...</td>\n",
              "      <td>...</td>\n",
              "      <td>...</td>\n",
              "      <td>...</td>\n",
              "      <td>...</td>\n",
              "      <td>...</td>\n",
              "      <td>...</td>\n",
              "      <td>...</td>\n",
              "      <td>...</td>\n",
              "      <td>...</td>\n",
              "      <td>...</td>\n",
              "      <td>...</td>\n",
              "    </tr>\n",
              "    <tr>\n",
              "      <th>9962</th>\n",
              "      <td>14175</td>\n",
              "      <td>14</td>\n",
              "      <td>1.0</td>\n",
              "      <td>42.029175</td>\n",
              "      <td>42.029175</td>\n",
              "      <td>10.0</td>\n",
              "      <td>4</td>\n",
              "      <td>4.0</td>\n",
              "      <td>2018</td>\n",
              "      <td>0.238617</td>\n",
              "      <td>B</td>\n",
              "      <td>B</td>\n",
              "      <td>26</td>\n",
              "      <td>3889</td>\n",
              "      <td>6</td>\n",
              "      <td>705.0</td>\n",
              "      <td>3</td>\n",
              "      <td>6</td>\n",
              "      <td>B</td>\n",
              "      <td>87556.385617</td>\n",
              "      <td>54.682167</td>\n",
              "    </tr>\n",
              "    <tr>\n",
              "      <th>9979</th>\n",
              "      <td>2201</td>\n",
              "      <td>6</td>\n",
              "      <td>1.0</td>\n",
              "      <td>40.043234</td>\n",
              "      <td>40.043234</td>\n",
              "      <td>1.0</td>\n",
              "      <td>3</td>\n",
              "      <td>17.0</td>\n",
              "      <td>2014</td>\n",
              "      <td>0.243205</td>\n",
              "      <td>B</td>\n",
              "      <td>B</td>\n",
              "      <td>5</td>\n",
              "      <td>1564</td>\n",
              "      <td>0</td>\n",
              "      <td>540.0</td>\n",
              "      <td>0</td>\n",
              "      <td>0</td>\n",
              "      <td>B</td>\n",
              "      <td>134888.083598</td>\n",
              "      <td>42.984322</td>\n",
              "    </tr>\n",
              "    <tr>\n",
              "      <th>9987</th>\n",
              "      <td>11665</td>\n",
              "      <td>1</td>\n",
              "      <td>2.0</td>\n",
              "      <td>62.690057</td>\n",
              "      <td>62.690057</td>\n",
              "      <td>10.0</td>\n",
              "      <td>19</td>\n",
              "      <td>22.0</td>\n",
              "      <td>2018</td>\n",
              "      <td>0.007122</td>\n",
              "      <td>B</td>\n",
              "      <td>B</td>\n",
              "      <td>1</td>\n",
              "      <td>264</td>\n",
              "      <td>0</td>\n",
              "      <td>NaN</td>\n",
              "      <td>0</td>\n",
              "      <td>1</td>\n",
              "      <td>B</td>\n",
              "      <td>203908.192698</td>\n",
              "      <td>74.602939</td>\n",
              "    </tr>\n",
              "    <tr>\n",
              "      <th>9991</th>\n",
              "      <td>11173</td>\n",
              "      <td>6</td>\n",
              "      <td>2.0</td>\n",
              "      <td>62.648779</td>\n",
              "      <td>62.648779</td>\n",
              "      <td>0.0</td>\n",
              "      <td>6</td>\n",
              "      <td>17.0</td>\n",
              "      <td>1977</td>\n",
              "      <td>0.243205</td>\n",
              "      <td>B</td>\n",
              "      <td>B</td>\n",
              "      <td>5</td>\n",
              "      <td>1564</td>\n",
              "      <td>0</td>\n",
              "      <td>540.0</td>\n",
              "      <td>0</td>\n",
              "      <td>0</td>\n",
              "      <td>B</td>\n",
              "      <td>182625.548872</td>\n",
              "      <td>62.648779</td>\n",
              "    </tr>\n",
              "    <tr>\n",
              "      <th>9993</th>\n",
              "      <td>9289</td>\n",
              "      <td>1</td>\n",
              "      <td>3.0</td>\n",
              "      <td>84.486078</td>\n",
              "      <td>84.486078</td>\n",
              "      <td>0.0</td>\n",
              "      <td>4</td>\n",
              "      <td>22.0</td>\n",
              "      <td>2016</td>\n",
              "      <td>0.007122</td>\n",
              "      <td>B</td>\n",
              "      <td>B</td>\n",
              "      <td>1</td>\n",
              "      <td>264</td>\n",
              "      <td>0</td>\n",
              "      <td>NaN</td>\n",
              "      <td>0</td>\n",
              "      <td>1</td>\n",
              "      <td>B</td>\n",
              "      <td>264213.558631</td>\n",
              "      <td>88.931509</td>\n",
              "    </tr>\n",
              "  </tbody>\n",
              "</table>\n",
              "<p>967 rows × 21 columns</p>\n",
              "</div>\n",
              "      <button class=\"colab-df-convert\" onclick=\"convertToInteractive('df-20e08dcc-2550-4e35-b74f-407f893aeadf')\"\n",
              "              title=\"Convert this dataframe to an interactive table.\"\n",
              "              style=\"display:none;\">\n",
              "        \n",
              "  <svg xmlns=\"http://www.w3.org/2000/svg\" height=\"24px\"viewBox=\"0 0 24 24\"\n",
              "       width=\"24px\">\n",
              "    <path d=\"M0 0h24v24H0V0z\" fill=\"none\"/>\n",
              "    <path d=\"M18.56 5.44l.94 2.06.94-2.06 2.06-.94-2.06-.94-.94-2.06-.94 2.06-2.06.94zm-11 1L8.5 8.5l.94-2.06 2.06-.94-2.06-.94L8.5 2.5l-.94 2.06-2.06.94zm10 10l.94 2.06.94-2.06 2.06-.94-2.06-.94-.94-2.06-.94 2.06-2.06.94z\"/><path d=\"M17.41 7.96l-1.37-1.37c-.4-.4-.92-.59-1.43-.59-.52 0-1.04.2-1.43.59L10.3 9.45l-7.72 7.72c-.78.78-.78 2.05 0 2.83L4 21.41c.39.39.9.59 1.41.59.51 0 1.02-.2 1.41-.59l7.78-7.78 2.81-2.81c.8-.78.8-2.07 0-2.86zM5.41 20L4 18.59l7.72-7.72 1.47 1.35L5.41 20z\"/>\n",
              "  </svg>\n",
              "      </button>\n",
              "      \n",
              "  <style>\n",
              "    .colab-df-container {\n",
              "      display:flex;\n",
              "      flex-wrap:wrap;\n",
              "      gap: 12px;\n",
              "    }\n",
              "\n",
              "    .colab-df-convert {\n",
              "      background-color: #E8F0FE;\n",
              "      border: none;\n",
              "      border-radius: 50%;\n",
              "      cursor: pointer;\n",
              "      display: none;\n",
              "      fill: #1967D2;\n",
              "      height: 32px;\n",
              "      padding: 0 0 0 0;\n",
              "      width: 32px;\n",
              "    }\n",
              "\n",
              "    .colab-df-convert:hover {\n",
              "      background-color: #E2EBFA;\n",
              "      box-shadow: 0px 1px 2px rgba(60, 64, 67, 0.3), 0px 1px 3px 1px rgba(60, 64, 67, 0.15);\n",
              "      fill: #174EA6;\n",
              "    }\n",
              "\n",
              "    [theme=dark] .colab-df-convert {\n",
              "      background-color: #3B4455;\n",
              "      fill: #D2E3FC;\n",
              "    }\n",
              "\n",
              "    [theme=dark] .colab-df-convert:hover {\n",
              "      background-color: #434B5C;\n",
              "      box-shadow: 0px 1px 3px 1px rgba(0, 0, 0, 0.15);\n",
              "      filter: drop-shadow(0px 1px 2px rgba(0, 0, 0, 0.3));\n",
              "      fill: #FFFFFF;\n",
              "    }\n",
              "  </style>\n",
              "\n",
              "      <script>\n",
              "        const buttonEl =\n",
              "          document.querySelector('#df-20e08dcc-2550-4e35-b74f-407f893aeadf button.colab-df-convert');\n",
              "        buttonEl.style.display =\n",
              "          google.colab.kernel.accessAllowed ? 'block' : 'none';\n",
              "\n",
              "        async function convertToInteractive(key) {\n",
              "          const element = document.querySelector('#df-20e08dcc-2550-4e35-b74f-407f893aeadf');\n",
              "          const dataTable =\n",
              "            await google.colab.kernel.invokeFunction('convertToInteractive',\n",
              "                                                     [key], {});\n",
              "          if (!dataTable) return;\n",
              "\n",
              "          const docLinkHtml = 'Like what you see? Visit the ' +\n",
              "            '<a target=\"_blank\" href=https://colab.research.google.com/notebooks/data_table.ipynb>data table notebook</a>'\n",
              "            + ' to learn more about interactive tables.';\n",
              "          element.innerHTML = '';\n",
              "          dataTable['output_type'] = 'display_data';\n",
              "          await google.colab.output.renderOutput(dataTable, element);\n",
              "          const docLink = document.createElement('div');\n",
              "          docLink.innerHTML = docLinkHtml;\n",
              "          element.appendChild(docLink);\n",
              "        }\n",
              "      </script>\n",
              "    </div>\n",
              "  </div>\n",
              "  "
            ],
            "text/plain": [
              "         Id  DistrictId  Rooms  ...  Shops_2          Price  LifeKitchenSquare\n",
              "24     4717          27    1.0  ...        A  135466.559958          44.203947\n",
              "33      847          74    2.0  ...        B  254005.381863          75.131261\n",
              "38     7679          23    2.0  ...        B   93217.752924          55.521797\n",
              "64     3992           1    3.0  ...        B  300180.365669          87.730225\n",
              "77    11771          45    1.0  ...        B  247440.530601          40.624493\n",
              "...     ...         ...    ...  ...      ...            ...                ...\n",
              "9962  14175          14    1.0  ...        B   87556.385617          54.682167\n",
              "9979   2201           6    1.0  ...        B  134888.083598          42.984322\n",
              "9987  11665           1    2.0  ...        B  203908.192698          74.602939\n",
              "9991  11173           6    2.0  ...        B  182625.548872          62.648779\n",
              "9993   9289           1    3.0  ...        B  264213.558631          88.931509\n",
              "\n",
              "[967 rows x 21 columns]"
            ]
          },
          "metadata": {},
          "execution_count": 145
        }
      ]
    },
    {
      "cell_type": "code",
      "source": [
        "# df_train.corr()['Price'][['Square', 'LifeSquare', 'KitchenSquare', 'LifeKitchenSquare']]"
      ],
      "metadata": {
        "id": "OL_-V5Xr5E56",
        "outputId": "d1cb9744-0d58-475e-f13a-42b75506c811",
        "colab": {
          "base_uri": "https://localhost:8080/"
        }
      },
      "execution_count": null,
      "outputs": [
        {
          "output_type": "execute_result",
          "data": {
            "text/plain": [
              "Square               0.577892\n",
              "LifeSquare           0.304173\n",
              "KitchenSquare        0.028864\n",
              "LifeKitchenSquare    0.084740\n",
              "Name: Price, dtype: float64"
            ]
          },
          "metadata": {},
          "execution_count": 144
        }
      ]
    },
    {
      "cell_type": "code",
      "source": [
        "# query_life_square = df_train['LifeSquare'] > df_train['Square']"
      ],
      "metadata": {
        "id": "t2oneQ1ksDFK"
      },
      "execution_count": null,
      "outputs": []
    },
    {
      "cell_type": "markdown",
      "source": [
        ""
      ],
      "metadata": {
        "id": "pOqysfLk5lmm"
      }
    },
    {
      "cell_type": "markdown",
      "source": [
        ""
      ],
      "metadata": {
        "id": "klAwuu6P5k88"
      }
    },
    {
      "cell_type": "markdown",
      "source": [
        ""
      ],
      "metadata": {
        "id": "taB1LuHS5kxK"
      }
    },
    {
      "cell_type": "markdown",
      "source": [
        ""
      ],
      "metadata": {
        "id": "IX3PbC845ksl"
      }
    },
    {
      "cell_type": "markdown",
      "source": [
        ""
      ],
      "metadata": {
        "id": "NIf-9KK75kow"
      }
    },
    {
      "cell_type": "markdown",
      "source": [
        ""
      ],
      "metadata": {
        "id": "7z5G4v-u5kiB"
      }
    },
    {
      "cell_type": "code",
      "source": [
        "# df_train.corr()['Price'][['Square', 'LifeSquare', 'KitchenSquare']]"
      ],
      "metadata": {
        "colab": {
          "base_uri": "https://localhost:8080/",
          "height": 328
        },
        "id": "GHo3wbC_tVTV",
        "outputId": "4991f40b-07af-4148-a34d-e9753d6c23e5"
      },
      "execution_count": null,
      "outputs": [
        {
          "output_type": "error",
          "ename": "KeyError",
          "evalue": "ignored",
          "traceback": [
            "\u001b[0;31m---------------------------------------------------------------------------\u001b[0m",
            "\u001b[0;31mKeyError\u001b[0m                                  Traceback (most recent call last)",
            "\u001b[0;32m<ipython-input-66-611b83b05d52>\u001b[0m in \u001b[0;36m<module>\u001b[0;34m()\u001b[0m\n\u001b[0;32m----> 1\u001b[0;31m \u001b[0mdf_train\u001b[0m\u001b[0;34m.\u001b[0m\u001b[0mcorr\u001b[0m\u001b[0;34m(\u001b[0m\u001b[0;34m)\u001b[0m\u001b[0;34m[\u001b[0m\u001b[0;34m'Price'\u001b[0m\u001b[0;34m]\u001b[0m\u001b[0;34m[\u001b[0m\u001b[0;34m[\u001b[0m\u001b[0;34m'Square'\u001b[0m\u001b[0;34m,\u001b[0m \u001b[0;34m'LifeSquare'\u001b[0m\u001b[0;34m,\u001b[0m \u001b[0;34m'KitchenSquare'\u001b[0m\u001b[0;34m]\u001b[0m\u001b[0;34m]\u001b[0m\u001b[0;34m\u001b[0m\u001b[0;34m\u001b[0m\u001b[0m\n\u001b[0m",
            "\u001b[0;32m/usr/local/lib/python3.7/dist-packages/pandas/core/series.py\u001b[0m in \u001b[0;36m__getitem__\u001b[0;34m(self, key)\u001b[0m\n\u001b[1;32m    904\u001b[0m             \u001b[0;32mreturn\u001b[0m \u001b[0mself\u001b[0m\u001b[0;34m.\u001b[0m\u001b[0m_get_values\u001b[0m\u001b[0;34m(\u001b[0m\u001b[0mkey\u001b[0m\u001b[0;34m)\u001b[0m\u001b[0;34m\u001b[0m\u001b[0;34m\u001b[0m\u001b[0m\n\u001b[1;32m    905\u001b[0m \u001b[0;34m\u001b[0m\u001b[0m\n\u001b[0;32m--> 906\u001b[0;31m         \u001b[0;32mreturn\u001b[0m \u001b[0mself\u001b[0m\u001b[0;34m.\u001b[0m\u001b[0m_get_with\u001b[0m\u001b[0;34m(\u001b[0m\u001b[0mkey\u001b[0m\u001b[0;34m)\u001b[0m\u001b[0;34m\u001b[0m\u001b[0;34m\u001b[0m\u001b[0m\n\u001b[0m\u001b[1;32m    907\u001b[0m \u001b[0;34m\u001b[0m\u001b[0m\n\u001b[1;32m    908\u001b[0m     \u001b[0;32mdef\u001b[0m \u001b[0m_get_with\u001b[0m\u001b[0;34m(\u001b[0m\u001b[0mself\u001b[0m\u001b[0;34m,\u001b[0m \u001b[0mkey\u001b[0m\u001b[0;34m)\u001b[0m\u001b[0;34m:\u001b[0m\u001b[0;34m\u001b[0m\u001b[0;34m\u001b[0m\u001b[0m\n",
            "\u001b[0;32m/usr/local/lib/python3.7/dist-packages/pandas/core/series.py\u001b[0m in \u001b[0;36m_get_with\u001b[0;34m(self, key)\u001b[0m\n\u001b[1;32m    944\u001b[0m \u001b[0;34m\u001b[0m\u001b[0m\n\u001b[1;32m    945\u001b[0m         \u001b[0;31m# handle the dup indexing case GH#4246\u001b[0m\u001b[0;34m\u001b[0m\u001b[0;34m\u001b[0m\u001b[0;34m\u001b[0m\u001b[0m\n\u001b[0;32m--> 946\u001b[0;31m         \u001b[0;32mreturn\u001b[0m \u001b[0mself\u001b[0m\u001b[0;34m.\u001b[0m\u001b[0mloc\u001b[0m\u001b[0;34m[\u001b[0m\u001b[0mkey\u001b[0m\u001b[0;34m]\u001b[0m\u001b[0;34m\u001b[0m\u001b[0;34m\u001b[0m\u001b[0m\n\u001b[0m\u001b[1;32m    947\u001b[0m \u001b[0;34m\u001b[0m\u001b[0m\n\u001b[1;32m    948\u001b[0m     \u001b[0;32mdef\u001b[0m \u001b[0m_get_values_tuple\u001b[0m\u001b[0;34m(\u001b[0m\u001b[0mself\u001b[0m\u001b[0;34m,\u001b[0m \u001b[0mkey\u001b[0m\u001b[0;34m)\u001b[0m\u001b[0;34m:\u001b[0m\u001b[0;34m\u001b[0m\u001b[0;34m\u001b[0m\u001b[0m\n",
            "\u001b[0;32m/usr/local/lib/python3.7/dist-packages/pandas/core/indexing.py\u001b[0m in \u001b[0;36m__getitem__\u001b[0;34m(self, key)\u001b[0m\n\u001b[1;32m    877\u001b[0m \u001b[0;34m\u001b[0m\u001b[0m\n\u001b[1;32m    878\u001b[0m             \u001b[0mmaybe_callable\u001b[0m \u001b[0;34m=\u001b[0m \u001b[0mcom\u001b[0m\u001b[0;34m.\u001b[0m\u001b[0mapply_if_callable\u001b[0m\u001b[0;34m(\u001b[0m\u001b[0mkey\u001b[0m\u001b[0;34m,\u001b[0m \u001b[0mself\u001b[0m\u001b[0;34m.\u001b[0m\u001b[0mobj\u001b[0m\u001b[0;34m)\u001b[0m\u001b[0;34m\u001b[0m\u001b[0;34m\u001b[0m\u001b[0m\n\u001b[0;32m--> 879\u001b[0;31m             \u001b[0;32mreturn\u001b[0m \u001b[0mself\u001b[0m\u001b[0;34m.\u001b[0m\u001b[0m_getitem_axis\u001b[0m\u001b[0;34m(\u001b[0m\u001b[0mmaybe_callable\u001b[0m\u001b[0;34m,\u001b[0m \u001b[0maxis\u001b[0m\u001b[0;34m=\u001b[0m\u001b[0maxis\u001b[0m\u001b[0;34m)\u001b[0m\u001b[0;34m\u001b[0m\u001b[0;34m\u001b[0m\u001b[0m\n\u001b[0m\u001b[1;32m    880\u001b[0m \u001b[0;34m\u001b[0m\u001b[0m\n\u001b[1;32m    881\u001b[0m     \u001b[0;32mdef\u001b[0m \u001b[0m_is_scalar_access\u001b[0m\u001b[0;34m(\u001b[0m\u001b[0mself\u001b[0m\u001b[0;34m,\u001b[0m \u001b[0mkey\u001b[0m\u001b[0;34m:\u001b[0m \u001b[0mTuple\u001b[0m\u001b[0;34m)\u001b[0m\u001b[0;34m:\u001b[0m\u001b[0;34m\u001b[0m\u001b[0;34m\u001b[0m\u001b[0m\n",
            "\u001b[0;32m/usr/local/lib/python3.7/dist-packages/pandas/core/indexing.py\u001b[0m in \u001b[0;36m_getitem_axis\u001b[0;34m(self, key, axis)\u001b[0m\n\u001b[1;32m   1097\u001b[0m                     \u001b[0;32mraise\u001b[0m \u001b[0mValueError\u001b[0m\u001b[0;34m(\u001b[0m\u001b[0;34m\"Cannot index with multidimensional key\"\u001b[0m\u001b[0;34m)\u001b[0m\u001b[0;34m\u001b[0m\u001b[0;34m\u001b[0m\u001b[0m\n\u001b[1;32m   1098\u001b[0m \u001b[0;34m\u001b[0m\u001b[0m\n\u001b[0;32m-> 1099\u001b[0;31m                 \u001b[0;32mreturn\u001b[0m \u001b[0mself\u001b[0m\u001b[0;34m.\u001b[0m\u001b[0m_getitem_iterable\u001b[0m\u001b[0;34m(\u001b[0m\u001b[0mkey\u001b[0m\u001b[0;34m,\u001b[0m \u001b[0maxis\u001b[0m\u001b[0;34m=\u001b[0m\u001b[0maxis\u001b[0m\u001b[0;34m)\u001b[0m\u001b[0;34m\u001b[0m\u001b[0;34m\u001b[0m\u001b[0m\n\u001b[0m\u001b[1;32m   1100\u001b[0m \u001b[0;34m\u001b[0m\u001b[0m\n\u001b[1;32m   1101\u001b[0m             \u001b[0;31m# nested tuple slicing\u001b[0m\u001b[0;34m\u001b[0m\u001b[0;34m\u001b[0m\u001b[0;34m\u001b[0m\u001b[0m\n",
            "\u001b[0;32m/usr/local/lib/python3.7/dist-packages/pandas/core/indexing.py\u001b[0m in \u001b[0;36m_getitem_iterable\u001b[0;34m(self, key, axis)\u001b[0m\n\u001b[1;32m   1035\u001b[0m \u001b[0;34m\u001b[0m\u001b[0m\n\u001b[1;32m   1036\u001b[0m         \u001b[0;31m# A collection of keys\u001b[0m\u001b[0;34m\u001b[0m\u001b[0;34m\u001b[0m\u001b[0;34m\u001b[0m\u001b[0m\n\u001b[0;32m-> 1037\u001b[0;31m         \u001b[0mkeyarr\u001b[0m\u001b[0;34m,\u001b[0m \u001b[0mindexer\u001b[0m \u001b[0;34m=\u001b[0m \u001b[0mself\u001b[0m\u001b[0;34m.\u001b[0m\u001b[0m_get_listlike_indexer\u001b[0m\u001b[0;34m(\u001b[0m\u001b[0mkey\u001b[0m\u001b[0;34m,\u001b[0m \u001b[0maxis\u001b[0m\u001b[0;34m,\u001b[0m \u001b[0mraise_missing\u001b[0m\u001b[0;34m=\u001b[0m\u001b[0;32mFalse\u001b[0m\u001b[0;34m)\u001b[0m\u001b[0;34m\u001b[0m\u001b[0;34m\u001b[0m\u001b[0m\n\u001b[0m\u001b[1;32m   1038\u001b[0m         return self.obj._reindex_with_indexers(\n\u001b[1;32m   1039\u001b[0m             \u001b[0;34m{\u001b[0m\u001b[0maxis\u001b[0m\u001b[0;34m:\u001b[0m \u001b[0;34m[\u001b[0m\u001b[0mkeyarr\u001b[0m\u001b[0;34m,\u001b[0m \u001b[0mindexer\u001b[0m\u001b[0;34m]\u001b[0m\u001b[0;34m}\u001b[0m\u001b[0;34m,\u001b[0m \u001b[0mcopy\u001b[0m\u001b[0;34m=\u001b[0m\u001b[0;32mTrue\u001b[0m\u001b[0;34m,\u001b[0m \u001b[0mallow_dups\u001b[0m\u001b[0;34m=\u001b[0m\u001b[0;32mTrue\u001b[0m\u001b[0;34m\u001b[0m\u001b[0;34m\u001b[0m\u001b[0m\n",
            "\u001b[0;32m/usr/local/lib/python3.7/dist-packages/pandas/core/indexing.py\u001b[0m in \u001b[0;36m_get_listlike_indexer\u001b[0;34m(self, key, axis, raise_missing)\u001b[0m\n\u001b[1;32m   1252\u001b[0m             \u001b[0mkeyarr\u001b[0m\u001b[0;34m,\u001b[0m \u001b[0mindexer\u001b[0m\u001b[0;34m,\u001b[0m \u001b[0mnew_indexer\u001b[0m \u001b[0;34m=\u001b[0m \u001b[0max\u001b[0m\u001b[0;34m.\u001b[0m\u001b[0m_reindex_non_unique\u001b[0m\u001b[0;34m(\u001b[0m\u001b[0mkeyarr\u001b[0m\u001b[0;34m)\u001b[0m\u001b[0;34m\u001b[0m\u001b[0;34m\u001b[0m\u001b[0m\n\u001b[1;32m   1253\u001b[0m \u001b[0;34m\u001b[0m\u001b[0m\n\u001b[0;32m-> 1254\u001b[0;31m         \u001b[0mself\u001b[0m\u001b[0;34m.\u001b[0m\u001b[0m_validate_read_indexer\u001b[0m\u001b[0;34m(\u001b[0m\u001b[0mkeyarr\u001b[0m\u001b[0;34m,\u001b[0m \u001b[0mindexer\u001b[0m\u001b[0;34m,\u001b[0m \u001b[0maxis\u001b[0m\u001b[0;34m,\u001b[0m \u001b[0mraise_missing\u001b[0m\u001b[0;34m=\u001b[0m\u001b[0mraise_missing\u001b[0m\u001b[0;34m)\u001b[0m\u001b[0;34m\u001b[0m\u001b[0;34m\u001b[0m\u001b[0m\n\u001b[0m\u001b[1;32m   1255\u001b[0m         \u001b[0;32mreturn\u001b[0m \u001b[0mkeyarr\u001b[0m\u001b[0;34m,\u001b[0m \u001b[0mindexer\u001b[0m\u001b[0;34m\u001b[0m\u001b[0;34m\u001b[0m\u001b[0m\n\u001b[1;32m   1256\u001b[0m \u001b[0;34m\u001b[0m\u001b[0m\n",
            "\u001b[0;32m/usr/local/lib/python3.7/dist-packages/pandas/core/indexing.py\u001b[0m in \u001b[0;36m_validate_read_indexer\u001b[0;34m(self, key, indexer, axis, raise_missing)\u001b[0m\n\u001b[1;32m   1314\u001b[0m                 \u001b[0;32mwith\u001b[0m \u001b[0moption_context\u001b[0m\u001b[0;34m(\u001b[0m\u001b[0;34m\"display.max_seq_items\"\u001b[0m\u001b[0;34m,\u001b[0m \u001b[0;36m10\u001b[0m\u001b[0;34m,\u001b[0m \u001b[0;34m\"display.width\"\u001b[0m\u001b[0;34m,\u001b[0m \u001b[0;36m80\u001b[0m\u001b[0;34m)\u001b[0m\u001b[0;34m:\u001b[0m\u001b[0;34m\u001b[0m\u001b[0;34m\u001b[0m\u001b[0m\n\u001b[1;32m   1315\u001b[0m                     raise KeyError(\n\u001b[0;32m-> 1316\u001b[0;31m                         \u001b[0;34m\"Passing list-likes to .loc or [] with any missing labels \"\u001b[0m\u001b[0;34m\u001b[0m\u001b[0;34m\u001b[0m\u001b[0m\n\u001b[0m\u001b[1;32m   1317\u001b[0m                         \u001b[0;34m\"is no longer supported. \"\u001b[0m\u001b[0;34m\u001b[0m\u001b[0;34m\u001b[0m\u001b[0m\n\u001b[1;32m   1318\u001b[0m                         \u001b[0;34mf\"The following labels were missing: {not_found}. \"\u001b[0m\u001b[0;34m\u001b[0m\u001b[0;34m\u001b[0m\u001b[0m\n",
            "\u001b[0;31mKeyError\u001b[0m: \"Passing list-likes to .loc or [] with any missing labels is no longer supported. The following labels were missing: Index(['LifeSquare'], dtype='object'). See https://pandas.pydata.org/pandas-docs/stable/user_guide/indexing.html#deprecate-loc-reindex-listlike\""
          ]
        }
      ]
    },
    {
      "cell_type": "code",
      "source": [
        "# df_train['Square_tuned'] = df_train['LifeSquare'] + df_train['KitchenSquare']\n",
        "# df_train.head()"
      ],
      "metadata": {
        "colab": {
          "base_uri": "https://localhost:8080/",
          "height": 206
        },
        "id": "1WhYBhWztErX",
        "outputId": "7c161bc2-a085-418c-a389-449fa358086c"
      },
      "execution_count": null,
      "outputs": [
        {
          "output_type": "execute_result",
          "data": {
            "text/html": [
              "\n",
              "  <div id=\"df-c06f4725-2bb5-4496-a699-129cfdaeacd3\">\n",
              "    <div class=\"colab-df-container\">\n",
              "      <div>\n",
              "<style scoped>\n",
              "    .dataframe tbody tr th:only-of-type {\n",
              "        vertical-align: middle;\n",
              "    }\n",
              "\n",
              "    .dataframe tbody tr th {\n",
              "        vertical-align: top;\n",
              "    }\n",
              "\n",
              "    .dataframe thead th {\n",
              "        text-align: right;\n",
              "    }\n",
              "</style>\n",
              "<table border=\"1\" class=\"dataframe\">\n",
              "  <thead>\n",
              "    <tr style=\"text-align: right;\">\n",
              "      <th></th>\n",
              "      <th>Id</th>\n",
              "      <th>DistrictId</th>\n",
              "      <th>Rooms</th>\n",
              "      <th>Square</th>\n",
              "      <th>LifeSquare</th>\n",
              "      <th>KitchenSquare</th>\n",
              "      <th>Floor</th>\n",
              "      <th>HouseFloor</th>\n",
              "      <th>HouseYear</th>\n",
              "      <th>Ecology_1</th>\n",
              "      <th>Ecology_2</th>\n",
              "      <th>Ecology_3</th>\n",
              "      <th>Social_1</th>\n",
              "      <th>Social_2</th>\n",
              "      <th>Social_3</th>\n",
              "      <th>Healthcare_1</th>\n",
              "      <th>Helthcare_2</th>\n",
              "      <th>Shops_1</th>\n",
              "      <th>Shops_2</th>\n",
              "      <th>Price</th>\n",
              "      <th>Square_tuned</th>\n",
              "    </tr>\n",
              "  </thead>\n",
              "  <tbody>\n",
              "    <tr>\n",
              "      <th>0</th>\n",
              "      <td>11809</td>\n",
              "      <td>27</td>\n",
              "      <td>3.0</td>\n",
              "      <td>115.027311</td>\n",
              "      <td>NaN</td>\n",
              "      <td>10.0</td>\n",
              "      <td>4</td>\n",
              "      <td>10.0</td>\n",
              "      <td>2014</td>\n",
              "      <td>0.075424</td>\n",
              "      <td>B</td>\n",
              "      <td>B</td>\n",
              "      <td>11</td>\n",
              "      <td>3097</td>\n",
              "      <td>0</td>\n",
              "      <td>NaN</td>\n",
              "      <td>0</td>\n",
              "      <td>0</td>\n",
              "      <td>B</td>\n",
              "      <td>305018.871089</td>\n",
              "      <td>NaN</td>\n",
              "    </tr>\n",
              "    <tr>\n",
              "      <th>1</th>\n",
              "      <td>3013</td>\n",
              "      <td>22</td>\n",
              "      <td>1.0</td>\n",
              "      <td>39.832524</td>\n",
              "      <td>23.169223</td>\n",
              "      <td>8.0</td>\n",
              "      <td>7</td>\n",
              "      <td>8.0</td>\n",
              "      <td>1966</td>\n",
              "      <td>0.118537</td>\n",
              "      <td>B</td>\n",
              "      <td>B</td>\n",
              "      <td>30</td>\n",
              "      <td>6207</td>\n",
              "      <td>1</td>\n",
              "      <td>1183.0</td>\n",
              "      <td>1</td>\n",
              "      <td>0</td>\n",
              "      <td>B</td>\n",
              "      <td>177734.553407</td>\n",
              "      <td>31.169223</td>\n",
              "    </tr>\n",
              "    <tr>\n",
              "      <th>2</th>\n",
              "      <td>8215</td>\n",
              "      <td>1</td>\n",
              "      <td>3.0</td>\n",
              "      <td>78.342215</td>\n",
              "      <td>47.671972</td>\n",
              "      <td>10.0</td>\n",
              "      <td>2</td>\n",
              "      <td>17.0</td>\n",
              "      <td>1988</td>\n",
              "      <td>0.025609</td>\n",
              "      <td>B</td>\n",
              "      <td>B</td>\n",
              "      <td>33</td>\n",
              "      <td>5261</td>\n",
              "      <td>0</td>\n",
              "      <td>240.0</td>\n",
              "      <td>3</td>\n",
              "      <td>1</td>\n",
              "      <td>B</td>\n",
              "      <td>282078.720850</td>\n",
              "      <td>57.671972</td>\n",
              "    </tr>\n",
              "    <tr>\n",
              "      <th>3</th>\n",
              "      <td>2352</td>\n",
              "      <td>1</td>\n",
              "      <td>1.0</td>\n",
              "      <td>40.409907</td>\n",
              "      <td>NaN</td>\n",
              "      <td>1.0</td>\n",
              "      <td>10</td>\n",
              "      <td>22.0</td>\n",
              "      <td>1977</td>\n",
              "      <td>0.007122</td>\n",
              "      <td>B</td>\n",
              "      <td>B</td>\n",
              "      <td>1</td>\n",
              "      <td>264</td>\n",
              "      <td>0</td>\n",
              "      <td>NaN</td>\n",
              "      <td>0</td>\n",
              "      <td>1</td>\n",
              "      <td>B</td>\n",
              "      <td>168106.007630</td>\n",
              "      <td>NaN</td>\n",
              "    </tr>\n",
              "    <tr>\n",
              "      <th>4</th>\n",
              "      <td>13866</td>\n",
              "      <td>94</td>\n",
              "      <td>2.0</td>\n",
              "      <td>64.285067</td>\n",
              "      <td>38.562517</td>\n",
              "      <td>9.0</td>\n",
              "      <td>16</td>\n",
              "      <td>16.0</td>\n",
              "      <td>1972</td>\n",
              "      <td>0.282798</td>\n",
              "      <td>B</td>\n",
              "      <td>B</td>\n",
              "      <td>33</td>\n",
              "      <td>8667</td>\n",
              "      <td>2</td>\n",
              "      <td>NaN</td>\n",
              "      <td>0</td>\n",
              "      <td>6</td>\n",
              "      <td>B</td>\n",
              "      <td>343995.102962</td>\n",
              "      <td>47.562517</td>\n",
              "    </tr>\n",
              "  </tbody>\n",
              "</table>\n",
              "</div>\n",
              "      <button class=\"colab-df-convert\" onclick=\"convertToInteractive('df-c06f4725-2bb5-4496-a699-129cfdaeacd3')\"\n",
              "              title=\"Convert this dataframe to an interactive table.\"\n",
              "              style=\"display:none;\">\n",
              "        \n",
              "  <svg xmlns=\"http://www.w3.org/2000/svg\" height=\"24px\"viewBox=\"0 0 24 24\"\n",
              "       width=\"24px\">\n",
              "    <path d=\"M0 0h24v24H0V0z\" fill=\"none\"/>\n",
              "    <path d=\"M18.56 5.44l.94 2.06.94-2.06 2.06-.94-2.06-.94-.94-2.06-.94 2.06-2.06.94zm-11 1L8.5 8.5l.94-2.06 2.06-.94-2.06-.94L8.5 2.5l-.94 2.06-2.06.94zm10 10l.94 2.06.94-2.06 2.06-.94-2.06-.94-.94-2.06-.94 2.06-2.06.94z\"/><path d=\"M17.41 7.96l-1.37-1.37c-.4-.4-.92-.59-1.43-.59-.52 0-1.04.2-1.43.59L10.3 9.45l-7.72 7.72c-.78.78-.78 2.05 0 2.83L4 21.41c.39.39.9.59 1.41.59.51 0 1.02-.2 1.41-.59l7.78-7.78 2.81-2.81c.8-.78.8-2.07 0-2.86zM5.41 20L4 18.59l7.72-7.72 1.47 1.35L5.41 20z\"/>\n",
              "  </svg>\n",
              "      </button>\n",
              "      \n",
              "  <style>\n",
              "    .colab-df-container {\n",
              "      display:flex;\n",
              "      flex-wrap:wrap;\n",
              "      gap: 12px;\n",
              "    }\n",
              "\n",
              "    .colab-df-convert {\n",
              "      background-color: #E8F0FE;\n",
              "      border: none;\n",
              "      border-radius: 50%;\n",
              "      cursor: pointer;\n",
              "      display: none;\n",
              "      fill: #1967D2;\n",
              "      height: 32px;\n",
              "      padding: 0 0 0 0;\n",
              "      width: 32px;\n",
              "    }\n",
              "\n",
              "    .colab-df-convert:hover {\n",
              "      background-color: #E2EBFA;\n",
              "      box-shadow: 0px 1px 2px rgba(60, 64, 67, 0.3), 0px 1px 3px 1px rgba(60, 64, 67, 0.15);\n",
              "      fill: #174EA6;\n",
              "    }\n",
              "\n",
              "    [theme=dark] .colab-df-convert {\n",
              "      background-color: #3B4455;\n",
              "      fill: #D2E3FC;\n",
              "    }\n",
              "\n",
              "    [theme=dark] .colab-df-convert:hover {\n",
              "      background-color: #434B5C;\n",
              "      box-shadow: 0px 1px 3px 1px rgba(0, 0, 0, 0.15);\n",
              "      filter: drop-shadow(0px 1px 2px rgba(0, 0, 0, 0.3));\n",
              "      fill: #FFFFFF;\n",
              "    }\n",
              "  </style>\n",
              "\n",
              "      <script>\n",
              "        const buttonEl =\n",
              "          document.querySelector('#df-c06f4725-2bb5-4496-a699-129cfdaeacd3 button.colab-df-convert');\n",
              "        buttonEl.style.display =\n",
              "          google.colab.kernel.accessAllowed ? 'block' : 'none';\n",
              "\n",
              "        async function convertToInteractive(key) {\n",
              "          const element = document.querySelector('#df-c06f4725-2bb5-4496-a699-129cfdaeacd3');\n",
              "          const dataTable =\n",
              "            await google.colab.kernel.invokeFunction('convertToInteractive',\n",
              "                                                     [key], {});\n",
              "          if (!dataTable) return;\n",
              "\n",
              "          const docLinkHtml = 'Like what you see? Visit the ' +\n",
              "            '<a target=\"_blank\" href=https://colab.research.google.com/notebooks/data_table.ipynb>data table notebook</a>'\n",
              "            + ' to learn more about interactive tables.';\n",
              "          element.innerHTML = '';\n",
              "          dataTable['output_type'] = 'display_data';\n",
              "          await google.colab.output.renderOutput(dataTable, element);\n",
              "          const docLink = document.createElement('div');\n",
              "          docLink.innerHTML = docLinkHtml;\n",
              "          element.appendChild(docLink);\n",
              "        }\n",
              "      </script>\n",
              "    </div>\n",
              "  </div>\n",
              "  "
            ],
            "text/plain": [
              "      Id  DistrictId  Rooms  ...  Shops_2          Price  Square_tuned\n",
              "0  11809          27    3.0  ...        B  305018.871089           NaN\n",
              "1   3013          22    1.0  ...        B  177734.553407     31.169223\n",
              "2   8215           1    3.0  ...        B  282078.720850     57.671972\n",
              "3   2352           1    1.0  ...        B  168106.007630           NaN\n",
              "4  13866          94    2.0  ...        B  343995.102962     47.562517\n",
              "\n",
              "[5 rows x 21 columns]"
            ]
          },
          "metadata": {},
          "execution_count": 429
        }
      ]
    },
    {
      "cell_type": "code",
      "source": [
        "# df_train.loc[df_train['Square'] > df_train['Square_tuned'], 'Square_tuned'] = df_train['Square']\n",
        "# df_train.head()"
      ],
      "metadata": {
        "colab": {
          "base_uri": "https://localhost:8080/",
          "height": 206
        },
        "id": "PgbKkzom0d6J",
        "outputId": "88473787-eff8-4ac5-ca3a-f279103554e4"
      },
      "execution_count": null,
      "outputs": [
        {
          "output_type": "execute_result",
          "data": {
            "text/html": [
              "\n",
              "  <div id=\"df-db83f9ee-18a9-4dc0-9ba8-dbd456b333b3\">\n",
              "    <div class=\"colab-df-container\">\n",
              "      <div>\n",
              "<style scoped>\n",
              "    .dataframe tbody tr th:only-of-type {\n",
              "        vertical-align: middle;\n",
              "    }\n",
              "\n",
              "    .dataframe tbody tr th {\n",
              "        vertical-align: top;\n",
              "    }\n",
              "\n",
              "    .dataframe thead th {\n",
              "        text-align: right;\n",
              "    }\n",
              "</style>\n",
              "<table border=\"1\" class=\"dataframe\">\n",
              "  <thead>\n",
              "    <tr style=\"text-align: right;\">\n",
              "      <th></th>\n",
              "      <th>Id</th>\n",
              "      <th>DistrictId</th>\n",
              "      <th>Rooms</th>\n",
              "      <th>Square</th>\n",
              "      <th>LifeSquare</th>\n",
              "      <th>KitchenSquare</th>\n",
              "      <th>Floor</th>\n",
              "      <th>HouseFloor</th>\n",
              "      <th>HouseYear</th>\n",
              "      <th>Ecology_1</th>\n",
              "      <th>Ecology_2</th>\n",
              "      <th>Ecology_3</th>\n",
              "      <th>Social_1</th>\n",
              "      <th>Social_2</th>\n",
              "      <th>Social_3</th>\n",
              "      <th>Healthcare_1</th>\n",
              "      <th>Helthcare_2</th>\n",
              "      <th>Shops_1</th>\n",
              "      <th>Shops_2</th>\n",
              "      <th>Price</th>\n",
              "      <th>Square_tuned</th>\n",
              "    </tr>\n",
              "  </thead>\n",
              "  <tbody>\n",
              "    <tr>\n",
              "      <th>0</th>\n",
              "      <td>11809</td>\n",
              "      <td>27</td>\n",
              "      <td>3.0</td>\n",
              "      <td>115.027311</td>\n",
              "      <td>NaN</td>\n",
              "      <td>10.0</td>\n",
              "      <td>4</td>\n",
              "      <td>10.0</td>\n",
              "      <td>2014</td>\n",
              "      <td>0.075424</td>\n",
              "      <td>B</td>\n",
              "      <td>B</td>\n",
              "      <td>11</td>\n",
              "      <td>3097</td>\n",
              "      <td>0</td>\n",
              "      <td>NaN</td>\n",
              "      <td>0</td>\n",
              "      <td>0</td>\n",
              "      <td>B</td>\n",
              "      <td>305018.871089</td>\n",
              "      <td>NaN</td>\n",
              "    </tr>\n",
              "    <tr>\n",
              "      <th>1</th>\n",
              "      <td>3013</td>\n",
              "      <td>22</td>\n",
              "      <td>1.0</td>\n",
              "      <td>39.832524</td>\n",
              "      <td>23.169223</td>\n",
              "      <td>8.0</td>\n",
              "      <td>7</td>\n",
              "      <td>8.0</td>\n",
              "      <td>1966</td>\n",
              "      <td>0.118537</td>\n",
              "      <td>B</td>\n",
              "      <td>B</td>\n",
              "      <td>30</td>\n",
              "      <td>6207</td>\n",
              "      <td>1</td>\n",
              "      <td>1183.0</td>\n",
              "      <td>1</td>\n",
              "      <td>0</td>\n",
              "      <td>B</td>\n",
              "      <td>177734.553407</td>\n",
              "      <td>39.832524</td>\n",
              "    </tr>\n",
              "    <tr>\n",
              "      <th>2</th>\n",
              "      <td>8215</td>\n",
              "      <td>1</td>\n",
              "      <td>3.0</td>\n",
              "      <td>78.342215</td>\n",
              "      <td>47.671972</td>\n",
              "      <td>10.0</td>\n",
              "      <td>2</td>\n",
              "      <td>17.0</td>\n",
              "      <td>1988</td>\n",
              "      <td>0.025609</td>\n",
              "      <td>B</td>\n",
              "      <td>B</td>\n",
              "      <td>33</td>\n",
              "      <td>5261</td>\n",
              "      <td>0</td>\n",
              "      <td>240.0</td>\n",
              "      <td>3</td>\n",
              "      <td>1</td>\n",
              "      <td>B</td>\n",
              "      <td>282078.720850</td>\n",
              "      <td>78.342215</td>\n",
              "    </tr>\n",
              "    <tr>\n",
              "      <th>3</th>\n",
              "      <td>2352</td>\n",
              "      <td>1</td>\n",
              "      <td>1.0</td>\n",
              "      <td>40.409907</td>\n",
              "      <td>NaN</td>\n",
              "      <td>1.0</td>\n",
              "      <td>10</td>\n",
              "      <td>22.0</td>\n",
              "      <td>1977</td>\n",
              "      <td>0.007122</td>\n",
              "      <td>B</td>\n",
              "      <td>B</td>\n",
              "      <td>1</td>\n",
              "      <td>264</td>\n",
              "      <td>0</td>\n",
              "      <td>NaN</td>\n",
              "      <td>0</td>\n",
              "      <td>1</td>\n",
              "      <td>B</td>\n",
              "      <td>168106.007630</td>\n",
              "      <td>NaN</td>\n",
              "    </tr>\n",
              "    <tr>\n",
              "      <th>4</th>\n",
              "      <td>13866</td>\n",
              "      <td>94</td>\n",
              "      <td>2.0</td>\n",
              "      <td>64.285067</td>\n",
              "      <td>38.562517</td>\n",
              "      <td>9.0</td>\n",
              "      <td>16</td>\n",
              "      <td>16.0</td>\n",
              "      <td>1972</td>\n",
              "      <td>0.282798</td>\n",
              "      <td>B</td>\n",
              "      <td>B</td>\n",
              "      <td>33</td>\n",
              "      <td>8667</td>\n",
              "      <td>2</td>\n",
              "      <td>NaN</td>\n",
              "      <td>0</td>\n",
              "      <td>6</td>\n",
              "      <td>B</td>\n",
              "      <td>343995.102962</td>\n",
              "      <td>64.285067</td>\n",
              "    </tr>\n",
              "  </tbody>\n",
              "</table>\n",
              "</div>\n",
              "      <button class=\"colab-df-convert\" onclick=\"convertToInteractive('df-db83f9ee-18a9-4dc0-9ba8-dbd456b333b3')\"\n",
              "              title=\"Convert this dataframe to an interactive table.\"\n",
              "              style=\"display:none;\">\n",
              "        \n",
              "  <svg xmlns=\"http://www.w3.org/2000/svg\" height=\"24px\"viewBox=\"0 0 24 24\"\n",
              "       width=\"24px\">\n",
              "    <path d=\"M0 0h24v24H0V0z\" fill=\"none\"/>\n",
              "    <path d=\"M18.56 5.44l.94 2.06.94-2.06 2.06-.94-2.06-.94-.94-2.06-.94 2.06-2.06.94zm-11 1L8.5 8.5l.94-2.06 2.06-.94-2.06-.94L8.5 2.5l-.94 2.06-2.06.94zm10 10l.94 2.06.94-2.06 2.06-.94-2.06-.94-.94-2.06-.94 2.06-2.06.94z\"/><path d=\"M17.41 7.96l-1.37-1.37c-.4-.4-.92-.59-1.43-.59-.52 0-1.04.2-1.43.59L10.3 9.45l-7.72 7.72c-.78.78-.78 2.05 0 2.83L4 21.41c.39.39.9.59 1.41.59.51 0 1.02-.2 1.41-.59l7.78-7.78 2.81-2.81c.8-.78.8-2.07 0-2.86zM5.41 20L4 18.59l7.72-7.72 1.47 1.35L5.41 20z\"/>\n",
              "  </svg>\n",
              "      </button>\n",
              "      \n",
              "  <style>\n",
              "    .colab-df-container {\n",
              "      display:flex;\n",
              "      flex-wrap:wrap;\n",
              "      gap: 12px;\n",
              "    }\n",
              "\n",
              "    .colab-df-convert {\n",
              "      background-color: #E8F0FE;\n",
              "      border: none;\n",
              "      border-radius: 50%;\n",
              "      cursor: pointer;\n",
              "      display: none;\n",
              "      fill: #1967D2;\n",
              "      height: 32px;\n",
              "      padding: 0 0 0 0;\n",
              "      width: 32px;\n",
              "    }\n",
              "\n",
              "    .colab-df-convert:hover {\n",
              "      background-color: #E2EBFA;\n",
              "      box-shadow: 0px 1px 2px rgba(60, 64, 67, 0.3), 0px 1px 3px 1px rgba(60, 64, 67, 0.15);\n",
              "      fill: #174EA6;\n",
              "    }\n",
              "\n",
              "    [theme=dark] .colab-df-convert {\n",
              "      background-color: #3B4455;\n",
              "      fill: #D2E3FC;\n",
              "    }\n",
              "\n",
              "    [theme=dark] .colab-df-convert:hover {\n",
              "      background-color: #434B5C;\n",
              "      box-shadow: 0px 1px 3px 1px rgba(0, 0, 0, 0.15);\n",
              "      filter: drop-shadow(0px 1px 2px rgba(0, 0, 0, 0.3));\n",
              "      fill: #FFFFFF;\n",
              "    }\n",
              "  </style>\n",
              "\n",
              "      <script>\n",
              "        const buttonEl =\n",
              "          document.querySelector('#df-db83f9ee-18a9-4dc0-9ba8-dbd456b333b3 button.colab-df-convert');\n",
              "        buttonEl.style.display =\n",
              "          google.colab.kernel.accessAllowed ? 'block' : 'none';\n",
              "\n",
              "        async function convertToInteractive(key) {\n",
              "          const element = document.querySelector('#df-db83f9ee-18a9-4dc0-9ba8-dbd456b333b3');\n",
              "          const dataTable =\n",
              "            await google.colab.kernel.invokeFunction('convertToInteractive',\n",
              "                                                     [key], {});\n",
              "          if (!dataTable) return;\n",
              "\n",
              "          const docLinkHtml = 'Like what you see? Visit the ' +\n",
              "            '<a target=\"_blank\" href=https://colab.research.google.com/notebooks/data_table.ipynb>data table notebook</a>'\n",
              "            + ' to learn more about interactive tables.';\n",
              "          element.innerHTML = '';\n",
              "          dataTable['output_type'] = 'display_data';\n",
              "          await google.colab.output.renderOutput(dataTable, element);\n",
              "          const docLink = document.createElement('div');\n",
              "          docLink.innerHTML = docLinkHtml;\n",
              "          element.appendChild(docLink);\n",
              "        }\n",
              "      </script>\n",
              "    </div>\n",
              "  </div>\n",
              "  "
            ],
            "text/plain": [
              "      Id  DistrictId  Rooms  ...  Shops_2          Price  Square_tuned\n",
              "0  11809          27    3.0  ...        B  305018.871089           NaN\n",
              "1   3013          22    1.0  ...        B  177734.553407     39.832524\n",
              "2   8215           1    3.0  ...        B  282078.720850     78.342215\n",
              "3   2352           1    1.0  ...        B  168106.007630           NaN\n",
              "4  13866          94    2.0  ...        B  343995.102962     64.285067\n",
              "\n",
              "[5 rows x 21 columns]"
            ]
          },
          "metadata": {},
          "execution_count": 434
        }
      ]
    },
    {
      "cell_type": "code",
      "source": [
        "#  df_train.loc[df_train['Square_tuned'].isnull(), 'Square_tuned'] = df_train['Square']\n",
        "#  df_train.head()"
      ],
      "metadata": {
        "colab": {
          "base_uri": "https://localhost:8080/",
          "height": 206
        },
        "id": "br2vqr991ihJ",
        "outputId": "9d59686e-eb79-4dd9-9e51-dbd95bed8931"
      },
      "execution_count": null,
      "outputs": [
        {
          "output_type": "execute_result",
          "data": {
            "text/html": [
              "\n",
              "  <div id=\"df-11a3ad8d-7cf3-465f-aa3a-8cb764d336ac\">\n",
              "    <div class=\"colab-df-container\">\n",
              "      <div>\n",
              "<style scoped>\n",
              "    .dataframe tbody tr th:only-of-type {\n",
              "        vertical-align: middle;\n",
              "    }\n",
              "\n",
              "    .dataframe tbody tr th {\n",
              "        vertical-align: top;\n",
              "    }\n",
              "\n",
              "    .dataframe thead th {\n",
              "        text-align: right;\n",
              "    }\n",
              "</style>\n",
              "<table border=\"1\" class=\"dataframe\">\n",
              "  <thead>\n",
              "    <tr style=\"text-align: right;\">\n",
              "      <th></th>\n",
              "      <th>Id</th>\n",
              "      <th>DistrictId</th>\n",
              "      <th>Rooms</th>\n",
              "      <th>Square</th>\n",
              "      <th>LifeSquare</th>\n",
              "      <th>KitchenSquare</th>\n",
              "      <th>Floor</th>\n",
              "      <th>HouseFloor</th>\n",
              "      <th>HouseYear</th>\n",
              "      <th>Ecology_1</th>\n",
              "      <th>Ecology_2</th>\n",
              "      <th>Ecology_3</th>\n",
              "      <th>Social_1</th>\n",
              "      <th>Social_2</th>\n",
              "      <th>Social_3</th>\n",
              "      <th>Healthcare_1</th>\n",
              "      <th>Helthcare_2</th>\n",
              "      <th>Shops_1</th>\n",
              "      <th>Shops_2</th>\n",
              "      <th>Price</th>\n",
              "      <th>Square_tuned</th>\n",
              "    </tr>\n",
              "  </thead>\n",
              "  <tbody>\n",
              "    <tr>\n",
              "      <th>0</th>\n",
              "      <td>11809</td>\n",
              "      <td>27</td>\n",
              "      <td>3.0</td>\n",
              "      <td>115.027311</td>\n",
              "      <td>NaN</td>\n",
              "      <td>10.0</td>\n",
              "      <td>4</td>\n",
              "      <td>10.0</td>\n",
              "      <td>2014</td>\n",
              "      <td>0.075424</td>\n",
              "      <td>B</td>\n",
              "      <td>B</td>\n",
              "      <td>11</td>\n",
              "      <td>3097</td>\n",
              "      <td>0</td>\n",
              "      <td>NaN</td>\n",
              "      <td>0</td>\n",
              "      <td>0</td>\n",
              "      <td>B</td>\n",
              "      <td>305018.871089</td>\n",
              "      <td>115.027311</td>\n",
              "    </tr>\n",
              "    <tr>\n",
              "      <th>1</th>\n",
              "      <td>3013</td>\n",
              "      <td>22</td>\n",
              "      <td>1.0</td>\n",
              "      <td>39.832524</td>\n",
              "      <td>23.169223</td>\n",
              "      <td>8.0</td>\n",
              "      <td>7</td>\n",
              "      <td>8.0</td>\n",
              "      <td>1966</td>\n",
              "      <td>0.118537</td>\n",
              "      <td>B</td>\n",
              "      <td>B</td>\n",
              "      <td>30</td>\n",
              "      <td>6207</td>\n",
              "      <td>1</td>\n",
              "      <td>1183.0</td>\n",
              "      <td>1</td>\n",
              "      <td>0</td>\n",
              "      <td>B</td>\n",
              "      <td>177734.553407</td>\n",
              "      <td>39.832524</td>\n",
              "    </tr>\n",
              "    <tr>\n",
              "      <th>2</th>\n",
              "      <td>8215</td>\n",
              "      <td>1</td>\n",
              "      <td>3.0</td>\n",
              "      <td>78.342215</td>\n",
              "      <td>47.671972</td>\n",
              "      <td>10.0</td>\n",
              "      <td>2</td>\n",
              "      <td>17.0</td>\n",
              "      <td>1988</td>\n",
              "      <td>0.025609</td>\n",
              "      <td>B</td>\n",
              "      <td>B</td>\n",
              "      <td>33</td>\n",
              "      <td>5261</td>\n",
              "      <td>0</td>\n",
              "      <td>240.0</td>\n",
              "      <td>3</td>\n",
              "      <td>1</td>\n",
              "      <td>B</td>\n",
              "      <td>282078.720850</td>\n",
              "      <td>78.342215</td>\n",
              "    </tr>\n",
              "    <tr>\n",
              "      <th>3</th>\n",
              "      <td>2352</td>\n",
              "      <td>1</td>\n",
              "      <td>1.0</td>\n",
              "      <td>40.409907</td>\n",
              "      <td>NaN</td>\n",
              "      <td>1.0</td>\n",
              "      <td>10</td>\n",
              "      <td>22.0</td>\n",
              "      <td>1977</td>\n",
              "      <td>0.007122</td>\n",
              "      <td>B</td>\n",
              "      <td>B</td>\n",
              "      <td>1</td>\n",
              "      <td>264</td>\n",
              "      <td>0</td>\n",
              "      <td>NaN</td>\n",
              "      <td>0</td>\n",
              "      <td>1</td>\n",
              "      <td>B</td>\n",
              "      <td>168106.007630</td>\n",
              "      <td>40.409907</td>\n",
              "    </tr>\n",
              "    <tr>\n",
              "      <th>4</th>\n",
              "      <td>13866</td>\n",
              "      <td>94</td>\n",
              "      <td>2.0</td>\n",
              "      <td>64.285067</td>\n",
              "      <td>38.562517</td>\n",
              "      <td>9.0</td>\n",
              "      <td>16</td>\n",
              "      <td>16.0</td>\n",
              "      <td>1972</td>\n",
              "      <td>0.282798</td>\n",
              "      <td>B</td>\n",
              "      <td>B</td>\n",
              "      <td>33</td>\n",
              "      <td>8667</td>\n",
              "      <td>2</td>\n",
              "      <td>NaN</td>\n",
              "      <td>0</td>\n",
              "      <td>6</td>\n",
              "      <td>B</td>\n",
              "      <td>343995.102962</td>\n",
              "      <td>64.285067</td>\n",
              "    </tr>\n",
              "  </tbody>\n",
              "</table>\n",
              "</div>\n",
              "      <button class=\"colab-df-convert\" onclick=\"convertToInteractive('df-11a3ad8d-7cf3-465f-aa3a-8cb764d336ac')\"\n",
              "              title=\"Convert this dataframe to an interactive table.\"\n",
              "              style=\"display:none;\">\n",
              "        \n",
              "  <svg xmlns=\"http://www.w3.org/2000/svg\" height=\"24px\"viewBox=\"0 0 24 24\"\n",
              "       width=\"24px\">\n",
              "    <path d=\"M0 0h24v24H0V0z\" fill=\"none\"/>\n",
              "    <path d=\"M18.56 5.44l.94 2.06.94-2.06 2.06-.94-2.06-.94-.94-2.06-.94 2.06-2.06.94zm-11 1L8.5 8.5l.94-2.06 2.06-.94-2.06-.94L8.5 2.5l-.94 2.06-2.06.94zm10 10l.94 2.06.94-2.06 2.06-.94-2.06-.94-.94-2.06-.94 2.06-2.06.94z\"/><path d=\"M17.41 7.96l-1.37-1.37c-.4-.4-.92-.59-1.43-.59-.52 0-1.04.2-1.43.59L10.3 9.45l-7.72 7.72c-.78.78-.78 2.05 0 2.83L4 21.41c.39.39.9.59 1.41.59.51 0 1.02-.2 1.41-.59l7.78-7.78 2.81-2.81c.8-.78.8-2.07 0-2.86zM5.41 20L4 18.59l7.72-7.72 1.47 1.35L5.41 20z\"/>\n",
              "  </svg>\n",
              "      </button>\n",
              "      \n",
              "  <style>\n",
              "    .colab-df-container {\n",
              "      display:flex;\n",
              "      flex-wrap:wrap;\n",
              "      gap: 12px;\n",
              "    }\n",
              "\n",
              "    .colab-df-convert {\n",
              "      background-color: #E8F0FE;\n",
              "      border: none;\n",
              "      border-radius: 50%;\n",
              "      cursor: pointer;\n",
              "      display: none;\n",
              "      fill: #1967D2;\n",
              "      height: 32px;\n",
              "      padding: 0 0 0 0;\n",
              "      width: 32px;\n",
              "    }\n",
              "\n",
              "    .colab-df-convert:hover {\n",
              "      background-color: #E2EBFA;\n",
              "      box-shadow: 0px 1px 2px rgba(60, 64, 67, 0.3), 0px 1px 3px 1px rgba(60, 64, 67, 0.15);\n",
              "      fill: #174EA6;\n",
              "    }\n",
              "\n",
              "    [theme=dark] .colab-df-convert {\n",
              "      background-color: #3B4455;\n",
              "      fill: #D2E3FC;\n",
              "    }\n",
              "\n",
              "    [theme=dark] .colab-df-convert:hover {\n",
              "      background-color: #434B5C;\n",
              "      box-shadow: 0px 1px 3px 1px rgba(0, 0, 0, 0.15);\n",
              "      filter: drop-shadow(0px 1px 2px rgba(0, 0, 0, 0.3));\n",
              "      fill: #FFFFFF;\n",
              "    }\n",
              "  </style>\n",
              "\n",
              "      <script>\n",
              "        const buttonEl =\n",
              "          document.querySelector('#df-11a3ad8d-7cf3-465f-aa3a-8cb764d336ac button.colab-df-convert');\n",
              "        buttonEl.style.display =\n",
              "          google.colab.kernel.accessAllowed ? 'block' : 'none';\n",
              "\n",
              "        async function convertToInteractive(key) {\n",
              "          const element = document.querySelector('#df-11a3ad8d-7cf3-465f-aa3a-8cb764d336ac');\n",
              "          const dataTable =\n",
              "            await google.colab.kernel.invokeFunction('convertToInteractive',\n",
              "                                                     [key], {});\n",
              "          if (!dataTable) return;\n",
              "\n",
              "          const docLinkHtml = 'Like what you see? Visit the ' +\n",
              "            '<a target=\"_blank\" href=https://colab.research.google.com/notebooks/data_table.ipynb>data table notebook</a>'\n",
              "            + ' to learn more about interactive tables.';\n",
              "          element.innerHTML = '';\n",
              "          dataTable['output_type'] = 'display_data';\n",
              "          await google.colab.output.renderOutput(dataTable, element);\n",
              "          const docLink = document.createElement('div');\n",
              "          docLink.innerHTML = docLinkHtml;\n",
              "          element.appendChild(docLink);\n",
              "        }\n",
              "      </script>\n",
              "    </div>\n",
              "  </div>\n",
              "  "
            ],
            "text/plain": [
              "      Id  DistrictId  Rooms  ...  Shops_2          Price  Square_tuned\n",
              "0  11809          27    3.0  ...        B  305018.871089    115.027311\n",
              "1   3013          22    1.0  ...        B  177734.553407     39.832524\n",
              "2   8215           1    3.0  ...        B  282078.720850     78.342215\n",
              "3   2352           1    1.0  ...        B  168106.007630     40.409907\n",
              "4  13866          94    2.0  ...        B  343995.102962     64.285067\n",
              "\n",
              "[5 rows x 21 columns]"
            ]
          },
          "metadata": {},
          "execution_count": 446
        }
      ]
    },
    {
      "cell_type": "code",
      "source": [
        "# df_train.loc[df_train['LifeSquare'] > df_train['Square_tuned']]"
      ],
      "metadata": {
        "colab": {
          "base_uri": "https://localhost:8080/",
          "height": 50
        },
        "id": "jOnvexWz2p2p",
        "outputId": "31227a89-1cc1-45ff-aa65-41e2a573772a"
      },
      "execution_count": null,
      "outputs": [
        {
          "output_type": "execute_result",
          "data": {
            "text/html": [
              "\n",
              "  <div id=\"df-7936dbb7-b5e0-4cdd-8229-a87d55afa83b\">\n",
              "    <div class=\"colab-df-container\">\n",
              "      <div>\n",
              "<style scoped>\n",
              "    .dataframe tbody tr th:only-of-type {\n",
              "        vertical-align: middle;\n",
              "    }\n",
              "\n",
              "    .dataframe tbody tr th {\n",
              "        vertical-align: top;\n",
              "    }\n",
              "\n",
              "    .dataframe thead th {\n",
              "        text-align: right;\n",
              "    }\n",
              "</style>\n",
              "<table border=\"1\" class=\"dataframe\">\n",
              "  <thead>\n",
              "    <tr style=\"text-align: right;\">\n",
              "      <th></th>\n",
              "      <th>Id</th>\n",
              "      <th>DistrictId</th>\n",
              "      <th>Rooms</th>\n",
              "      <th>Square</th>\n",
              "      <th>LifeSquare</th>\n",
              "      <th>KitchenSquare</th>\n",
              "      <th>Floor</th>\n",
              "      <th>HouseFloor</th>\n",
              "      <th>HouseYear</th>\n",
              "      <th>Ecology_1</th>\n",
              "      <th>Ecology_2</th>\n",
              "      <th>Ecology_3</th>\n",
              "      <th>Social_1</th>\n",
              "      <th>Social_2</th>\n",
              "      <th>Social_3</th>\n",
              "      <th>Healthcare_1</th>\n",
              "      <th>Helthcare_2</th>\n",
              "      <th>Shops_1</th>\n",
              "      <th>Shops_2</th>\n",
              "      <th>Price</th>\n",
              "      <th>Square_tuned</th>\n",
              "    </tr>\n",
              "  </thead>\n",
              "  <tbody>\n",
              "  </tbody>\n",
              "</table>\n",
              "</div>\n",
              "      <button class=\"colab-df-convert\" onclick=\"convertToInteractive('df-7936dbb7-b5e0-4cdd-8229-a87d55afa83b')\"\n",
              "              title=\"Convert this dataframe to an interactive table.\"\n",
              "              style=\"display:none;\">\n",
              "        \n",
              "  <svg xmlns=\"http://www.w3.org/2000/svg\" height=\"24px\"viewBox=\"0 0 24 24\"\n",
              "       width=\"24px\">\n",
              "    <path d=\"M0 0h24v24H0V0z\" fill=\"none\"/>\n",
              "    <path d=\"M18.56 5.44l.94 2.06.94-2.06 2.06-.94-2.06-.94-.94-2.06-.94 2.06-2.06.94zm-11 1L8.5 8.5l.94-2.06 2.06-.94-2.06-.94L8.5 2.5l-.94 2.06-2.06.94zm10 10l.94 2.06.94-2.06 2.06-.94-2.06-.94-.94-2.06-.94 2.06-2.06.94z\"/><path d=\"M17.41 7.96l-1.37-1.37c-.4-.4-.92-.59-1.43-.59-.52 0-1.04.2-1.43.59L10.3 9.45l-7.72 7.72c-.78.78-.78 2.05 0 2.83L4 21.41c.39.39.9.59 1.41.59.51 0 1.02-.2 1.41-.59l7.78-7.78 2.81-2.81c.8-.78.8-2.07 0-2.86zM5.41 20L4 18.59l7.72-7.72 1.47 1.35L5.41 20z\"/>\n",
              "  </svg>\n",
              "      </button>\n",
              "      \n",
              "  <style>\n",
              "    .colab-df-container {\n",
              "      display:flex;\n",
              "      flex-wrap:wrap;\n",
              "      gap: 12px;\n",
              "    }\n",
              "\n",
              "    .colab-df-convert {\n",
              "      background-color: #E8F0FE;\n",
              "      border: none;\n",
              "      border-radius: 50%;\n",
              "      cursor: pointer;\n",
              "      display: none;\n",
              "      fill: #1967D2;\n",
              "      height: 32px;\n",
              "      padding: 0 0 0 0;\n",
              "      width: 32px;\n",
              "    }\n",
              "\n",
              "    .colab-df-convert:hover {\n",
              "      background-color: #E2EBFA;\n",
              "      box-shadow: 0px 1px 2px rgba(60, 64, 67, 0.3), 0px 1px 3px 1px rgba(60, 64, 67, 0.15);\n",
              "      fill: #174EA6;\n",
              "    }\n",
              "\n",
              "    [theme=dark] .colab-df-convert {\n",
              "      background-color: #3B4455;\n",
              "      fill: #D2E3FC;\n",
              "    }\n",
              "\n",
              "    [theme=dark] .colab-df-convert:hover {\n",
              "      background-color: #434B5C;\n",
              "      box-shadow: 0px 1px 3px 1px rgba(0, 0, 0, 0.15);\n",
              "      filter: drop-shadow(0px 1px 2px rgba(0, 0, 0, 0.3));\n",
              "      fill: #FFFFFF;\n",
              "    }\n",
              "  </style>\n",
              "\n",
              "      <script>\n",
              "        const buttonEl =\n",
              "          document.querySelector('#df-7936dbb7-b5e0-4cdd-8229-a87d55afa83b button.colab-df-convert');\n",
              "        buttonEl.style.display =\n",
              "          google.colab.kernel.accessAllowed ? 'block' : 'none';\n",
              "\n",
              "        async function convertToInteractive(key) {\n",
              "          const element = document.querySelector('#df-7936dbb7-b5e0-4cdd-8229-a87d55afa83b');\n",
              "          const dataTable =\n",
              "            await google.colab.kernel.invokeFunction('convertToInteractive',\n",
              "                                                     [key], {});\n",
              "          if (!dataTable) return;\n",
              "\n",
              "          const docLinkHtml = 'Like what you see? Visit the ' +\n",
              "            '<a target=\"_blank\" href=https://colab.research.google.com/notebooks/data_table.ipynb>data table notebook</a>'\n",
              "            + ' to learn more about interactive tables.';\n",
              "          element.innerHTML = '';\n",
              "          dataTable['output_type'] = 'display_data';\n",
              "          await google.colab.output.renderOutput(dataTable, element);\n",
              "          const docLink = document.createElement('div');\n",
              "          docLink.innerHTML = docLinkHtml;\n",
              "          element.appendChild(docLink);\n",
              "        }\n",
              "      </script>\n",
              "    </div>\n",
              "  </div>\n",
              "  "
            ],
            "text/plain": [
              "Empty DataFrame\n",
              "Columns: [Id, DistrictId, Rooms, Square, LifeSquare, KitchenSquare, Floor, HouseFloor, HouseYear, Ecology_1, Ecology_2, Ecology_3, Social_1, Social_2, Social_3, Healthcare_1, Helthcare_2, Shops_1, Shops_2, Price, Square_tuned]\n",
              "Index: []"
            ]
          },
          "metadata": {},
          "execution_count": 443
        }
      ]
    },
    {
      "cell_type": "code",
      "source": [
        "# df_train.corr()['Price'][['Square', 'LifeSquare', 'KitchenSquare', 'Square_tuned']]"
      ],
      "metadata": {
        "colab": {
          "base_uri": "https://localhost:8080/"
        },
        "id": "d6qE2MDm1A6_",
        "outputId": "508fa2b0-481f-4360-9b0a-4e7bf2ddf031"
      },
      "execution_count": null,
      "outputs": [
        {
          "output_type": "execute_result",
          "data": {
            "text/plain": [
              "Square           0.520075\n",
              "LifeSquare       0.081292\n",
              "KitchenSquare    0.028864\n",
              "Square_tuned     0.128135\n",
              "Name: Price, dtype: float64"
            ]
          },
          "metadata": {},
          "execution_count": 440
        }
      ]
    },
    {
      "cell_type": "code",
      "source": [
        "# df_train.loc[df_train['Square'] < df_train['Square_tuned'], 'Square'] = df_train['Square_tuned']"
      ],
      "metadata": {
        "id": "b1vegS71udnI"
      },
      "execution_count": null,
      "outputs": []
    },
    {
      "cell_type": "code",
      "source": [
        "# df_train.iloc[[0]]"
      ],
      "metadata": {
        "colab": {
          "base_uri": "https://localhost:8080/",
          "height": 81
        },
        "id": "Y39UlhLtzY01",
        "outputId": "8a1e2845-6d47-4214-f90e-b91d600ab4ec"
      },
      "execution_count": null,
      "outputs": [
        {
          "output_type": "execute_result",
          "data": {
            "text/html": [
              "\n",
              "  <div id=\"df-d7023ba4-9d55-4051-9b5f-b87f8562452a\">\n",
              "    <div class=\"colab-df-container\">\n",
              "      <div>\n",
              "<style scoped>\n",
              "    .dataframe tbody tr th:only-of-type {\n",
              "        vertical-align: middle;\n",
              "    }\n",
              "\n",
              "    .dataframe tbody tr th {\n",
              "        vertical-align: top;\n",
              "    }\n",
              "\n",
              "    .dataframe thead th {\n",
              "        text-align: right;\n",
              "    }\n",
              "</style>\n",
              "<table border=\"1\" class=\"dataframe\">\n",
              "  <thead>\n",
              "    <tr style=\"text-align: right;\">\n",
              "      <th></th>\n",
              "      <th>Id</th>\n",
              "      <th>DistrictId</th>\n",
              "      <th>Rooms</th>\n",
              "      <th>Square</th>\n",
              "      <th>LifeSquare</th>\n",
              "      <th>KitchenSquare</th>\n",
              "      <th>Floor</th>\n",
              "      <th>HouseFloor</th>\n",
              "      <th>HouseYear</th>\n",
              "      <th>Ecology_1</th>\n",
              "      <th>Ecology_2</th>\n",
              "      <th>Ecology_3</th>\n",
              "      <th>Social_1</th>\n",
              "      <th>Social_2</th>\n",
              "      <th>Social_3</th>\n",
              "      <th>Healthcare_1</th>\n",
              "      <th>Helthcare_2</th>\n",
              "      <th>Shops_1</th>\n",
              "      <th>Shops_2</th>\n",
              "      <th>Price</th>\n",
              "      <th>Square_tuned</th>\n",
              "    </tr>\n",
              "  </thead>\n",
              "  <tbody>\n",
              "    <tr>\n",
              "      <th>0</th>\n",
              "      <td>11809</td>\n",
              "      <td>27</td>\n",
              "      <td>3.0</td>\n",
              "      <td>115.027311</td>\n",
              "      <td>NaN</td>\n",
              "      <td>10.0</td>\n",
              "      <td>4</td>\n",
              "      <td>10.0</td>\n",
              "      <td>2014</td>\n",
              "      <td>0.075424</td>\n",
              "      <td>B</td>\n",
              "      <td>B</td>\n",
              "      <td>11</td>\n",
              "      <td>3097</td>\n",
              "      <td>0</td>\n",
              "      <td>NaN</td>\n",
              "      <td>0</td>\n",
              "      <td>0</td>\n",
              "      <td>B</td>\n",
              "      <td>305018.871089</td>\n",
              "      <td>NaN</td>\n",
              "    </tr>\n",
              "  </tbody>\n",
              "</table>\n",
              "</div>\n",
              "      <button class=\"colab-df-convert\" onclick=\"convertToInteractive('df-d7023ba4-9d55-4051-9b5f-b87f8562452a')\"\n",
              "              title=\"Convert this dataframe to an interactive table.\"\n",
              "              style=\"display:none;\">\n",
              "        \n",
              "  <svg xmlns=\"http://www.w3.org/2000/svg\" height=\"24px\"viewBox=\"0 0 24 24\"\n",
              "       width=\"24px\">\n",
              "    <path d=\"M0 0h24v24H0V0z\" fill=\"none\"/>\n",
              "    <path d=\"M18.56 5.44l.94 2.06.94-2.06 2.06-.94-2.06-.94-.94-2.06-.94 2.06-2.06.94zm-11 1L8.5 8.5l.94-2.06 2.06-.94-2.06-.94L8.5 2.5l-.94 2.06-2.06.94zm10 10l.94 2.06.94-2.06 2.06-.94-2.06-.94-.94-2.06-.94 2.06-2.06.94z\"/><path d=\"M17.41 7.96l-1.37-1.37c-.4-.4-.92-.59-1.43-.59-.52 0-1.04.2-1.43.59L10.3 9.45l-7.72 7.72c-.78.78-.78 2.05 0 2.83L4 21.41c.39.39.9.59 1.41.59.51 0 1.02-.2 1.41-.59l7.78-7.78 2.81-2.81c.8-.78.8-2.07 0-2.86zM5.41 20L4 18.59l7.72-7.72 1.47 1.35L5.41 20z\"/>\n",
              "  </svg>\n",
              "      </button>\n",
              "      \n",
              "  <style>\n",
              "    .colab-df-container {\n",
              "      display:flex;\n",
              "      flex-wrap:wrap;\n",
              "      gap: 12px;\n",
              "    }\n",
              "\n",
              "    .colab-df-convert {\n",
              "      background-color: #E8F0FE;\n",
              "      border: none;\n",
              "      border-radius: 50%;\n",
              "      cursor: pointer;\n",
              "      display: none;\n",
              "      fill: #1967D2;\n",
              "      height: 32px;\n",
              "      padding: 0 0 0 0;\n",
              "      width: 32px;\n",
              "    }\n",
              "\n",
              "    .colab-df-convert:hover {\n",
              "      background-color: #E2EBFA;\n",
              "      box-shadow: 0px 1px 2px rgba(60, 64, 67, 0.3), 0px 1px 3px 1px rgba(60, 64, 67, 0.15);\n",
              "      fill: #174EA6;\n",
              "    }\n",
              "\n",
              "    [theme=dark] .colab-df-convert {\n",
              "      background-color: #3B4455;\n",
              "      fill: #D2E3FC;\n",
              "    }\n",
              "\n",
              "    [theme=dark] .colab-df-convert:hover {\n",
              "      background-color: #434B5C;\n",
              "      box-shadow: 0px 1px 3px 1px rgba(0, 0, 0, 0.15);\n",
              "      filter: drop-shadow(0px 1px 2px rgba(0, 0, 0, 0.3));\n",
              "      fill: #FFFFFF;\n",
              "    }\n",
              "  </style>\n",
              "\n",
              "      <script>\n",
              "        const buttonEl =\n",
              "          document.querySelector('#df-d7023ba4-9d55-4051-9b5f-b87f8562452a button.colab-df-convert');\n",
              "        buttonEl.style.display =\n",
              "          google.colab.kernel.accessAllowed ? 'block' : 'none';\n",
              "\n",
              "        async function convertToInteractive(key) {\n",
              "          const element = document.querySelector('#df-d7023ba4-9d55-4051-9b5f-b87f8562452a');\n",
              "          const dataTable =\n",
              "            await google.colab.kernel.invokeFunction('convertToInteractive',\n",
              "                                                     [key], {});\n",
              "          if (!dataTable) return;\n",
              "\n",
              "          const docLinkHtml = 'Like what you see? Visit the ' +\n",
              "            '<a target=\"_blank\" href=https://colab.research.google.com/notebooks/data_table.ipynb>data table notebook</a>'\n",
              "            + ' to learn more about interactive tables.';\n",
              "          element.innerHTML = '';\n",
              "          dataTable['output_type'] = 'display_data';\n",
              "          await google.colab.output.renderOutput(dataTable, element);\n",
              "          const docLink = document.createElement('div');\n",
              "          docLink.innerHTML = docLinkHtml;\n",
              "          element.appendChild(docLink);\n",
              "        }\n",
              "      </script>\n",
              "    </div>\n",
              "  </div>\n",
              "  "
            ],
            "text/plain": [
              "      Id  DistrictId  Rooms  ...  Shops_2          Price  Square_tuned\n",
              "0  11809          27    3.0  ...        B  305018.871089           NaN\n",
              "\n",
              "[1 rows x 21 columns]"
            ]
          },
          "metadata": {},
          "execution_count": 421
        }
      ]
    },
    {
      "cell_type": "code",
      "source": [
        "# df_train.iloc[[9960]]"
      ],
      "metadata": {
        "colab": {
          "base_uri": "https://localhost:8080/",
          "height": 81
        },
        "id": "By61EAvhyOAY",
        "outputId": "8c6b12bc-5c76-40f1-e440-f23d3e7eed1c"
      },
      "execution_count": null,
      "outputs": [
        {
          "output_type": "execute_result",
          "data": {
            "text/html": [
              "\n",
              "  <div id=\"df-977bd374-d484-4504-89a3-141d5cc74898\">\n",
              "    <div class=\"colab-df-container\">\n",
              "      <div>\n",
              "<style scoped>\n",
              "    .dataframe tbody tr th:only-of-type {\n",
              "        vertical-align: middle;\n",
              "    }\n",
              "\n",
              "    .dataframe tbody tr th {\n",
              "        vertical-align: top;\n",
              "    }\n",
              "\n",
              "    .dataframe thead th {\n",
              "        text-align: right;\n",
              "    }\n",
              "</style>\n",
              "<table border=\"1\" class=\"dataframe\">\n",
              "  <thead>\n",
              "    <tr style=\"text-align: right;\">\n",
              "      <th></th>\n",
              "      <th>Id</th>\n",
              "      <th>DistrictId</th>\n",
              "      <th>Rooms</th>\n",
              "      <th>Square</th>\n",
              "      <th>LifeSquare</th>\n",
              "      <th>KitchenSquare</th>\n",
              "      <th>Floor</th>\n",
              "      <th>HouseFloor</th>\n",
              "      <th>HouseYear</th>\n",
              "      <th>Ecology_1</th>\n",
              "      <th>Ecology_2</th>\n",
              "      <th>Ecology_3</th>\n",
              "      <th>Social_1</th>\n",
              "      <th>Social_2</th>\n",
              "      <th>Social_3</th>\n",
              "      <th>Healthcare_1</th>\n",
              "      <th>Helthcare_2</th>\n",
              "      <th>Shops_1</th>\n",
              "      <th>Shops_2</th>\n",
              "      <th>Price</th>\n",
              "      <th>Square_tuned</th>\n",
              "    </tr>\n",
              "  </thead>\n",
              "  <tbody>\n",
              "    <tr>\n",
              "      <th>9960</th>\n",
              "      <td>16258</td>\n",
              "      <td>48</td>\n",
              "      <td>3.0</td>\n",
              "      <td>99.152802</td>\n",
              "      <td>98.152802</td>\n",
              "      <td>1.0</td>\n",
              "      <td>15</td>\n",
              "      <td>1.0</td>\n",
              "      <td>2017</td>\n",
              "      <td>0.041125</td>\n",
              "      <td>B</td>\n",
              "      <td>B</td>\n",
              "      <td>46</td>\n",
              "      <td>9515</td>\n",
              "      <td>5</td>\n",
              "      <td>NaN</td>\n",
              "      <td>1</td>\n",
              "      <td>10</td>\n",
              "      <td>B</td>\n",
              "      <td>524365.550705</td>\n",
              "      <td>99.152802</td>\n",
              "    </tr>\n",
              "  </tbody>\n",
              "</table>\n",
              "</div>\n",
              "      <button class=\"colab-df-convert\" onclick=\"convertToInteractive('df-977bd374-d484-4504-89a3-141d5cc74898')\"\n",
              "              title=\"Convert this dataframe to an interactive table.\"\n",
              "              style=\"display:none;\">\n",
              "        \n",
              "  <svg xmlns=\"http://www.w3.org/2000/svg\" height=\"24px\"viewBox=\"0 0 24 24\"\n",
              "       width=\"24px\">\n",
              "    <path d=\"M0 0h24v24H0V0z\" fill=\"none\"/>\n",
              "    <path d=\"M18.56 5.44l.94 2.06.94-2.06 2.06-.94-2.06-.94-.94-2.06-.94 2.06-2.06.94zm-11 1L8.5 8.5l.94-2.06 2.06-.94-2.06-.94L8.5 2.5l-.94 2.06-2.06.94zm10 10l.94 2.06.94-2.06 2.06-.94-2.06-.94-.94-2.06-.94 2.06-2.06.94z\"/><path d=\"M17.41 7.96l-1.37-1.37c-.4-.4-.92-.59-1.43-.59-.52 0-1.04.2-1.43.59L10.3 9.45l-7.72 7.72c-.78.78-.78 2.05 0 2.83L4 21.41c.39.39.9.59 1.41.59.51 0 1.02-.2 1.41-.59l7.78-7.78 2.81-2.81c.8-.78.8-2.07 0-2.86zM5.41 20L4 18.59l7.72-7.72 1.47 1.35L5.41 20z\"/>\n",
              "  </svg>\n",
              "      </button>\n",
              "      \n",
              "  <style>\n",
              "    .colab-df-container {\n",
              "      display:flex;\n",
              "      flex-wrap:wrap;\n",
              "      gap: 12px;\n",
              "    }\n",
              "\n",
              "    .colab-df-convert {\n",
              "      background-color: #E8F0FE;\n",
              "      border: none;\n",
              "      border-radius: 50%;\n",
              "      cursor: pointer;\n",
              "      display: none;\n",
              "      fill: #1967D2;\n",
              "      height: 32px;\n",
              "      padding: 0 0 0 0;\n",
              "      width: 32px;\n",
              "    }\n",
              "\n",
              "    .colab-df-convert:hover {\n",
              "      background-color: #E2EBFA;\n",
              "      box-shadow: 0px 1px 2px rgba(60, 64, 67, 0.3), 0px 1px 3px 1px rgba(60, 64, 67, 0.15);\n",
              "      fill: #174EA6;\n",
              "    }\n",
              "\n",
              "    [theme=dark] .colab-df-convert {\n",
              "      background-color: #3B4455;\n",
              "      fill: #D2E3FC;\n",
              "    }\n",
              "\n",
              "    [theme=dark] .colab-df-convert:hover {\n",
              "      background-color: #434B5C;\n",
              "      box-shadow: 0px 1px 3px 1px rgba(0, 0, 0, 0.15);\n",
              "      filter: drop-shadow(0px 1px 2px rgba(0, 0, 0, 0.3));\n",
              "      fill: #FFFFFF;\n",
              "    }\n",
              "  </style>\n",
              "\n",
              "      <script>\n",
              "        const buttonEl =\n",
              "          document.querySelector('#df-977bd374-d484-4504-89a3-141d5cc74898 button.colab-df-convert');\n",
              "        buttonEl.style.display =\n",
              "          google.colab.kernel.accessAllowed ? 'block' : 'none';\n",
              "\n",
              "        async function convertToInteractive(key) {\n",
              "          const element = document.querySelector('#df-977bd374-d484-4504-89a3-141d5cc74898');\n",
              "          const dataTable =\n",
              "            await google.colab.kernel.invokeFunction('convertToInteractive',\n",
              "                                                     [key], {});\n",
              "          if (!dataTable) return;\n",
              "\n",
              "          const docLinkHtml = 'Like what you see? Visit the ' +\n",
              "            '<a target=\"_blank\" href=https://colab.research.google.com/notebooks/data_table.ipynb>data table notebook</a>'\n",
              "            + ' to learn more about interactive tables.';\n",
              "          element.innerHTML = '';\n",
              "          dataTable['output_type'] = 'display_data';\n",
              "          await google.colab.output.renderOutput(dataTable, element);\n",
              "          const docLink = document.createElement('div');\n",
              "          docLink.innerHTML = docLinkHtml;\n",
              "          element.appendChild(docLink);\n",
              "        }\n",
              "      </script>\n",
              "    </div>\n",
              "  </div>\n",
              "  "
            ],
            "text/plain": [
              "         Id  DistrictId  Rooms  ...  Shops_2          Price  Square_tuned\n",
              "9960  16258          48    3.0  ...        B  524365.550705     99.152802\n",
              "\n",
              "[1 rows x 21 columns]"
            ]
          },
          "metadata": {},
          "execution_count": 419
        }
      ]
    },
    {
      "cell_type": "code",
      "source": [
        "# df_train['Square_tuned'].isnull()"
      ],
      "metadata": {
        "colab": {
          "base_uri": "https://localhost:8080/"
        },
        "id": "DPYU5AFtyjRI",
        "outputId": "e2bf1a1f-f2ba-40cb-8b70-bf04f447845e"
      },
      "execution_count": null,
      "outputs": [
        {
          "output_type": "execute_result",
          "data": {
            "text/plain": [
              "0        True\n",
              "1       False\n",
              "2       False\n",
              "3        True\n",
              "4       False\n",
              "        ...  \n",
              "9995    False\n",
              "9996    False\n",
              "9997    False\n",
              "9998    False\n",
              "9999    False\n",
              "Name: Square_tuned, Length: 10000, dtype: bool"
            ]
          },
          "metadata": {},
          "execution_count": 416
        }
      ]
    },
    {
      "cell_type": "code",
      "source": [
        "# df_train['Square'].isnull()"
      ],
      "metadata": {
        "colab": {
          "base_uri": "https://localhost:8080/"
        },
        "id": "m8hf6XbEzNxN",
        "outputId": "4779d304-9d94-4ce5-d748-d8b2bcaa64f0"
      },
      "execution_count": null,
      "outputs": [
        {
          "output_type": "execute_result",
          "data": {
            "text/plain": [
              "0       False\n",
              "1       False\n",
              "2       False\n",
              "3       False\n",
              "4       False\n",
              "        ...  \n",
              "9995    False\n",
              "9996    False\n",
              "9997    False\n",
              "9998    False\n",
              "9999    False\n",
              "Name: Square, Length: 10000, dtype: bool"
            ]
          },
          "metadata": {},
          "execution_count": 420
        }
      ]
    },
    {
      "cell_type": "code",
      "source": [
        "# df_train.loc[query_life_square, 'Square'] = df_train['LifeSquare']"
      ],
      "metadata": {
        "id": "Ygjg_qhDvClv"
      },
      "execution_count": null,
      "outputs": []
    },
    {
      "cell_type": "code",
      "source": [
        "# df_train.corr()['Price'][['Square', 'LifeSquare', 'KitchenSquare']]"
      ],
      "metadata": {
        "colab": {
          "base_uri": "https://localhost:8080/"
        },
        "id": "t2wi6j_iv-La",
        "outputId": "447b2eb0-fb53-4a11-91b4-9c98a0657869"
      },
      "execution_count": null,
      "outputs": [
        {
          "output_type": "execute_result",
          "data": {
            "text/plain": [
              "Square           0.520075\n",
              "LifeSquare       0.081292\n",
              "KitchenSquare    0.028864\n",
              "Name: Price, dtype: float64"
            ]
          },
          "metadata": {},
          "execution_count": 410
        }
      ]
    },
    {
      "cell_type": "code",
      "source": [
        "# df_train.loc[df_train['Id'] == 847]"
      ],
      "metadata": {
        "colab": {
          "base_uri": "https://localhost:8080/",
          "height": 81
        },
        "id": "3gbHgTDOwCAb",
        "outputId": "dbd94184-f5b3-4146-f1de-d12f767c41e7"
      },
      "execution_count": null,
      "outputs": [
        {
          "output_type": "execute_result",
          "data": {
            "text/html": [
              "\n",
              "  <div id=\"df-6a64426e-f57a-49eb-b4b3-3c2050f72a08\">\n",
              "    <div class=\"colab-df-container\">\n",
              "      <div>\n",
              "<style scoped>\n",
              "    .dataframe tbody tr th:only-of-type {\n",
              "        vertical-align: middle;\n",
              "    }\n",
              "\n",
              "    .dataframe tbody tr th {\n",
              "        vertical-align: top;\n",
              "    }\n",
              "\n",
              "    .dataframe thead th {\n",
              "        text-align: right;\n",
              "    }\n",
              "</style>\n",
              "<table border=\"1\" class=\"dataframe\">\n",
              "  <thead>\n",
              "    <tr style=\"text-align: right;\">\n",
              "      <th></th>\n",
              "      <th>Id</th>\n",
              "      <th>DistrictId</th>\n",
              "      <th>Rooms</th>\n",
              "      <th>Square</th>\n",
              "      <th>LifeSquare</th>\n",
              "      <th>KitchenSquare</th>\n",
              "      <th>Floor</th>\n",
              "      <th>HouseFloor</th>\n",
              "      <th>HouseYear</th>\n",
              "      <th>Ecology_1</th>\n",
              "      <th>Ecology_2</th>\n",
              "      <th>Ecology_3</th>\n",
              "      <th>Social_1</th>\n",
              "      <th>Social_2</th>\n",
              "      <th>Social_3</th>\n",
              "      <th>Healthcare_1</th>\n",
              "      <th>Helthcare_2</th>\n",
              "      <th>Shops_1</th>\n",
              "      <th>Shops_2</th>\n",
              "      <th>Price</th>\n",
              "    </tr>\n",
              "  </thead>\n",
              "  <tbody>\n",
              "    <tr>\n",
              "      <th>33</th>\n",
              "      <td>847</td>\n",
              "      <td>74</td>\n",
              "      <td>2.0</td>\n",
              "      <td>74.131261</td>\n",
              "      <td>74.131261</td>\n",
              "      <td>3.0</td>\n",
              "      <td>7</td>\n",
              "      <td>6.0</td>\n",
              "      <td>1977</td>\n",
              "      <td>0.075779</td>\n",
              "      <td>B</td>\n",
              "      <td>B</td>\n",
              "      <td>6</td>\n",
              "      <td>1437</td>\n",
              "      <td>3</td>\n",
              "      <td>NaN</td>\n",
              "      <td>0</td>\n",
              "      <td>2</td>\n",
              "      <td>B</td>\n",
              "      <td>254005.381863</td>\n",
              "    </tr>\n",
              "  </tbody>\n",
              "</table>\n",
              "</div>\n",
              "      <button class=\"colab-df-convert\" onclick=\"convertToInteractive('df-6a64426e-f57a-49eb-b4b3-3c2050f72a08')\"\n",
              "              title=\"Convert this dataframe to an interactive table.\"\n",
              "              style=\"display:none;\">\n",
              "        \n",
              "  <svg xmlns=\"http://www.w3.org/2000/svg\" height=\"24px\"viewBox=\"0 0 24 24\"\n",
              "       width=\"24px\">\n",
              "    <path d=\"M0 0h24v24H0V0z\" fill=\"none\"/>\n",
              "    <path d=\"M18.56 5.44l.94 2.06.94-2.06 2.06-.94-2.06-.94-.94-2.06-.94 2.06-2.06.94zm-11 1L8.5 8.5l.94-2.06 2.06-.94-2.06-.94L8.5 2.5l-.94 2.06-2.06.94zm10 10l.94 2.06.94-2.06 2.06-.94-2.06-.94-.94-2.06-.94 2.06-2.06.94z\"/><path d=\"M17.41 7.96l-1.37-1.37c-.4-.4-.92-.59-1.43-.59-.52 0-1.04.2-1.43.59L10.3 9.45l-7.72 7.72c-.78.78-.78 2.05 0 2.83L4 21.41c.39.39.9.59 1.41.59.51 0 1.02-.2 1.41-.59l7.78-7.78 2.81-2.81c.8-.78.8-2.07 0-2.86zM5.41 20L4 18.59l7.72-7.72 1.47 1.35L5.41 20z\"/>\n",
              "  </svg>\n",
              "      </button>\n",
              "      \n",
              "  <style>\n",
              "    .colab-df-container {\n",
              "      display:flex;\n",
              "      flex-wrap:wrap;\n",
              "      gap: 12px;\n",
              "    }\n",
              "\n",
              "    .colab-df-convert {\n",
              "      background-color: #E8F0FE;\n",
              "      border: none;\n",
              "      border-radius: 50%;\n",
              "      cursor: pointer;\n",
              "      display: none;\n",
              "      fill: #1967D2;\n",
              "      height: 32px;\n",
              "      padding: 0 0 0 0;\n",
              "      width: 32px;\n",
              "    }\n",
              "\n",
              "    .colab-df-convert:hover {\n",
              "      background-color: #E2EBFA;\n",
              "      box-shadow: 0px 1px 2px rgba(60, 64, 67, 0.3), 0px 1px 3px 1px rgba(60, 64, 67, 0.15);\n",
              "      fill: #174EA6;\n",
              "    }\n",
              "\n",
              "    [theme=dark] .colab-df-convert {\n",
              "      background-color: #3B4455;\n",
              "      fill: #D2E3FC;\n",
              "    }\n",
              "\n",
              "    [theme=dark] .colab-df-convert:hover {\n",
              "      background-color: #434B5C;\n",
              "      box-shadow: 0px 1px 3px 1px rgba(0, 0, 0, 0.15);\n",
              "      filter: drop-shadow(0px 1px 2px rgba(0, 0, 0, 0.3));\n",
              "      fill: #FFFFFF;\n",
              "    }\n",
              "  </style>\n",
              "\n",
              "      <script>\n",
              "        const buttonEl =\n",
              "          document.querySelector('#df-6a64426e-f57a-49eb-b4b3-3c2050f72a08 button.colab-df-convert');\n",
              "        buttonEl.style.display =\n",
              "          google.colab.kernel.accessAllowed ? 'block' : 'none';\n",
              "\n",
              "        async function convertToInteractive(key) {\n",
              "          const element = document.querySelector('#df-6a64426e-f57a-49eb-b4b3-3c2050f72a08');\n",
              "          const dataTable =\n",
              "            await google.colab.kernel.invokeFunction('convertToInteractive',\n",
              "                                                     [key], {});\n",
              "          if (!dataTable) return;\n",
              "\n",
              "          const docLinkHtml = 'Like what you see? Visit the ' +\n",
              "            '<a target=\"_blank\" href=https://colab.research.google.com/notebooks/data_table.ipynb>data table notebook</a>'\n",
              "            + ' to learn more about interactive tables.';\n",
              "          element.innerHTML = '';\n",
              "          dataTable['output_type'] = 'display_data';\n",
              "          await google.colab.output.renderOutput(dataTable, element);\n",
              "          const docLink = document.createElement('div');\n",
              "          docLink.innerHTML = docLinkHtml;\n",
              "          element.appendChild(docLink);\n",
              "        }\n",
              "      </script>\n",
              "    </div>\n",
              "  </div>\n",
              "  "
            ],
            "text/plain": [
              "     Id  DistrictId  Rooms  ...  Shops_1  Shops_2          Price\n",
              "33  847          74    2.0  ...        2        B  254005.381863\n",
              "\n",
              "[1 rows x 20 columns]"
            ]
          },
          "metadata": {},
          "execution_count": 403
        }
      ]
    },
    {
      "cell_type": "code",
      "source": [
        "# df_train.corr()['Price'][['Square', 'LifeSquare', 'KitchenSquare', 'Square_tuned']]"
      ],
      "metadata": {
        "colab": {
          "base_uri": "https://localhost:8080/"
        },
        "id": "wvG8Pjwju008",
        "outputId": "5ec20514-7334-499f-cc65-82e4eb3a5e2d"
      },
      "execution_count": null,
      "outputs": [
        {
          "output_type": "execute_result",
          "data": {
            "text/plain": [
              "Square           0.128135\n",
              "LifeSquare       0.081292\n",
              "KitchenSquare    0.028864\n",
              "Square_tuned     0.080635\n",
              "Name: Price, dtype: float64"
            ]
          },
          "metadata": {},
          "execution_count": 422
        }
      ]
    },
    {
      "cell_type": "markdown",
      "source": [
        "### Floor, HouseFloor"
      ],
      "metadata": {
        "id": "Z4nz34RQ6Ljk"
      }
    },
    {
      "cell_type": "code",
      "source": [
        "# df_train['HouseFloor'].hist(figsize=(4, 4), bins=30, log=True)\n",
        "# plt.title('HouseFloor')\n",
        "# plt.xlabel('floor')"
      ],
      "metadata": {
        "id": "qYnVXONvEGtf"
      },
      "execution_count": null,
      "outputs": []
    },
    {
      "cell_type": "code",
      "source": [
        "plt.figure(figsize=(4, 4))\n",
        "sns.boxplot(df_train['HouseFloor'], whis=1.5, orient='h')"
      ],
      "metadata": {
        "colab": {
          "base_uri": "https://localhost:8080/",
          "height": 306
        },
        "id": "EeNUdt20GqMU",
        "outputId": "4628d170-a053-4f86-ccd5-463b8c2cd797"
      },
      "execution_count": null,
      "outputs": [
        {
          "output_type": "execute_result",
          "data": {
            "text/plain": [
              "<matplotlib.axes._subplots.AxesSubplot at 0x7f464263d450>"
            ]
          },
          "metadata": {},
          "execution_count": 307
        },
        {
          "output_type": "display_data",
          "data": {
            "image/png": "[encoded data removed]",
            "text/plain": [
              "<Figure size 288x288 with 1 Axes>"
            ]
          },
          "metadata": {
            "needs_background": "light"
          }
        }
      ]
    },
    {
      "cell_type": "code",
      "source": [
        "(df_train['HouseFloor'] == 0).sum()"
      ],
      "metadata": {
        "colab": {
          "base_uri": "https://localhost:8080/"
        },
        "id": "oI1Zw_aWAS0_",
        "outputId": "b2caa506-57a4-454c-8ced-68b27d04955b"
      },
      "execution_count": null,
      "outputs": [
        {
          "output_type": "execute_result",
          "data": {
            "text/plain": [
              "269"
            ]
          },
          "metadata": {},
          "execution_count": 306
        }
      ]
    },
    {
      "cell_type": "code",
      "source": [
        "(df_train['HouseFloor'] > 75).sum()"
      ],
      "metadata": {
        "colab": {
          "base_uri": "https://localhost:8080/"
        },
        "id": "igVgiof9RLI3",
        "outputId": "99b24bf3-8f11-4352-ca03-930656cd7a14"
      },
      "execution_count": null,
      "outputs": [
        {
          "output_type": "execute_result",
          "data": {
            "text/plain": [
              "3"
            ]
          },
          "metadata": {},
          "execution_count": 308
        }
      ]
    },
    {
      "cell_type": "markdown",
      "source": [
        "У нас есть 269 значений, где нумерация этажности дома начинается с нуля. А также 3 значения высоты дома значительно отклоняется от среднего."
      ],
      "metadata": {
        "id": "s1RTHHPdGZmY"
      }
    },
    {
      "cell_type": "code",
      "source": [
        "df_train[df_train['HouseFloor'] > 75]"
      ],
      "metadata": {
        "colab": {
          "base_uri": "https://localhost:8080/",
          "height": 143
        },
        "id": "_5uvQ3jdQ9A4",
        "outputId": "7b37f131-a6ce-4d3a-f061-6987f6d8df56"
      },
      "execution_count": null,
      "outputs": [
        {
          "output_type": "execute_result",
          "data": {
            "text/html": [
              "\n",
              "  <div id=\"df-a3582a32-97ce-4ad8-addb-1881816e022f\">\n",
              "    <div class=\"colab-df-container\">\n",
              "      <div>\n",
              "<style scoped>\n",
              "    .dataframe tbody tr th:only-of-type {\n",
              "        vertical-align: middle;\n",
              "    }\n",
              "\n",
              "    .dataframe tbody tr th {\n",
              "        vertical-align: top;\n",
              "    }\n",
              "\n",
              "    .dataframe thead th {\n",
              "        text-align: right;\n",
              "    }\n",
              "</style>\n",
              "<table border=\"1\" class=\"dataframe\">\n",
              "  <thead>\n",
              "    <tr style=\"text-align: right;\">\n",
              "      <th></th>\n",
              "      <th>Id</th>\n",
              "      <th>DistrictId</th>\n",
              "      <th>Rooms</th>\n",
              "      <th>Square</th>\n",
              "      <th>LifeSquare</th>\n",
              "      <th>KitchenSquare</th>\n",
              "      <th>Floor</th>\n",
              "      <th>HouseFloor</th>\n",
              "      <th>HouseYear</th>\n",
              "      <th>Ecology_1</th>\n",
              "      <th>Ecology_2</th>\n",
              "      <th>Ecology_3</th>\n",
              "      <th>Social_1</th>\n",
              "      <th>Social_2</th>\n",
              "      <th>Social_3</th>\n",
              "      <th>Healthcare_1</th>\n",
              "      <th>Helthcare_2</th>\n",
              "      <th>Shops_1</th>\n",
              "      <th>Shops_2</th>\n",
              "      <th>Price</th>\n",
              "    </tr>\n",
              "  </thead>\n",
              "  <tbody>\n",
              "    <tr>\n",
              "      <th>746</th>\n",
              "      <td>9300</td>\n",
              "      <td>74</td>\n",
              "      <td>2.0</td>\n",
              "      <td>71.747869</td>\n",
              "      <td>74.579809</td>\n",
              "      <td>9.0</td>\n",
              "      <td>5</td>\n",
              "      <td>99.0</td>\n",
              "      <td>1977</td>\n",
              "      <td>0.075779</td>\n",
              "      <td>B</td>\n",
              "      <td>B</td>\n",
              "      <td>6</td>\n",
              "      <td>1437</td>\n",
              "      <td>3</td>\n",
              "      <td>NaN</td>\n",
              "      <td>0</td>\n",
              "      <td>2</td>\n",
              "      <td>B</td>\n",
              "      <td>243329.912579</td>\n",
              "    </tr>\n",
              "    <tr>\n",
              "      <th>1678</th>\n",
              "      <td>78</td>\n",
              "      <td>30</td>\n",
              "      <td>2.0</td>\n",
              "      <td>65.773749</td>\n",
              "      <td>66.811789</td>\n",
              "      <td>1.0</td>\n",
              "      <td>8</td>\n",
              "      <td>117.0</td>\n",
              "      <td>1977</td>\n",
              "      <td>0.000078</td>\n",
              "      <td>B</td>\n",
              "      <td>B</td>\n",
              "      <td>22</td>\n",
              "      <td>6398</td>\n",
              "      <td>141</td>\n",
              "      <td>1046.0</td>\n",
              "      <td>3</td>\n",
              "      <td>23</td>\n",
              "      <td>B</td>\n",
              "      <td>207248.370520</td>\n",
              "    </tr>\n",
              "    <tr>\n",
              "      <th>4657</th>\n",
              "      <td>10806</td>\n",
              "      <td>5</td>\n",
              "      <td>1.0</td>\n",
              "      <td>51.944587</td>\n",
              "      <td>48.709601</td>\n",
              "      <td>1.0</td>\n",
              "      <td>6</td>\n",
              "      <td>99.0</td>\n",
              "      <td>1977</td>\n",
              "      <td>0.150818</td>\n",
              "      <td>B</td>\n",
              "      <td>B</td>\n",
              "      <td>16</td>\n",
              "      <td>3433</td>\n",
              "      <td>4</td>\n",
              "      <td>2643.0</td>\n",
              "      <td>4</td>\n",
              "      <td>5</td>\n",
              "      <td>B</td>\n",
              "      <td>296127.115515</td>\n",
              "    </tr>\n",
              "  </tbody>\n",
              "</table>\n",
              "</div>\n",
              "      <button class=\"colab-df-convert\" onclick=\"convertToInteractive('df-a3582a32-97ce-4ad8-addb-1881816e022f')\"\n",
              "              title=\"Convert this dataframe to an interactive table.\"\n",
              "              style=\"display:none;\">\n",
              "        \n",
              "  <svg xmlns=\"http://www.w3.org/2000/svg\" height=\"24px\"viewBox=\"0 0 24 24\"\n",
              "       width=\"24px\">\n",
              "    <path d=\"M0 0h24v24H0V0z\" fill=\"none\"/>\n",
              "    <path d=\"M18.56 5.44l.94 2.06.94-2.06 2.06-.94-2.06-.94-.94-2.06-.94 2.06-2.06.94zm-11 1L8.5 8.5l.94-2.06 2.06-.94-2.06-.94L8.5 2.5l-.94 2.06-2.06.94zm10 10l.94 2.06.94-2.06 2.06-.94-2.06-.94-.94-2.06-.94 2.06-2.06.94z\"/><path d=\"M17.41 7.96l-1.37-1.37c-.4-.4-.92-.59-1.43-.59-.52 0-1.04.2-1.43.59L10.3 9.45l-7.72 7.72c-.78.78-.78 2.05 0 2.83L4 21.41c.39.39.9.59 1.41.59.51 0 1.02-.2 1.41-.59l7.78-7.78 2.81-2.81c.8-.78.8-2.07 0-2.86zM5.41 20L4 18.59l7.72-7.72 1.47 1.35L5.41 20z\"/>\n",
              "  </svg>\n",
              "      </button>\n",
              "      \n",
              "  <style>\n",
              "    .colab-df-container {\n",
              "      display:flex;\n",
              "      flex-wrap:wrap;\n",
              "      gap: 12px;\n",
              "    }\n",
              "\n",
              "    .colab-df-convert {\n",
              "      background-color: #E8F0FE;\n",
              "      border: none;\n",
              "      border-radius: 50%;\n",
              "      cursor: pointer;\n",
              "      display: none;\n",
              "      fill: #1967D2;\n",
              "      height: 32px;\n",
              "      padding: 0 0 0 0;\n",
              "      width: 32px;\n",
              "    }\n",
              "\n",
              "    .colab-df-convert:hover {\n",
              "      background-color: #E2EBFA;\n",
              "      box-shadow: 0px 1px 2px rgba(60, 64, 67, 0.3), 0px 1px 3px 1px rgba(60, 64, 67, 0.15);\n",
              "      fill: #174EA6;\n",
              "    }\n",
              "\n",
              "    [theme=dark] .colab-df-convert {\n",
              "      background-color: #3B4455;\n",
              "      fill: #D2E3FC;\n",
              "    }\n",
              "\n",
              "    [theme=dark] .colab-df-convert:hover {\n",
              "      background-color: #434B5C;\n",
              "      box-shadow: 0px 1px 3px 1px rgba(0, 0, 0, 0.15);\n",
              "      filter: drop-shadow(0px 1px 2px rgba(0, 0, 0, 0.3));\n",
              "      fill: #FFFFFF;\n",
              "    }\n",
              "  </style>\n",
              "\n",
              "      <script>\n",
              "        const buttonEl =\n",
              "          document.querySelector('#df-a3582a32-97ce-4ad8-addb-1881816e022f button.colab-df-convert');\n",
              "        buttonEl.style.display =\n",
              "          google.colab.kernel.accessAllowed ? 'block' : 'none';\n",
              "\n",
              "        async function convertToInteractive(key) {\n",
              "          const element = document.querySelector('#df-a3582a32-97ce-4ad8-addb-1881816e022f');\n",
              "          const dataTable =\n",
              "            await google.colab.kernel.invokeFunction('convertToInteractive',\n",
              "                                                     [key], {});\n",
              "          if (!dataTable) return;\n",
              "\n",
              "          const docLinkHtml = 'Like what you see? Visit the ' +\n",
              "            '<a target=\"_blank\" href=https://colab.research.google.com/notebooks/data_table.ipynb>data table notebook</a>'\n",
              "            + ' to learn more about interactive tables.';\n",
              "          element.innerHTML = '';\n",
              "          dataTable['output_type'] = 'display_data';\n",
              "          await google.colab.output.renderOutput(dataTable, element);\n",
              "          const docLink = document.createElement('div');\n",
              "          docLink.innerHTML = docLinkHtml;\n",
              "          element.appendChild(docLink);\n",
              "        }\n",
              "      </script>\n",
              "    </div>\n",
              "  </div>\n",
              "  "
            ],
            "text/plain": [
              "         Id  DistrictId  Rooms  ...  Shops_1  Shops_2          Price\n",
              "746    9300          74    2.0  ...        2        B  243329.912579\n",
              "1678     78          30    2.0  ...       23        B  207248.370520\n",
              "4657  10806           5    1.0  ...        5        B  296127.115515\n",
              "\n",
              "[3 rows x 20 columns]"
            ]
          },
          "metadata": {},
          "execution_count": 309
        }
      ]
    },
    {
      "cell_type": "code",
      "source": [
        "# house_floor_mean = df_train['HouseFloor'].mean()\n",
        "# house_floor_median = df_train['HouseFloor'].median()\n",
        "# house_floor_mode = df_train['HouseFloor'].mode()[0]"
      ],
      "metadata": {
        "id": "OdSacu0kTEsd"
      },
      "execution_count": null,
      "outputs": []
    },
    {
      "cell_type": "code",
      "source": [
        "# print(f'Среднее значение HouseFloor = {house_floor_mean}')\n",
        "# print(f'Медиана HouseFloor = {house_floor_median}')\n",
        "# print(f'Мода HouseFloor = {house_floor_mode}')"
      ],
      "metadata": {
        "id": "3gDnHwuLIw7L"
      },
      "execution_count": null,
      "outputs": []
    },
    {
      "cell_type": "code",
      "source": [
        "# df_train.loc[df_train['HouseYear'] == 1977, ['HouseFloor']].describe()"
      ],
      "metadata": {
        "id": "nIpSWXiFJK-v"
      },
      "execution_count": null,
      "outputs": []
    },
    {
      "cell_type": "markdown",
      "source": [
        "Отметим, что все здания с завышенным значением этажности были построены в 1977. Найдём моду по этажности домов за 1977 год без учёта выбросов. В принципе, она совпадает с самым часто встречающимся значением этажности за все года."
      ],
      "metadata": {
        "id": "61It1VNaVV3Q"
      }
    },
    {
      "cell_type": "code",
      "source": [
        "query_house_floor = (df_train['HouseYear'] == 1977) & (df_train['HouseFloor'] < 75)\n",
        "house_floor_mode_1977 = df_train.loc[query_house_floor, 'HouseFloor'].mode()[0]\n",
        "house_floor_mode_1977"
      ],
      "metadata": {
        "colab": {
          "base_uri": "https://localhost:8080/"
        },
        "id": "n4PYkOZyI71a",
        "outputId": "93a27909-a3a1-4f45-9ca5-0fee9305206a"
      },
      "execution_count": null,
      "outputs": [
        {
          "output_type": "execute_result",
          "data": {
            "text/plain": [
              "17.0"
            ]
          },
          "metadata": {},
          "execution_count": 313
        }
      ]
    },
    {
      "cell_type": "code",
      "source": [
        "df_train.loc[df_train['Floor'] > df_train['HouseFloor']].head()"
      ],
      "metadata": {
        "id": "osy1xmMn92Ar",
        "outputId": "501bfc94-1f22-4601-cd08-7f0773c77f44",
        "colab": {
          "base_uri": "https://localhost:8080/",
          "height": 206
        }
      },
      "execution_count": null,
      "outputs": [
        {
          "output_type": "execute_result",
          "data": {
            "text/html": [
              "\n",
              "  <div id=\"df-f0b93105-3221-4737-977f-b3c7460bfb40\">\n",
              "    <div class=\"colab-df-container\">\n",
              "      <div>\n",
              "<style scoped>\n",
              "    .dataframe tbody tr th:only-of-type {\n",
              "        vertical-align: middle;\n",
              "    }\n",
              "\n",
              "    .dataframe tbody tr th {\n",
              "        vertical-align: top;\n",
              "    }\n",
              "\n",
              "    .dataframe thead th {\n",
              "        text-align: right;\n",
              "    }\n",
              "</style>\n",
              "<table border=\"1\" class=\"dataframe\">\n",
              "  <thead>\n",
              "    <tr style=\"text-align: right;\">\n",
              "      <th></th>\n",
              "      <th>Id</th>\n",
              "      <th>DistrictId</th>\n",
              "      <th>Rooms</th>\n",
              "      <th>Square</th>\n",
              "      <th>LifeSquare</th>\n",
              "      <th>KitchenSquare</th>\n",
              "      <th>Floor</th>\n",
              "      <th>HouseFloor</th>\n",
              "      <th>HouseYear</th>\n",
              "      <th>Ecology_1</th>\n",
              "      <th>Ecology_2</th>\n",
              "      <th>Ecology_3</th>\n",
              "      <th>Social_1</th>\n",
              "      <th>Social_2</th>\n",
              "      <th>Social_3</th>\n",
              "      <th>Healthcare_1</th>\n",
              "      <th>Helthcare_2</th>\n",
              "      <th>Shops_1</th>\n",
              "      <th>Shops_2</th>\n",
              "      <th>Price</th>\n",
              "    </tr>\n",
              "  </thead>\n",
              "  <tbody>\n",
              "    <tr>\n",
              "      <th>17</th>\n",
              "      <td>1190</td>\n",
              "      <td>8</td>\n",
              "      <td>2.0</td>\n",
              "      <td>49.396000</td>\n",
              "      <td>28.299600</td>\n",
              "      <td>5.0</td>\n",
              "      <td>6</td>\n",
              "      <td>5.0</td>\n",
              "      <td>1962</td>\n",
              "      <td>0.458174</td>\n",
              "      <td>B</td>\n",
              "      <td>A</td>\n",
              "      <td>26</td>\n",
              "      <td>4439</td>\n",
              "      <td>1</td>\n",
              "      <td>1130.0</td>\n",
              "      <td>1</td>\n",
              "      <td>5</td>\n",
              "      <td>B</td>\n",
              "      <td>186971.926566</td>\n",
              "    </tr>\n",
              "    <tr>\n",
              "      <th>19</th>\n",
              "      <td>367</td>\n",
              "      <td>45</td>\n",
              "      <td>1.0</td>\n",
              "      <td>42.367289</td>\n",
              "      <td>40.012529</td>\n",
              "      <td>1.0</td>\n",
              "      <td>16</td>\n",
              "      <td>14.0</td>\n",
              "      <td>2015</td>\n",
              "      <td>0.195781</td>\n",
              "      <td>B</td>\n",
              "      <td>B</td>\n",
              "      <td>23</td>\n",
              "      <td>5212</td>\n",
              "      <td>6</td>\n",
              "      <td>NaN</td>\n",
              "      <td>3</td>\n",
              "      <td>2</td>\n",
              "      <td>B</td>\n",
              "      <td>250466.980777</td>\n",
              "    </tr>\n",
              "    <tr>\n",
              "      <th>21</th>\n",
              "      <td>8471</td>\n",
              "      <td>20</td>\n",
              "      <td>3.0</td>\n",
              "      <td>75.611065</td>\n",
              "      <td>47.494621</td>\n",
              "      <td>8.0</td>\n",
              "      <td>11</td>\n",
              "      <td>9.0</td>\n",
              "      <td>1976</td>\n",
              "      <td>0.019509</td>\n",
              "      <td>B</td>\n",
              "      <td>B</td>\n",
              "      <td>37</td>\n",
              "      <td>7687</td>\n",
              "      <td>11</td>\n",
              "      <td>176.0</td>\n",
              "      <td>5</td>\n",
              "      <td>5</td>\n",
              "      <td>B</td>\n",
              "      <td>366916.246494</td>\n",
              "    </tr>\n",
              "    <tr>\n",
              "      <th>24</th>\n",
              "      <td>4717</td>\n",
              "      <td>27</td>\n",
              "      <td>1.0</td>\n",
              "      <td>44.203947</td>\n",
              "      <td>NaN</td>\n",
              "      <td>0.0</td>\n",
              "      <td>2</td>\n",
              "      <td>0.0</td>\n",
              "      <td>1977</td>\n",
              "      <td>0.072158</td>\n",
              "      <td>B</td>\n",
              "      <td>B</td>\n",
              "      <td>2</td>\n",
              "      <td>629</td>\n",
              "      <td>1</td>\n",
              "      <td>NaN</td>\n",
              "      <td>0</td>\n",
              "      <td>0</td>\n",
              "      <td>A</td>\n",
              "      <td>135466.559958</td>\n",
              "    </tr>\n",
              "    <tr>\n",
              "      <th>25</th>\n",
              "      <td>4521</td>\n",
              "      <td>6</td>\n",
              "      <td>2.0</td>\n",
              "      <td>65.409965</td>\n",
              "      <td>NaN</td>\n",
              "      <td>1.0</td>\n",
              "      <td>18</td>\n",
              "      <td>1.0</td>\n",
              "      <td>1977</td>\n",
              "      <td>0.243205</td>\n",
              "      <td>B</td>\n",
              "      <td>B</td>\n",
              "      <td>5</td>\n",
              "      <td>1564</td>\n",
              "      <td>0</td>\n",
              "      <td>540.0</td>\n",
              "      <td>0</td>\n",
              "      <td>0</td>\n",
              "      <td>B</td>\n",
              "      <td>191205.272608</td>\n",
              "    </tr>\n",
              "  </tbody>\n",
              "</table>\n",
              "</div>\n",
              "      <button class=\"colab-df-convert\" onclick=\"convertToInteractive('df-f0b93105-3221-4737-977f-b3c7460bfb40')\"\n",
              "              title=\"Convert this dataframe to an interactive table.\"\n",
              "              style=\"display:none;\">\n",
              "        \n",
              "  <svg xmlns=\"http://www.w3.org/2000/svg\" height=\"24px\"viewBox=\"0 0 24 24\"\n",
              "       width=\"24px\">\n",
              "    <path d=\"M0 0h24v24H0V0z\" fill=\"none\"/>\n",
              "    <path d=\"M18.56 5.44l.94 2.06.94-2.06 2.06-.94-2.06-.94-.94-2.06-.94 2.06-2.06.94zm-11 1L8.5 8.5l.94-2.06 2.06-.94-2.06-.94L8.5 2.5l-.94 2.06-2.06.94zm10 10l.94 2.06.94-2.06 2.06-.94-2.06-.94-.94-2.06-.94 2.06-2.06.94z\"/><path d=\"M17.41 7.96l-1.37-1.37c-.4-.4-.92-.59-1.43-.59-.52 0-1.04.2-1.43.59L10.3 9.45l-7.72 7.72c-.78.78-.78 2.05 0 2.83L4 21.41c.39.39.9.59 1.41.59.51 0 1.02-.2 1.41-.59l7.78-7.78 2.81-2.81c.8-.78.8-2.07 0-2.86zM5.41 20L4 18.59l7.72-7.72 1.47 1.35L5.41 20z\"/>\n",
              "  </svg>\n",
              "      </button>\n",
              "      \n",
              "  <style>\n",
              "    .colab-df-container {\n",
              "      display:flex;\n",
              "      flex-wrap:wrap;\n",
              "      gap: 12px;\n",
              "    }\n",
              "\n",
              "    .colab-df-convert {\n",
              "      background-color: #E8F0FE;\n",
              "      border: none;\n",
              "      border-radius: 50%;\n",
              "      cursor: pointer;\n",
              "      display: none;\n",
              "      fill: #1967D2;\n",
              "      height: 32px;\n",
              "      padding: 0 0 0 0;\n",
              "      width: 32px;\n",
              "    }\n",
              "\n",
              "    .colab-df-convert:hover {\n",
              "      background-color: #E2EBFA;\n",
              "      box-shadow: 0px 1px 2px rgba(60, 64, 67, 0.3), 0px 1px 3px 1px rgba(60, 64, 67, 0.15);\n",
              "      fill: #174EA6;\n",
              "    }\n",
              "\n",
              "    [theme=dark] .colab-df-convert {\n",
              "      background-color: #3B4455;\n",
              "      fill: #D2E3FC;\n",
              "    }\n",
              "\n",
              "    [theme=dark] .colab-df-convert:hover {\n",
              "      background-color: #434B5C;\n",
              "      box-shadow: 0px 1px 3px 1px rgba(0, 0, 0, 0.15);\n",
              "      filter: drop-shadow(0px 1px 2px rgba(0, 0, 0, 0.3));\n",
              "      fill: #FFFFFF;\n",
              "    }\n",
              "  </style>\n",
              "\n",
              "      <script>\n",
              "        const buttonEl =\n",
              "          document.querySelector('#df-f0b93105-3221-4737-977f-b3c7460bfb40 button.colab-df-convert');\n",
              "        buttonEl.style.display =\n",
              "          google.colab.kernel.accessAllowed ? 'block' : 'none';\n",
              "\n",
              "        async function convertToInteractive(key) {\n",
              "          const element = document.querySelector('#df-f0b93105-3221-4737-977f-b3c7460bfb40');\n",
              "          const dataTable =\n",
              "            await google.colab.kernel.invokeFunction('convertToInteractive',\n",
              "                                                     [key], {});\n",
              "          if (!dataTable) return;\n",
              "\n",
              "          const docLinkHtml = 'Like what you see? Visit the ' +\n",
              "            '<a target=\"_blank\" href=https://colab.research.google.com/notebooks/data_table.ipynb>data table notebook</a>'\n",
              "            + ' to learn more about interactive tables.';\n",
              "          element.innerHTML = '';\n",
              "          dataTable['output_type'] = 'display_data';\n",
              "          await google.colab.output.renderOutput(dataTable, element);\n",
              "          const docLink = document.createElement('div');\n",
              "          docLink.innerHTML = docLinkHtml;\n",
              "          element.appendChild(docLink);\n",
              "        }\n",
              "      </script>\n",
              "    </div>\n",
              "  </div>\n",
              "  "
            ],
            "text/plain": [
              "      Id  DistrictId  Rooms  ...  Shops_1  Shops_2          Price\n",
              "17  1190           8    2.0  ...        5        B  186971.926566\n",
              "19   367          45    1.0  ...        2        B  250466.980777\n",
              "21  8471          20    3.0  ...        5        B  366916.246494\n",
              "24  4717          27    1.0  ...        0        A  135466.559958\n",
              "25  4521           6    2.0  ...        0        B  191205.272608\n",
              "\n",
              "[5 rows x 20 columns]"
            ]
          },
          "metadata": {},
          "execution_count": 314
        }
      ]
    },
    {
      "cell_type": "code",
      "source": [
        "(df_train['Floor'] > df_train['HouseFloor']).sum()"
      ],
      "metadata": {
        "colab": {
          "base_uri": "https://localhost:8080/"
        },
        "id": "qZDtpNaz74Qy",
        "outputId": "8ee6d11d-56ae-4bab-ca6c-8627312d9ffe"
      },
      "execution_count": null,
      "outputs": [
        {
          "output_type": "execute_result",
          "data": {
            "text/plain": [
              "1825"
            ]
          },
          "metadata": {},
          "execution_count": 315
        }
      ]
    },
    {
      "cell_type": "markdown",
      "source": [
        "Также у нас есть 1825 значений таких, что этаж, на котором расположена квартира, превышает количество этажей в доме."
      ],
      "metadata": {
        "id": "pQWM_vkE8CwH"
      }
    },
    {
      "cell_type": "markdown",
      "source": [
        "Добавим новый столбец, в котором присвоим для наших выбросов значение 1. А для данных с неподозрительными значениями в новом столбце проставим 0."
      ],
      "metadata": {
        "id": "vLlUhtC7V-JU"
      }
    },
    {
      "cell_type": "code",
      "source": [
        "df_train['HouseFloor_outlier'] = 0\n",
        "df_train.loc[df_train['HouseFloor'] == 0, 'HouseFloor_outlier'] = 1\n",
        "df_train.loc[df_train['Floor'] > df_train['HouseFloor'], 'HouseFloor_outlier'] = 1\n",
        "df_train.loc[df_train['Floor'] > 75, 'HouseFloor_outlier'] = 1\n",
        "df_train.head()"
      ],
      "metadata": {
        "colab": {
          "base_uri": "https://localhost:8080/",
          "height": 206
        },
        "id": "vvF_TLj2ANo-",
        "outputId": "ab85533a-cb47-487c-bd88-450d484d214e"
      },
      "execution_count": null,
      "outputs": [
        {
          "output_type": "execute_result",
          "data": {
            "text/html": [
              "\n",
              "  <div id=\"df-db0d4c99-314b-4582-9844-6504524f9444\">\n",
              "    <div class=\"colab-df-container\">\n",
              "      <div>\n",
              "<style scoped>\n",
              "    .dataframe tbody tr th:only-of-type {\n",
              "        vertical-align: middle;\n",
              "    }\n",
              "\n",
              "    .dataframe tbody tr th {\n",
              "        vertical-align: top;\n",
              "    }\n",
              "\n",
              "    .dataframe thead th {\n",
              "        text-align: right;\n",
              "    }\n",
              "</style>\n",
              "<table border=\"1\" class=\"dataframe\">\n",
              "  <thead>\n",
              "    <tr style=\"text-align: right;\">\n",
              "      <th></th>\n",
              "      <th>Id</th>\n",
              "      <th>DistrictId</th>\n",
              "      <th>Rooms</th>\n",
              "      <th>Square</th>\n",
              "      <th>LifeSquare</th>\n",
              "      <th>KitchenSquare</th>\n",
              "      <th>Floor</th>\n",
              "      <th>HouseFloor</th>\n",
              "      <th>HouseYear</th>\n",
              "      <th>Ecology_1</th>\n",
              "      <th>Ecology_2</th>\n",
              "      <th>Ecology_3</th>\n",
              "      <th>Social_1</th>\n",
              "      <th>Social_2</th>\n",
              "      <th>Social_3</th>\n",
              "      <th>Healthcare_1</th>\n",
              "      <th>Helthcare_2</th>\n",
              "      <th>Shops_1</th>\n",
              "      <th>Shops_2</th>\n",
              "      <th>Price</th>\n",
              "      <th>HouseFloor_outlier</th>\n",
              "    </tr>\n",
              "  </thead>\n",
              "  <tbody>\n",
              "    <tr>\n",
              "      <th>0</th>\n",
              "      <td>11809</td>\n",
              "      <td>27</td>\n",
              "      <td>3.0</td>\n",
              "      <td>115.027311</td>\n",
              "      <td>NaN</td>\n",
              "      <td>10.0</td>\n",
              "      <td>4</td>\n",
              "      <td>10.0</td>\n",
              "      <td>2014</td>\n",
              "      <td>0.075424</td>\n",
              "      <td>B</td>\n",
              "      <td>B</td>\n",
              "      <td>11</td>\n",
              "      <td>3097</td>\n",
              "      <td>0</td>\n",
              "      <td>NaN</td>\n",
              "      <td>0</td>\n",
              "      <td>0</td>\n",
              "      <td>B</td>\n",
              "      <td>305018.871089</td>\n",
              "      <td>0</td>\n",
              "    </tr>\n",
              "    <tr>\n",
              "      <th>1</th>\n",
              "      <td>3013</td>\n",
              "      <td>22</td>\n",
              "      <td>1.0</td>\n",
              "      <td>39.832524</td>\n",
              "      <td>23.169223</td>\n",
              "      <td>8.0</td>\n",
              "      <td>7</td>\n",
              "      <td>8.0</td>\n",
              "      <td>1966</td>\n",
              "      <td>0.118537</td>\n",
              "      <td>B</td>\n",
              "      <td>B</td>\n",
              "      <td>30</td>\n",
              "      <td>6207</td>\n",
              "      <td>1</td>\n",
              "      <td>1183.0</td>\n",
              "      <td>1</td>\n",
              "      <td>0</td>\n",
              "      <td>B</td>\n",
              "      <td>177734.553407</td>\n",
              "      <td>0</td>\n",
              "    </tr>\n",
              "    <tr>\n",
              "      <th>2</th>\n",
              "      <td>8215</td>\n",
              "      <td>1</td>\n",
              "      <td>3.0</td>\n",
              "      <td>78.342215</td>\n",
              "      <td>47.671972</td>\n",
              "      <td>10.0</td>\n",
              "      <td>2</td>\n",
              "      <td>17.0</td>\n",
              "      <td>1988</td>\n",
              "      <td>0.025609</td>\n",
              "      <td>B</td>\n",
              "      <td>B</td>\n",
              "      <td>33</td>\n",
              "      <td>5261</td>\n",
              "      <td>0</td>\n",
              "      <td>240.0</td>\n",
              "      <td>3</td>\n",
              "      <td>1</td>\n",
              "      <td>B</td>\n",
              "      <td>282078.720850</td>\n",
              "      <td>0</td>\n",
              "    </tr>\n",
              "    <tr>\n",
              "      <th>3</th>\n",
              "      <td>2352</td>\n",
              "      <td>1</td>\n",
              "      <td>1.0</td>\n",
              "      <td>40.409907</td>\n",
              "      <td>NaN</td>\n",
              "      <td>1.0</td>\n",
              "      <td>10</td>\n",
              "      <td>22.0</td>\n",
              "      <td>1977</td>\n",
              "      <td>0.007122</td>\n",
              "      <td>B</td>\n",
              "      <td>B</td>\n",
              "      <td>1</td>\n",
              "      <td>264</td>\n",
              "      <td>0</td>\n",
              "      <td>NaN</td>\n",
              "      <td>0</td>\n",
              "      <td>1</td>\n",
              "      <td>B</td>\n",
              "      <td>168106.007630</td>\n",
              "      <td>0</td>\n",
              "    </tr>\n",
              "    <tr>\n",
              "      <th>4</th>\n",
              "      <td>13866</td>\n",
              "      <td>94</td>\n",
              "      <td>2.0</td>\n",
              "      <td>64.285067</td>\n",
              "      <td>38.562517</td>\n",
              "      <td>9.0</td>\n",
              "      <td>16</td>\n",
              "      <td>16.0</td>\n",
              "      <td>1972</td>\n",
              "      <td>0.282798</td>\n",
              "      <td>B</td>\n",
              "      <td>B</td>\n",
              "      <td>33</td>\n",
              "      <td>8667</td>\n",
              "      <td>2</td>\n",
              "      <td>NaN</td>\n",
              "      <td>0</td>\n",
              "      <td>6</td>\n",
              "      <td>B</td>\n",
              "      <td>343995.102962</td>\n",
              "      <td>0</td>\n",
              "    </tr>\n",
              "  </tbody>\n",
              "</table>\n",
              "</div>\n",
              "      <button class=\"colab-df-convert\" onclick=\"convertToInteractive('df-db0d4c99-314b-4582-9844-6504524f9444')\"\n",
              "              title=\"Convert this dataframe to an interactive table.\"\n",
              "              style=\"display:none;\">\n",
              "        \n",
              "  <svg xmlns=\"http://www.w3.org/2000/svg\" height=\"24px\"viewBox=\"0 0 24 24\"\n",
              "       width=\"24px\">\n",
              "    <path d=\"M0 0h24v24H0V0z\" fill=\"none\"/>\n",
              "    <path d=\"M18.56 5.44l.94 2.06.94-2.06 2.06-.94-2.06-.94-.94-2.06-.94 2.06-2.06.94zm-11 1L8.5 8.5l.94-2.06 2.06-.94-2.06-.94L8.5 2.5l-.94 2.06-2.06.94zm10 10l.94 2.06.94-2.06 2.06-.94-2.06-.94-.94-2.06-.94 2.06-2.06.94z\"/><path d=\"M17.41 7.96l-1.37-1.37c-.4-.4-.92-.59-1.43-.59-.52 0-1.04.2-1.43.59L10.3 9.45l-7.72 7.72c-.78.78-.78 2.05 0 2.83L4 21.41c.39.39.9.59 1.41.59.51 0 1.02-.2 1.41-.59l7.78-7.78 2.81-2.81c.8-.78.8-2.07 0-2.86zM5.41 20L4 18.59l7.72-7.72 1.47 1.35L5.41 20z\"/>\n",
              "  </svg>\n",
              "      </button>\n",
              "      \n",
              "  <style>\n",
              "    .colab-df-container {\n",
              "      display:flex;\n",
              "      flex-wrap:wrap;\n",
              "      gap: 12px;\n",
              "    }\n",
              "\n",
              "    .colab-df-convert {\n",
              "      background-color: #E8F0FE;\n",
              "      border: none;\n",
              "      border-radius: 50%;\n",
              "      cursor: pointer;\n",
              "      display: none;\n",
              "      fill: #1967D2;\n",
              "      height: 32px;\n",
              "      padding: 0 0 0 0;\n",
              "      width: 32px;\n",
              "    }\n",
              "\n",
              "    .colab-df-convert:hover {\n",
              "      background-color: #E2EBFA;\n",
              "      box-shadow: 0px 1px 2px rgba(60, 64, 67, 0.3), 0px 1px 3px 1px rgba(60, 64, 67, 0.15);\n",
              "      fill: #174EA6;\n",
              "    }\n",
              "\n",
              "    [theme=dark] .colab-df-convert {\n",
              "      background-color: #3B4455;\n",
              "      fill: #D2E3FC;\n",
              "    }\n",
              "\n",
              "    [theme=dark] .colab-df-convert:hover {\n",
              "      background-color: #434B5C;\n",
              "      box-shadow: 0px 1px 3px 1px rgba(0, 0, 0, 0.15);\n",
              "      filter: drop-shadow(0px 1px 2px rgba(0, 0, 0, 0.3));\n",
              "      fill: #FFFFFF;\n",
              "    }\n",
              "  </style>\n",
              "\n",
              "      <script>\n",
              "        const buttonEl =\n",
              "          document.querySelector('#df-db0d4c99-314b-4582-9844-6504524f9444 button.colab-df-convert');\n",
              "        buttonEl.style.display =\n",
              "          google.colab.kernel.accessAllowed ? 'block' : 'none';\n",
              "\n",
              "        async function convertToInteractive(key) {\n",
              "          const element = document.querySelector('#df-db0d4c99-314b-4582-9844-6504524f9444');\n",
              "          const dataTable =\n",
              "            await google.colab.kernel.invokeFunction('convertToInteractive',\n",
              "                                                     [key], {});\n",
              "          if (!dataTable) return;\n",
              "\n",
              "          const docLinkHtml = 'Like what you see? Visit the ' +\n",
              "            '<a target=\"_blank\" href=https://colab.research.google.com/notebooks/data_table.ipynb>data table notebook</a>'\n",
              "            + ' to learn more about interactive tables.';\n",
              "          element.innerHTML = '';\n",
              "          dataTable['output_type'] = 'display_data';\n",
              "          await google.colab.output.renderOutput(dataTable, element);\n",
              "          const docLink = document.createElement('div');\n",
              "          docLink.innerHTML = docLinkHtml;\n",
              "          element.appendChild(docLink);\n",
              "        }\n",
              "      </script>\n",
              "    </div>\n",
              "  </div>\n",
              "  "
            ],
            "text/plain": [
              "      Id  DistrictId  Rooms  ...  Shops_2          Price  HouseFloor_outlier\n",
              "0  11809          27    3.0  ...        B  305018.871089                   0\n",
              "1   3013          22    1.0  ...        B  177734.553407                   0\n",
              "2   8215           1    3.0  ...        B  282078.720850                   0\n",
              "3   2352           1    1.0  ...        B  168106.007630                   0\n",
              "4  13866          94    2.0  ...        B  343995.102962                   0\n",
              "\n",
              "[5 rows x 21 columns]"
            ]
          },
          "metadata": {},
          "execution_count": 316
        }
      ]
    },
    {
      "cell_type": "markdown",
      "source": [
        "Заменим значение 0 этажа на 1."
      ],
      "metadata": {
        "id": "cZ5gSe8QUyKQ"
      }
    },
    {
      "cell_type": "code",
      "source": [
        "# df_train.loc[df_train['HouseFloor'] == 0, 'HouseFloor'] = df_train['HouseFloor'].median()\n",
        "df_train.loc[df_train['HouseFloor'] == 0, 'HouseFloor'] = 1"
      ],
      "metadata": {
        "id": "hJePbY6yUJS5"
      },
      "execution_count": null,
      "outputs": []
    },
    {
      "cell_type": "code",
      "source": [
        "df_train.corr()['Price'][['Floor', 'HouseFloor']]"
      ],
      "metadata": {
        "colab": {
          "base_uri": "https://localhost:8080/"
        },
        "id": "MpyvG-lMUTJ9",
        "outputId": "b880a854-d187-488e-84ba-0dede224dd19"
      },
      "execution_count": null,
      "outputs": [
        {
          "output_type": "execute_result",
          "data": {
            "text/plain": [
              "Floor         0.128715\n",
              "HouseFloor    0.088494\n",
              "Name: Price, dtype: float64"
            ]
          },
          "metadata": {},
          "execution_count": 318
        }
      ]
    },
    {
      "cell_type": "code",
      "source": [
        "df_train.loc[df_train['HouseFloor'] > 75, 'HouseFloor'] = house_floor_mode_1977"
      ],
      "metadata": {
        "id": "SugmqpduWaPS"
      },
      "execution_count": null,
      "outputs": []
    },
    {
      "cell_type": "code",
      "source": [
        "df_train.corr()['Price'][['Floor', 'HouseFloor']]"
      ],
      "metadata": {
        "colab": {
          "base_uri": "https://localhost:8080/"
        },
        "id": "QKyUqLbEWyTv",
        "outputId": "e78c3389-d2e7-4a6e-dd61-5b47c340d421"
      },
      "execution_count": null,
      "outputs": [
        {
          "output_type": "execute_result",
          "data": {
            "text/plain": [
              "Floor         0.128715\n",
              "HouseFloor    0.089736\n",
              "Name: Price, dtype: float64"
            ]
          },
          "metadata": {},
          "execution_count": 320
        }
      ]
    },
    {
      "cell_type": "markdown",
      "source": [
        "Поменяем местами этажность дома и этаж на котором находится квартира. Это работает чуть лучше, чем просто поставить рандомный этаж от 1 до максмума."
      ],
      "metadata": {
        "id": "rMptTUeQbOcY"
      }
    },
    {
      "cell_type": "code",
      "source": [
        "floors_index_outliers = df_train[df_train['HouseFloor'] < df_train['Floor']].index\n",
        "df_train.loc[floors_index_outliers, 'Floor'], df_train.loc[floors_index_outliers, 'HouseFloor'] = df_train.loc[floors_index_outliers, 'HouseFloor'], df_train.loc[floors_index_outliers, 'Floor']"
      ],
      "metadata": {
        "id": "qKh6VkjAYrgM"
      },
      "execution_count": null,
      "outputs": []
    },
    {
      "cell_type": "code",
      "source": [
        "df_train.corr()['Price'][['Floor', 'HouseFloor']]"
      ],
      "metadata": {
        "colab": {
          "base_uri": "https://localhost:8080/"
        },
        "id": "9dO22e3yZE_C",
        "outputId": "0739bd55-8085-4f00-e237-b525448ecd78"
      },
      "execution_count": null,
      "outputs": [
        {
          "output_type": "execute_result",
          "data": {
            "text/plain": [
              "Floor         0.110054\n",
              "HouseFloor    0.115803\n",
              "Name: Price, dtype: float64"
            ]
          },
          "metadata": {},
          "execution_count": 322
        }
      ]
    },
    {
      "cell_type": "markdown",
      "source": [
        ""
      ],
      "metadata": {
        "id": "UIk4-CIFbM64"
      }
    },
    {
      "cell_type": "code",
      "source": [
        "# df_train.loc[floors_index_outliers, 'Floor'] = df_train.loc[floors_index_outliers, 'HouseFloor'].apply(lambda x: random.randint(1, x))"
      ],
      "metadata": {
        "id": "qeB6_o5jYfGE"
      },
      "execution_count": null,
      "outputs": []
    },
    {
      "cell_type": "code",
      "source": [
        "df_train.corr()['Price'][['Floor', 'HouseFloor']]"
      ],
      "metadata": {
        "colab": {
          "base_uri": "https://localhost:8080/"
        },
        "id": "BNnQ39MGZQaq",
        "outputId": "ae4f3a2b-c3dc-4609-ed77-65563558c4f3"
      },
      "execution_count": null,
      "outputs": [
        {
          "output_type": "execute_result",
          "data": {
            "text/plain": [
              "Floor         0.103166\n",
              "HouseFloor    0.089736\n",
              "Name: Price, dtype: float64"
            ]
          },
          "metadata": {},
          "execution_count": 301
        }
      ]
    },
    {
      "cell_type": "code",
      "source": [
        "plt.figure(figsize=(4, 4))\n",
        "sns.boxplot(df_train['HouseFloor'], whis=1.5, orient='h')"
      ],
      "metadata": {
        "colab": {
          "base_uri": "https://localhost:8080/",
          "height": 306
        },
        "id": "xymXhIJ2cBcO",
        "outputId": "38951078-2b65-4b41-93d7-13951683ba32"
      },
      "execution_count": null,
      "outputs": [
        {
          "output_type": "execute_result",
          "data": {
            "text/plain": [
              "<matplotlib.axes._subplots.AxesSubplot at 0x7f46425bbf50>"
            ]
          },
          "metadata": {},
          "execution_count": 323
        },
        {
          "output_type": "display_data",
          "data": {
            "image/png": "[encoded data removed]",
            "text/plain": [
              "<Figure size 288x288 with 1 Axes>"
            ]
          },
          "metadata": {
            "needs_background": "light"
          }
        }
      ]
    },
    {
      "cell_type": "markdown",
      "source": [
        "## Обработка отстутсвующих значений."
      ],
      "metadata": {
        "id": "8N4TDxAXgb7w"
      }
    },
    {
      "cell_type": "markdown",
      "source": [
        "Составим карту отсутствующих значений."
      ],
      "metadata": {
        "id": "h12QdF6hc9Ka"
      }
    },
    {
      "cell_type": "code",
      "source": [
        "# cols = df_train.columns[:30] # первые 30 колонок\n",
        "# определяем цвета \n",
        "# желтый - пропущенные данные, синий - не пропущенные\n",
        "colours = ['#000099', '#ffff00'] \n",
        "sns.heatmap(df_train[df_train.columns].isnull(), cmap=sns.color_palette(colours))"
      ],
      "metadata": {
        "colab": {
          "base_uri": "https://localhost:8080/",
          "height": 370
        },
        "id": "PIgSbGldaypC",
        "outputId": "6060ce1d-8dc8-4408-98ca-014fd9ca77ea"
      },
      "execution_count": null,
      "outputs": [
        {
          "output_type": "execute_result",
          "data": {
            "text/plain": [
              "<matplotlib.axes._subplots.AxesSubplot at 0x7f4640c97450>"
            ]
          },
          "metadata": {},
          "execution_count": 391
        },
        {
          "output_type": "display_data",
          "data": {
            "image/png": "[encoded data removed]",
            "text/plain": [
              "<Figure size 432x288 with 2 Axes>"
            ]
          },
          "metadata": {
            "needs_background": "light"
          }
        }
      ]
    },
    {
      "cell_type": "markdown",
      "source": [
        "Видно, что у нас есть отсутствующие значения в признаках LifeSquare и Healthcare_1. Найдём долю отсутсвующих значений в по признакам.\n",
        "\n",
        "Стоит помнить, что в случае, если пропусков у признака слишком много (более 70%), такой признак удаляют. Проверим, насколько полны наши признаки: метод isnull() пройдется по каждой ячейке каждого столбца и определит, кто пуст, а кто нет, составив датафрейм такого же размера, состоящий из True / False. Метод mean() суммирует все значения True, определит концентрацию пропусков в каждом столбце. На 100 мы умножаем, чтобы получить значение в процентах:"
      ],
      "metadata": {
        "id": "r0eB0HPqrwLp"
      }
    },
    {
      "cell_type": "code",
      "source": [
        "# df_train.isnull().mean() * 100\n",
        "colums_with_na = ['LifeSquare', 'Healthcare_1']\n",
        "\n",
        "# for col in df_train.columns:\n",
        "#     # pct_missing = np.mean(df_train[col].isnull())\n",
        "#     print('{} - {}%'.format(col, round(np.mean(df_train[col].isnull()) * 100, 2)))\n",
        "\n",
        "for col in colums_with_na:\n",
        "    # pct_missing = np.mean(df_train[col].isnull())\n",
        "    print('{} - {}%'.format(col, round(np.mean(df_train[col].isnull()) * 100, 2)))  "
      ],
      "metadata": {
        "colab": {
          "base_uri": "https://localhost:8080/"
        },
        "id": "J6YnQoEXWQfW",
        "outputId": "413d9014-2606-4ea4-8c26-0da1e5a74385"
      },
      "execution_count": null,
      "outputs": [
        {
          "output_type": "stream",
          "name": "stdout",
          "text": [
            "LifeSquare - 21.13%\n",
            "Healthcare_1 - 47.98%\n"
          ]
        }
      ]
    },
    {
      "cell_type": "markdown",
      "source": [
        "Можем вспомнить слабую корреляцию Healthcare_1 с остальными фичами и, учитывая большое количество пропусков данных в этой фиче, удалим этот столбец."
      ],
      "metadata": {
        "id": "UR_IgsqBodCo"
      }
    },
    {
      "cell_type": "markdown",
      "source": [
        "В данном случае у нас нет признаков с более 70 процентами пропусков, таких, что мы могли бы выбросить\n",
        "\n",
        "https://www.helenkapatsa.ru/razvedochnyy-analiz-dannykh-chast-1/"
      ],
      "metadata": {
        "id": "cauFrzEFt-ti"
      }
    },
    {
      "cell_type": "code",
      "source": [
        "round(df_train.corr()['Healthcare_1'].sort_values(), 3)"
      ],
      "metadata": {
        "colab": {
          "base_uri": "https://localhost:8080/"
        },
        "id": "nAefCV9_oaP6",
        "outputId": "efd1adac-ce19-4da4-bee9-d22d94c726f1"
      },
      "execution_count": null,
      "outputs": [
        {
          "output_type": "execute_result",
          "data": {
            "text/plain": [
              "HouseFloor      -0.144\n",
              "Floor           -0.138\n",
              "Ecology_1       -0.044\n",
              "Square          -0.040\n",
              "LifeSquare      -0.027\n",
              "HouseYear       -0.012\n",
              "KitchenSquare    0.009\n",
              "Rooms            0.043\n",
              "Social_2         0.050\n",
              "Shops_1          0.058\n",
              "Social_1         0.077\n",
              "Social_3         0.134\n",
              "Price            0.139\n",
              "Helthcare_2      0.203\n",
              "Healthcare_1     1.000\n",
              "Name: Healthcare_1, dtype: float64"
            ]
          },
          "metadata": {},
          "execution_count": 74
        }
      ]
    },
    {
      "cell_type": "code",
      "source": [
        "df_train = df_train.drop(['Healthcare_1'], axis = 1)"
      ],
      "metadata": {
        "id": "_C7kk_uEov2K"
      },
      "execution_count": null,
      "outputs": []
    }
  ]
}